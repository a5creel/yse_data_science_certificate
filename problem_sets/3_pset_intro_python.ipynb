{
 "cells": [
  {
   "cell_type": "markdown",
   "id": "10c1a52d",
   "metadata": {
    "nbgrader": {
     "grade": false,
     "grade_id": "cell-619a2361ea0b9d9d",
     "locked": true,
     "schema_version": 3,
     "solution": false,
     "task": false
    }
   },
   "source": [
    "# Data Foundations -- Problem Set 3: Intro to Python¶\n",
    "In this problem set, you will revisit some basic concepts that were first introduced in Module 2 in R. Now, you will be writing Python code to solve similar tasks. This problem set highlights how \"coding is coding,\" meaning most times, you can solve the same problem with different coding languages. Often, it's your preference (or your team's) that determines which language you code in.\n",
    "\n",
    "As always, use sources like Google, Stack Overflow, documentation, and other forums for help. Try to avoid AI in order to develop your own ability to conceptualize solution strategies.\n",
    "\n",
    "## Question One (1 Point) \n",
    "Create two numeric variables named var_a and var_b and assign any numeric value to them. Create a third numeric variable named var_c and assign the value of var_a multiplied by var_b to it."
   ]
  },
  {
   "cell_type": "code",
   "execution_count": 33,
   "id": "2d483309",
   "metadata": {
    "nbgrader": {
     "grade": false,
     "grade_id": "cell-de9deef201587fcf",
     "locked": false,
     "schema_version": 3,
     "solution": true,
     "task": false
    }
   },
   "outputs": [],
   "source": [
    "\n",
    "### BEGIN SOLUTION \n",
    "var_a = 2\n",
    "var_b = 3 \n",
    "var_c = var_a * var_b\n",
    "### END SOLUTION "
   ]
  },
  {
   "cell_type": "code",
   "execution_count": 34,
   "id": "be62b416",
   "metadata": {
    "nbgrader": {
     "grade": true,
     "grade_id": "cell-75334516bb55a9dc",
     "locked": true,
     "points": 1,
     "schema_version": 3,
     "solution": false,
     "task": false
    }
   },
   "outputs": [],
   "source": [
    "assert var_c == var_a * var_b, \"var_c doesn't equal var_a * var_b\""
   ]
  },
  {
   "cell_type": "markdown",
   "id": "26145c03",
   "metadata": {
    "nbgrader": {
     "grade": false,
     "grade_id": "cell-36a1da7bb34efbe6",
     "locked": true,
     "schema_version": 3,
     "solution": false,
     "task": false
    }
   },
   "source": [
    "## Question Two\n",
    "\n",
    "Let's work with a vector in Python. To do so we will need to import the `numpy` package by running the following cell block. \n"
   ]
  },
  {
   "cell_type": "code",
   "execution_count": 35,
   "id": "a3aa46a6",
   "metadata": {
    "nbgrader": {
     "grade": false,
     "grade_id": "cell-c35f3e389f2016cd",
     "locked": true,
     "schema_version": 3,
     "solution": false,
     "task": false
    }
   },
   "outputs": [],
   "source": [
    "# import numpy (dont forget to run this cell block)\n",
    "import numpy as np "
   ]
  },
  {
   "cell_type": "markdown",
   "id": "24ce58f3",
   "metadata": {
    "nbgrader": {
     "grade": false,
     "grade_id": "cell-0825a7b4690fe983",
     "locked": true,
     "schema_version": 3,
     "solution": false,
     "task": false
    }
   },
   "source": [
    "### Part A (4 Points)\n",
    "\n",
    "Comput the mean and sum of the following vector. Store the mean in a variable named `my_mean` and the sum in a variable named `my_sum`. "
   ]
  },
  {
   "cell_type": "code",
   "execution_count": 36,
   "id": "1a71007e",
   "metadata": {
    "nbgrader": {
     "grade": false,
     "grade_id": "cell-7274737e9f3e0a46",
     "locked": true,
     "schema_version": 3,
     "solution": false,
     "task": false
    }
   },
   "outputs": [
    {
     "data": {
      "text/plain": [
       "[1, 2, 3, 4, 5]"
      ]
     },
     "execution_count": 36,
     "metadata": {},
     "output_type": "execute_result"
    }
   ],
   "source": [
    "# work with the following vector (dont forget to run this line)\n",
    "vec = [1,2,3,4,5]\n",
    "\n",
    "# print values in the vector \n",
    "vec"
   ]
  },
  {
   "cell_type": "code",
   "execution_count": 37,
   "id": "895e5a11",
   "metadata": {
    "nbgrader": {
     "grade": false,
     "grade_id": "cell-653239fe29b5d894",
     "locked": false,
     "schema_version": 3,
     "solution": true,
     "task": false
    }
   },
   "outputs": [
    {
     "data": {
      "text/plain": [
       "3.0"
      ]
     },
     "execution_count": 37,
     "metadata": {},
     "output_type": "execute_result"
    }
   ],
   "source": [
    "# calculate the mean of vec using the numpy package\n",
    "### BEGIN SOLUTION \n",
    "my_mean = np.mean(vec)\n",
    "### END SOLUTION \n",
    "\n",
    "# print mean \n",
    "my_mean"
   ]
  },
  {
   "cell_type": "code",
   "execution_count": 38,
   "id": "12cee923",
   "metadata": {
    "nbgrader": {
     "grade": true,
     "grade_id": "cell-25799336b38a26b6",
     "locked": true,
     "points": 1,
     "schema_version": 3,
     "solution": false,
     "task": false
    }
   },
   "outputs": [],
   "source": [
    "# test Q2 part A \n",
    "assert my_mean == 3, \"the variable my_mean doesn't equal the mean of the vector named vec\""
   ]
  },
  {
   "cell_type": "markdown",
   "id": "0c260b41",
   "metadata": {
    "nbgrader": {
     "grade": false,
     "grade_id": "cell-ab8d57382d0281c2",
     "locked": true,
     "schema_version": 3,
     "solution": false,
     "task": false
    }
   },
   "source": [
    "### Part B \n",
    "For a moment, let's leave the vector `vec` aside. In this part, finish writing a function called `get_square()` that takes a value and returns that same value squarred. Test it by using the function to get $3^2$. Store the result in a variable called `my_nine`."
   ]
  },
  {
   "cell_type": "code",
   "execution_count": 39,
   "id": "796c1884",
   "metadata": {
    "nbgrader": {
     "grade": false,
     "grade_id": "cell-70e721899b6dd570",
     "locked": false,
     "schema_version": 3,
     "solution": true,
     "task": false
    }
   },
   "outputs": [
    {
     "data": {
      "text/plain": [
       "9"
      ]
     },
     "execution_count": 39,
     "metadata": {},
     "output_type": "execute_result"
    }
   ],
   "source": [
    "# define function \n",
    "def get_square(x): \n",
    "    ### BEGIN SOLUTION \n",
    "    y = x**2\n",
    "    return(y)\n",
    "    ### END SOLUTION \n",
    "    \n",
    "# test by finding 3^2 using get_square\n",
    "my_nine = get_square(3)\n",
    "\n",
    "# print value of my_nine \n",
    "my_nine"
   ]
  },
  {
   "cell_type": "code",
   "execution_count": 40,
   "id": "1037e032",
   "metadata": {
    "nbgrader": {
     "grade": true,
     "grade_id": "cell-bd53aaf6898c5269",
     "locked": true,
     "points": 1,
     "schema_version": 3,
     "solution": false,
     "task": false
    }
   },
   "outputs": [],
   "source": [
    "# test Q2 part B\n",
    "assert my_nine == 9, \"your function must not be working because get_square(3) should return nine\""
   ]
  },
  {
   "cell_type": "markdown",
   "id": "3300188c",
   "metadata": {
    "nbgrader": {
     "grade": false,
     "grade_id": "cell-3ad772fe6719c38e",
     "locked": true,
     "schema_version": 3,
     "solution": false,
     "task": false
    }
   },
   "source": [
    "### Part C \n",
    "Let's return to `vec`. In this part, you will square each element in the vector `vec`. Use your function from part B to do so. This requires \"intializing\" a new vector where the values of the squarred elements can be stored. It then requires using a loop to iterate through each element of `vec`, square it, then store that value in the new vector. Let's called the new vector `vec_squares`. "
   ]
  },
  {
   "cell_type": "code",
   "execution_count": 41,
   "id": "1b1c016f",
   "metadata": {},
   "outputs": [
    {
     "data": {
      "text/plain": [
       "[None, None, None, None, None]"
      ]
     },
     "execution_count": 41,
     "metadata": {},
     "output_type": "execute_result"
    }
   ],
   "source": [
    " # initialize vec_squares (don't forget to run this)\n",
    "vec_squares = [None]*5\n",
    "\n",
    "# print intialized vector \n",
    "vec_squares"
   ]
  },
  {
   "cell_type": "markdown",
   "id": "21e6d664",
   "metadata": {
    "nbgrader": {
     "grade": false,
     "grade_id": "cell-67b1fc8f4baacbeb",
     "locked": true,
     "schema_version": 3,
     "solution": false,
     "task": false
    }
   },
   "source": [
    "Remember that Pyton's indexing starts at 0, not 1. So, the first element of the vector is in the \"zeroth\" position. Because our vector `vec` is 5 elements long, that means we will reference the zeroth through fourth positions. When writing a for loop, the range we're iterating through (in this case) is 0 through 5 because the fifth position is the cutoff. If you're used to math notation, you can thing of `range(0,5)` as equal to $[0,5)$ where the square bracket symbolizes 0 is included, and the closed parenthese indicates all numbers **until** 5 are included. \n",
    "\n",
    "Fill in the loop below to get the squarred elements of `vec` and storing them in the correct positions of `vec_squares`."
   ]
  },
  {
   "cell_type": "code",
   "execution_count": 45,
   "id": "c4a0f3f7",
   "metadata": {
    "nbgrader": {
     "grade": false,
     "grade_id": "cell-3f8d1053e65e571f",
     "locked": false,
     "schema_version": 3,
     "solution": true,
     "task": false
    }
   },
   "outputs": [
    {
     "data": {
      "text/plain": [
       "11.0"
      ]
     },
     "execution_count": 45,
     "metadata": {},
     "output_type": "execute_result"
    }
   ],
   "source": [
    "# Finish the loop to square elements of vec and store them in vec_squares \n",
    "for i in range(0, 5):\n",
    "    ### BEGIN SOLUTION \n",
    "    vec_squares[i] = get_square(vec[i])\n",
    "    ### END SOLUTION \n",
    "    \n",
    "# print vec_squares\n",
    "vec_squares\n",
    "\n",
    "np.mean(vec_squares)"
   ]
  },
  {
   "cell_type": "code",
   "execution_count": 46,
   "id": "20fc105a",
   "metadata": {
    "nbgrader": {
     "grade": true,
     "grade_id": "cell-4b36b158d7e14db1",
     "locked": true,
     "points": 2,
     "schema_version": 3,
     "solution": false,
     "task": false
    }
   },
   "outputs": [],
   "source": [
    "# test Q2 Part 3 \n",
    "assert np.mean(vec_squares) == 11, \"Your vec_squares doesn't seem to be holding the 5 squared elements of vector named vec from part A.\""
   ]
  },
  {
   "cell_type": "markdown",
   "id": "a6af6177",
   "metadata": {
    "nbgrader": {
     "grade": false,
     "grade_id": "cell-3c956738a211de17",
     "locked": true,
     "schema_version": 3,
     "solution": false,
     "task": false
    }
   },
   "source": [
    "## Question 3 (3 points)\n",
    "Practice writing code from scrath! In this problem you are asked to use a for loop and and if-else statement. \n",
    "\n",
    "Recall our vector `vec = [1,2,3,4,5]`. Using a for loop and an if-else statement, iterate through each element of `vec`. If the value stored in the ith position is even, replace the element's value with `999`. Otherwise, leave it the same. "
   ]
  },
  {
   "cell_type": "code",
   "execution_count": 54,
   "id": "bdc0d7a7",
   "metadata": {
    "nbgrader": {
     "grade": false,
     "grade_id": "cell-20276d34b0bb4fad",
     "locked": false,
     "schema_version": 3,
     "solution": true,
     "task": false
    }
   },
   "outputs": [
    {
     "data": {
      "text/plain": [
       "[1, 999, 3, 999, 5]"
      ]
     },
     "execution_count": 54,
     "metadata": {},
     "output_type": "execute_result"
    }
   ],
   "source": [
    "# original vector \n",
    "vec = [1,2,3,4,5]\n",
    "\n",
    "# write your for loop here to edit vec \n",
    "### BEGIN SOLUTION \n",
    "for i in range(0,5): \n",
    "    if vec[i]%2 == 0: \n",
    "        vec[i] = 999\n",
    "    else: \n",
    "        vec[i] = vec[i]\n",
    "### END SOLUTION \n",
    "\n",
    "# print an edited vec \n",
    "vec"
   ]
  },
  {
   "cell_type": "code",
   "execution_count": 55,
   "id": "051213aa",
   "metadata": {
    "nbgrader": {
     "grade": true,
     "grade_id": "cell-fe80fdb5dc868e98",
     "locked": true,
     "points": 3,
     "schema_version": 3,
     "solution": false,
     "task": false
    }
   },
   "outputs": [],
   "source": [
    "assert vec == [1, 999, 3, 999, 5], \"You haven't relaced the values 2 and 4 with 999 correctly. These are in the 1st and 3rd positions (since indexing starts at 0)\""
   ]
  }
 ],
 "metadata": {
  "celltoolbar": "Create Assignment",
  "kernelspec": {
   "display_name": "Python 3 (ipykernel)",
   "language": "python",
   "name": "python3"
  },
  "language_info": {
   "codemirror_mode": {
    "name": "ipython",
    "version": 3
   },
   "file_extension": ".py",
   "mimetype": "text/x-python",
   "name": "python",
   "nbconvert_exporter": "python",
   "pygments_lexer": "ipython3",
   "version": "3.10.6"
  }
 },
 "nbformat": 4,
 "nbformat_minor": 5
}
