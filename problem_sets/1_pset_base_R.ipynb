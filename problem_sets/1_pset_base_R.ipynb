{
 "cells": [
  {
   "cell_type": "markdown",
   "id": "12bb3d13",
   "metadata": {
    "nbgrader": {
     "grade": false,
     "grade_id": "cell-b55669b00ff7e6e1",
     "locked": true,
     "schema_version": 3,
     "solution": false,
     "task": false
    }
   },
   "source": [
    "# Data Foundations -- Problem Set 1: Base R \n",
    "This problem set should take 60 to 90 minutes. If you feel like you’re struggling, don’t get discouraged. Struggling through a problem is an import par of developing your own intution and solution strategies! Remember to use external resources like Google, R documentation, and Stack Overflow. \n",
    "\n",
    "Please avoid using AI. Use this problem set as an opportunity to develop your own intution and problem solving skills.  \n",
    "\n",
    "This is an auto-graded problem set for you to test what you have learned about Base R. It consists of markdown blocks (like what you're currently reading) and various code blocks. There are code blocks that you will edit and complete. Those blocks are followed by \"test\" code blocks where the Jupyter Notebook will evaluate if the answer you coded works/is correct. \n",
    "\n",
    "A couple of tips: \n",
    "\n",
    "- Remember to run all the code blocks, even the ones you're not writing your answer in. For example, in the first problem, you need to make sure `my_vec  <- c(1,2,3,4,5)` has been run before you try to take the mean of `my_vec`.\n",
    "\n",
    "\n",
    "## Question 1: Working with Vectors (2 points)\n",
    "Below, you are provided a vector. Calculate the mean of the vector and the sum of the vector. You MUST store the mean in a variable called `my_mean` and the value of the sum in a variable called `my_sum` to get the points. \n"
   ]
  },
  {
   "cell_type": "code",
   "execution_count": 1,
   "id": "d4037b79",
   "metadata": {
    "nbgrader": {
     "grade": false,
     "grade_id": "cell-7087a4ba3b469d35",
     "locked": true,
     "schema_version": 3,
     "solution": false,
     "task": false
    },
    "vscode": {
     "languageId": "r"
    }
   },
   "outputs": [],
   "source": [
    "# Work with the following vector to calculate it's mean and sum \n",
    "my_vec  <- c(1,2,3,4,5)"
   ]
  },
  {
   "cell_type": "code",
   "execution_count": 2,
   "id": "1750ae02",
   "metadata": {
    "nbgrader": {
     "grade": false,
     "grade_id": "cell-4c447646950272c4",
     "locked": false,
     "schema_version": 3,
     "solution": true,
     "task": false
    },
    "vscode": {
     "languageId": "r"
    }
   },
   "outputs": [],
   "source": [
    "# create a variable called my_mean and store the mean of my_vec within it \n",
    "\n",
    "### BEGIN SOLUTION \n",
    "my_mean  <- mean(my_vec)\n",
    "### END SOLUTION \n",
    "\n",
    "# create a variabled called my_sum and store the summation of all elements in my_vec within it \n",
    "\n",
    "### BEGIN SOLUTION \n",
    "my_sum  <- sum(my_vec)\n",
    "### END SOLUTION \n"
   ]
  },
  {
   "cell_type": "markdown",
   "id": "6d3b998a",
   "metadata": {
    "nbgrader": {
     "grade": false,
     "grade_id": "cell-0a9c6a5b1e159233",
     "locked": true,
     "schema_version": 3,
     "solution": false,
     "task": false
    }
   },
   "source": [
    "Below are two code blocks that test if the answer you coded above works. Each are worth one point. You can run each code block to see if your answer is correct now. This will let you check your answers prior to submitting your assignment.  "
   ]
  },
  {
   "cell_type": "code",
   "execution_count": 3,
   "id": "0ae6d894",
   "metadata": {
    "nbgrader": {
     "grade": true,
     "grade_id": "cell-287b213f7b518db8",
     "locked": true,
     "points": 1,
     "schema_version": 3,
     "solution": false,
     "task": false
    },
    "vscode": {
     "languageId": "r"
    }
   },
   "outputs": [
    {
     "name": "stdout",
     "output_type": "stream",
     "text": [
      "[1] \"Nice work, your variable my_mean has the mean of the vector my_vec stored in it.\"\n"
     ]
    }
   ],
   "source": [
    "# your grade is based on the following tests: \n",
    "\n",
    "# Test One \n",
    "if (my_mean != 3) {\n",
    "   stop(\"my_mean doesn't equal the mean of the vector my_vec. Expected: my_mean = 3\")\n",
    "}else{\n",
    "    print(\"Nice work, your variable my_mean has the mean of the vector my_vec stored in it.\")\n",
    "}"
   ]
  },
  {
   "cell_type": "code",
   "execution_count": 4,
   "id": "89348337",
   "metadata": {
    "nbgrader": {
     "grade": true,
     "grade_id": "cell-31a09f3a21b7e7a4",
     "locked": true,
     "points": 1,
     "schema_version": 3,
     "solution": false,
     "task": false
    },
    "vscode": {
     "languageId": "r"
    }
   },
   "outputs": [
    {
     "name": "stdout",
     "output_type": "stream",
     "text": [
      "[1] \"Nice work, your variable my_sum has the sum of the vector my_vec stored in it.\"\n"
     ]
    }
   ],
   "source": [
    "# Test Two \n",
    "if (my_sum != 15) {\n",
    "   stop(\"my_sum doesn't equal the sum of the vector my_vec. Expected: my_sum = 15\")\n",
    "}else{\n",
    "    print(\"Nice work, your variable my_sum has the sum of the vector my_vec stored in it.\")\n",
    "}\n"
   ]
  },
  {
   "cell_type": "markdown",
   "id": "6f32670b",
   "metadata": {
    "nbgrader": {
     "grade": false,
     "grade_id": "cell-21db09e997dc7895",
     "locked": true,
     "schema_version": 3,
     "solution": false,
     "task": false
    }
   },
   "source": [
    "## Question 2: Data Frames (2 Points)\n",
    "\n",
    "Next, you will test you skills for working with data frames. Below, I provide you a dataframe with some information about three national parks in Zambia. In part A, you need to create a vector called `my_sizes` and store third column in it. In part B, you need to take the mean of the species_richness and store it in a variable called `avg_spec`\n"
   ]
  },
  {
   "cell_type": "code",
   "execution_count": 5,
   "id": "4c6e3485",
   "metadata": {
    "nbgrader": {
     "grade": false,
     "grade_id": "cell-0b8fc7e58744cf0f",
     "locked": true,
     "schema_version": 3,
     "solution": false,
     "task": false
    },
    "vscode": {
     "languageId": "r"
    }
   },
   "outputs": [
    {
     "data": {
      "text/html": [
       "<table class=\"dataframe\">\n",
       "<caption>A data.frame: 3 x 3</caption>\n",
       "<thead>\n",
       "\t<tr><th scope=col>name</th><th scope=col>species_richness</th><th scope=col>size_sq_km</th></tr>\n",
       "\t<tr><th scope=col>&lt;chr&gt;</th><th scope=col>&lt;dbl&gt;</th><th scope=col>&lt;dbl&gt;</th></tr>\n",
       "</thead>\n",
       "<tbody>\n",
       "\t<tr><td>South Luangwa National Park</td><td>78</td><td> 9050</td></tr>\n",
       "\t<tr><td>Lusaka National Park       </td><td>92</td><td>   67</td></tr>\n",
       "\t<tr><td>Kafue National Park        </td><td>61</td><td>22400</td></tr>\n",
       "</tbody>\n",
       "</table>\n"
      ],
      "text/latex": [
       "A data.frame: 3 x 3\n",
       "\\begin{tabular}{lll}\n",
       " name & species\\_richness & size\\_sq\\_km\\\\\n",
       " <chr> & <dbl> & <dbl>\\\\\n",
       "\\hline\n",
       "\t South Luangwa National Park & 78 &  9050\\\\\n",
       "\t Lusaka National Park        & 92 &    67\\\\\n",
       "\t Kafue National Park         & 61 & 22400\\\\\n",
       "\\end{tabular}\n"
      ],
      "text/markdown": [
       "\n",
       "A data.frame: 3 x 3\n",
       "\n",
       "| name &lt;chr&gt; | species_richness &lt;dbl&gt; | size_sq_km &lt;dbl&gt; |\n",
       "|---|---|---|\n",
       "| South Luangwa National Park | 78 |  9050 |\n",
       "| Lusaka National Park        | 92 |    67 |\n",
       "| Kafue National Park         | 61 | 22400 |\n",
       "\n"
      ],
      "text/plain": [
       "  name                        species_richness size_sq_km\n",
       "1 South Luangwa National Park 78                9050     \n",
       "2 Lusaka National Park        92                  67     \n",
       "3 Kafue National Park         61               22400     "
      ]
     },
     "metadata": {},
     "output_type": "display_data"
    }
   ],
   "source": [
    "df  <- data.frame(\n",
    "    name = c(\"South Luangwa National Park\", \"Lusaka National Park\", \"Kafue National Park\"), \n",
    "    species_richness = c(78, 92, 61), \n",
    "    size_sq_km = c(9050, 67, 22400)\n",
    ")\n",
    "\n",
    "df"
   ]
  },
  {
   "cell_type": "markdown",
   "id": "0152d3c3",
   "metadata": {
    "nbgrader": {
     "grade": false,
     "grade_id": "cell-b7d3cdab8c231174",
     "locked": true,
     "schema_version": 3,
     "solution": false,
     "task": false
    }
   },
   "source": [
    "### Part A \n",
    "Store the values from column three in `df` in a variable named `my_sizes`."
   ]
  },
  {
   "cell_type": "code",
   "execution_count": 6,
   "id": "06848cd2",
   "metadata": {
    "nbgrader": {
     "grade": false,
     "grade_id": "cell-9630c707aa61d7fa",
     "locked": false,
     "schema_version": 3,
     "solution": true,
     "task": false
    },
    "vscode": {
     "languageId": "r"
    }
   },
   "outputs": [],
   "source": [
    "# Create variable called my_sizes and store third column of df in it \n",
    "\n",
    "### BEGIN SOLUTION \n",
    "my_sizes  <- df$size_sq_km\n",
    "### END SOLUTION"
   ]
  },
  {
   "cell_type": "code",
   "execution_count": 7,
   "id": "48d8ddbf",
   "metadata": {
    "nbgrader": {
     "grade": true,
     "grade_id": "cell-99b38b61d8a3f0ec",
     "locked": true,
     "points": 1,
     "schema_version": 3,
     "solution": false,
     "task": false
    },
    "vscode": {
     "languageId": "r"
    }
   },
   "outputs": [
    {
     "name": "stdout",
     "output_type": "stream",
     "text": [
      "[1] \"Nice work, you stored the column in the variable named my_sizes\"\n"
     ]
    }
   ],
   "source": [
    "# Test A \n",
    "if (!identical(my_sizes,c(9050, 67, 22400))) {\n",
    "   stop(\"my_sizes doesn't equal the third column of df. Expected: my_sizes = c(9050, 67, 22400)\")\n",
    "}else{\n",
    "    print(\"Nice work, you stored the column in the variable named my_sizes\")\n",
    "}"
   ]
  },
  {
   "cell_type": "markdown",
   "id": "c7a6ceb6",
   "metadata": {
    "nbgrader": {
     "grade": false,
     "grade_id": "cell-4c27fe4bf718800e",
     "locked": true,
     "schema_version": 3,
     "solution": false,
     "task": false
    }
   },
   "source": [
    "### Part B\n",
    "Find the average species richness across the three national parks using `df` and store it in a variable called `avg_spec`."
   ]
  },
  {
   "cell_type": "code",
   "execution_count": 8,
   "id": "835a0bc1",
   "metadata": {
    "nbgrader": {
     "grade": false,
     "grade_id": "cell-f05808acad46b8cb",
     "locked": false,
     "schema_version": 3,
     "solution": true,
     "task": false
    },
    "vscode": {
     "languageId": "r"
    }
   },
   "outputs": [],
   "source": [
    "# Create a variable called avg_spec and store the average species richness in it \n",
    "\n",
    "### BEGIN SOLUTION \n",
    "avg_spec  <- mean(df$species_richness)\n",
    "### END SOLUTION\n"
   ]
  },
  {
   "cell_type": "code",
   "execution_count": 9,
   "id": "5472318a",
   "metadata": {
    "nbgrader": {
     "grade": true,
     "grade_id": "cell-ebfd7043b000abe0",
     "locked": true,
     "points": 1,
     "schema_version": 3,
     "solution": false,
     "task": false
    },
    "vscode": {
     "languageId": "r"
    }
   },
   "outputs": [
    {
     "name": "stdout",
     "output_type": "stream",
     "text": [
      "[1] \"Nice work, your avg_spec variable is correct.\"\n"
     ]
    }
   ],
   "source": [
    "# Test B \n",
    "if (avg_spec != 77) {\n",
    "   stop(\"avg_spec isn't correct Expected: avg_spec == 77\")\n",
    "}else{\n",
    "    print(\"Nice work, your avg_spec variable is correct.\")\n",
    "}"
   ]
  },
  {
   "cell_type": "markdown",
   "id": "b3d00d04",
   "metadata": {
    "nbgrader": {
     "grade": false,
     "grade_id": "cell-609ca4f1c36ccac2",
     "locked": true,
     "schema_version": 3,
     "solution": false,
     "task": false
    }
   },
   "source": [
    "## Question 3: Loops (2 Points)\n",
    "\n",
    "In this question, you are given a data frame that has information about forest loss in four regions of the Brazillian Amazon. Use a loop to create a new variable  called `acres_lost_total` to the data framed `df_forest` that is equal to the acres lost in 2020 plus the acres lost in 2021. \n"
   ]
  },
  {
   "cell_type": "code",
   "execution_count": 10,
   "id": "2e6caf4b",
   "metadata": {
    "nbgrader": {
     "grade": false,
     "grade_id": "cell-1acf780bd2f6bf18",
     "locked": true,
     "schema_version": 3,
     "solution": false,
     "task": false
    },
    "vscode": {
     "languageId": "r"
    }
   },
   "outputs": [
    {
     "data": {
      "text/html": [
       "<table class=\"dataframe\">\n",
       "<caption>A data.frame: 4 x 3</caption>\n",
       "<thead>\n",
       "\t<tr><th scope=col>region</th><th scope=col>acres_lost_2020</th><th scope=col>acres_lost_2021</th></tr>\n",
       "\t<tr><th scope=col>&lt;chr&gt;</th><th scope=col>&lt;dbl&gt;</th><th scope=col>&lt;dbl&gt;</th></tr>\n",
       "</thead>\n",
       "<tbody>\n",
       "\t<tr><td>Amazonas    </td><td>100</td><td>200</td></tr>\n",
       "\t<tr><td>Par&lt;U+00E1&gt; </td><td>120</td><td>190</td></tr>\n",
       "\t<tr><td>Acre        </td><td>110</td><td>205</td></tr>\n",
       "\t<tr><td>Amap&lt;U+00E1&gt;</td><td>105</td><td>210</td></tr>\n",
       "</tbody>\n",
       "</table>\n"
      ],
      "text/latex": [
       "A data.frame: 4 x 3\n",
       "\\begin{tabular}{lll}\n",
       " region & acres\\_lost\\_2020 & acres\\_lost\\_2021\\\\\n",
       " <chr> & <dbl> & <dbl>\\\\\n",
       "\\hline\n",
       "\t Amazonas     & 100 & 200\\\\\n",
       "\t Par<U+00E1>  & 120 & 190\\\\\n",
       "\t Acre         & 110 & 205\\\\\n",
       "\t Amap<U+00E1> & 105 & 210\\\\\n",
       "\\end{tabular}\n"
      ],
      "text/markdown": [
       "\n",
       "A data.frame: 4 x 3\n",
       "\n",
       "| region &lt;chr&gt; | acres_lost_2020 &lt;dbl&gt; | acres_lost_2021 &lt;dbl&gt; |\n",
       "|---|---|---|\n",
       "| Amazonas     | 100 | 200 |\n",
       "| Par&lt;U+00E1&gt;  | 120 | 190 |\n",
       "| Acre         | 110 | 205 |\n",
       "| Amap&lt;U+00E1&gt; | 105 | 210 |\n",
       "\n"
      ],
      "text/plain": [
       "  region       acres_lost_2020 acres_lost_2021\n",
       "1 Amazonas     100             200            \n",
       "2 Par<U+00E1>  120             190            \n",
       "3 Acre         110             205            \n",
       "4 Amap<U+00E1> 105             210            "
      ]
     },
     "metadata": {},
     "output_type": "display_data"
    }
   ],
   "source": [
    "df_forest <- data.frame(\n",
    "    region = c(\"Amazonas\", \"Pará\", \"Acre\", \"Amapá\"),\n",
    "    acres_lost_2020 = c(100, 120, 110, 105),\n",
    "    acres_lost_2021 =c(200, 190, 205, 210)\n",
    ")\n",
    "\n",
    "df_forest"
   ]
  },
  {
   "cell_type": "code",
   "execution_count": 11,
   "id": "da686cff",
   "metadata": {
    "nbgrader": {
     "grade": false,
     "grade_id": "cell-899139663e176321",
     "locked": false,
     "schema_version": 3,
     "solution": true,
     "task": false
    },
    "vscode": {
     "languageId": "r"
    }
   },
   "outputs": [
    {
     "data": {
      "text/html": [
       "<table class=\"dataframe\">\n",
       "<caption>A data.frame: 4 x 4</caption>\n",
       "<thead>\n",
       "\t<tr><th scope=col>region</th><th scope=col>acres_lost_2020</th><th scope=col>acres_lost_2021</th><th scope=col>acres_lost_total</th></tr>\n",
       "\t<tr><th scope=col>&lt;chr&gt;</th><th scope=col>&lt;dbl&gt;</th><th scope=col>&lt;dbl&gt;</th><th scope=col>&lt;dbl&gt;</th></tr>\n",
       "</thead>\n",
       "<tbody>\n",
       "\t<tr><td>Amazonas    </td><td>100</td><td>200</td><td>300</td></tr>\n",
       "\t<tr><td>Par&lt;U+00E1&gt; </td><td>120</td><td>190</td><td>310</td></tr>\n",
       "\t<tr><td>Acre        </td><td>110</td><td>205</td><td>315</td></tr>\n",
       "\t<tr><td>Amap&lt;U+00E1&gt;</td><td>105</td><td>210</td><td>315</td></tr>\n",
       "</tbody>\n",
       "</table>\n"
      ],
      "text/latex": [
       "A data.frame: 4 x 4\n",
       "\\begin{tabular}{llll}\n",
       " region & acres\\_lost\\_2020 & acres\\_lost\\_2021 & acres\\_lost\\_total\\\\\n",
       " <chr> & <dbl> & <dbl> & <dbl>\\\\\n",
       "\\hline\n",
       "\t Amazonas     & 100 & 200 & 300\\\\\n",
       "\t Par<U+00E1>  & 120 & 190 & 310\\\\\n",
       "\t Acre         & 110 & 205 & 315\\\\\n",
       "\t Amap<U+00E1> & 105 & 210 & 315\\\\\n",
       "\\end{tabular}\n"
      ],
      "text/markdown": [
       "\n",
       "A data.frame: 4 x 4\n",
       "\n",
       "| region &lt;chr&gt; | acres_lost_2020 &lt;dbl&gt; | acres_lost_2021 &lt;dbl&gt; | acres_lost_total &lt;dbl&gt; |\n",
       "|---|---|---|---|\n",
       "| Amazonas     | 100 | 200 | 300 |\n",
       "| Par&lt;U+00E1&gt;  | 120 | 190 | 310 |\n",
       "| Acre         | 110 | 205 | 315 |\n",
       "| Amap&lt;U+00E1&gt; | 105 | 210 | 315 |\n",
       "\n"
      ],
      "text/plain": [
       "  region       acres_lost_2020 acres_lost_2021 acres_lost_total\n",
       "1 Amazonas     100             200             300             \n",
       "2 Par<U+00E1>  120             190             310             \n",
       "3 Acre         110             205             315             \n",
       "4 Amap<U+00E1> 105             210             315             "
      ]
     },
     "metadata": {},
     "output_type": "display_data"
    }
   ],
   "source": [
    "# Fill in the following loop \n",
    "\n",
    "for(i in 1:4){\n",
    "    # use the assignment operator (<-) and i indexing to update the value of acres_lost_total. \n",
    "    #    Uncomment the following line to get started\n",
    "    \n",
    "    # df_forest$acres_lost_total[i] <- \n",
    "    \n",
    "    ### BEGIN SOLUTION \n",
    "    df_forest$acres_lost_total[i] <- df_forest$acres_lost_2020[i] + df_forest$acres_lost_2021[i]\n",
    "    \n",
    "    ### END SOLUTION\n",
    "}\n",
    "\n",
    "# print your updated df\n",
    "df_forest\n",
    "\n"
   ]
  },
  {
   "cell_type": "code",
   "execution_count": 12,
   "id": "d5886135",
   "metadata": {
    "nbgrader": {
     "grade": true,
     "grade_id": "cell-3a2301c75568b262",
     "locked": true,
     "points": 2,
     "schema_version": 3,
     "solution": false,
     "task": false
    },
    "vscode": {
     "languageId": "r"
    }
   },
   "outputs": [
    {
     "name": "stdout",
     "output_type": "stream",
     "text": [
      "[1] \"Nice work, you created a new column that stores the total acres lost in each region.\"\n"
     ]
    }
   ],
   "source": [
    "# Test Q3\n",
    "if (!identical(df_forest$acres_lost_total, c(300, 310, 315, 315))) {\n",
    "   stop(\"The new column isn't correct. Expected: df_forest$acres_lost_total = c(300, 310, 315, 315)\")\n",
    "}else{\n",
    "    print(\"Nice work, you created a new column that stores the total acres lost in each region.\")\n",
    "}"
   ]
  }
 ],
 "metadata": {
  "celltoolbar": "Create Assignment",
  "kernelspec": {
   "display_name": "R",
   "language": "R",
   "name": "ir"
  },
  "language_info": {
   "codemirror_mode": "r",
   "file_extension": ".r",
   "mimetype": "text/x-r-source",
   "name": "R",
   "pygments_lexer": "r",
   "version": "4.4.1"
  }
 },
 "nbformat": 4,
 "nbformat_minor": 5
}
