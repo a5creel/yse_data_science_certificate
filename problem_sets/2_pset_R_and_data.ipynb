{
 "cells": [
  {
   "cell_type": "markdown",
   "id": "ba8b858b",
   "metadata": {
    "deletable": false,
    "editable": false,
    "nbgrader": {
     "cell_type": "markdown",
     "checksum": "c5c6ce07bb979c876ffb4fb828f6ef31",
     "grade": false,
     "grade_id": "cell-e3a92fecc2edcaac",
     "locked": true,
     "schema_version": 3,
     "solution": false,
     "task": false
    }
   },
   "source": [
    "# Data Foundations -- Problem Set 2: R and Data \n",
    "\n",
    "This is your second problem set, where you will be testing your ability to code in R while working with data. As always, using Google, documentation and sites like Stack Overflow for help in completing the assignment. For now, continue to avoid using AI so that you can practice developing your own solution strategies. \n",
    "\n",
    "\n",
    "This is an auto graded assignment where you will have chunks that you need to edit. Those will then be tested. There are also chunks of code already provided for you... but be sure to run them! Otherwise, you may be attempting to work with data objects that are not yet loaded in the work space. \n",
    "\n",
    "This problem set should take 60 - 90 minutes. Remember not to get frustrated with yourself. Struggling through errors and trying to come up with right answer is an important part of learning how to code! \n",
    "\n",
    "## Introduction\n",
    "\n",
    "First, let's run some basic set up. "
   ]
  },
  {
   "cell_type": "code",
   "execution_count": null,
   "id": "dbe51d94",
   "metadata": {
    "deletable": false,
    "editable": false,
    "nbgrader": {
     "cell_type": "code",
     "checksum": "f215fccc5e37f72a1192338696c210e1",
     "grade": false,
     "grade_id": "cell-f0bd8c1ca974bbe3",
     "locked": true,
     "schema_version": 3,
     "solution": false,
     "task": false
    }
   },
   "outputs": [],
   "source": [
    "# load libraries \n",
    "library(dplyr)\n",
    "library(ggplot2)"
   ]
  },
  {
   "cell_type": "markdown",
   "id": "83981968",
   "metadata": {
    "deletable": false,
    "editable": false,
    "nbgrader": {
     "cell_type": "markdown",
     "checksum": "82ee07ce4aceb0e5d51cd5adf75c0ab5",
     "grade": false,
     "grade_id": "cell-42c9bda362a1f1b4",
     "locked": true,
     "schema_version": 3,
     "solution": false,
     "task": false
    }
   },
   "source": [
    "In this problem set, we are going to use the `mpg` dataset that is available from `dplyr` package. Load the the datset by running the below code chunk. "
   ]
  },
  {
   "cell_type": "code",
   "execution_count": null,
   "id": "3242f83f",
   "metadata": {
    "deletable": false,
    "editable": false,
    "nbgrader": {
     "cell_type": "code",
     "checksum": "33cbd42c8cd8a718da2a319ad798c6b1",
     "grade": false,
     "grade_id": "cell-2af560668b845ff3",
     "locked": true,
     "schema_version": 3,
     "solution": false,
     "task": false
    }
   },
   "outputs": [],
   "source": [
    "# load mpg dataset\n",
    "data(mpg)"
   ]
  },
  {
   "cell_type": "markdown",
   "id": "ef6b1145",
   "metadata": {
    "deletable": false,
    "editable": false,
    "nbgrader": {
     "cell_type": "markdown",
     "checksum": "5ecc841c7222b82a8ef3255af008fac7",
     "grade": false,
     "grade_id": "cell-67d83a7f2bbc4922",
     "locked": true,
     "schema_version": 3,
     "solution": false,
     "task": false
    }
   },
   "source": [
    "Run the following code chunks to do some data exploration. This will help you orient yourself to the dataset before you need to answer the problem set questions. "
   ]
  },
  {
   "cell_type": "code",
   "execution_count": null,
   "id": "7bc7eb93",
   "metadata": {
    "deletable": false,
    "editable": false,
    "nbgrader": {
     "cell_type": "code",
     "checksum": "9b9a8885064a78f0613f05995242c132",
     "grade": false,
     "grade_id": "cell-940238bcdd3cf68e",
     "locked": true,
     "schema_version": 3,
     "solution": false,
     "task": false
    }
   },
   "outputs": [],
   "source": [
    "# get a quick snap shot of what's in the dataset\n",
    "glimpse(mpg)"
   ]
  },
  {
   "cell_type": "code",
   "execution_count": null,
   "id": "4b69a987",
   "metadata": {
    "deletable": false,
    "editable": false,
    "nbgrader": {
     "cell_type": "code",
     "checksum": "0aaf654a12a7300b82df0c4b2aac2037",
     "grade": false,
     "grade_id": "cell-5796a456053c0ea1",
     "locked": true,
     "schema_version": 3,
     "solution": false,
     "task": false
    }
   },
   "outputs": [],
   "source": [
    "# get a summary of the variables, particularly the numeric variables  \n",
    "summary(mpg)"
   ]
  },
  {
   "cell_type": "code",
   "execution_count": null,
   "id": "4a7249d9",
   "metadata": {
    "deletable": false,
    "editable": false,
    "nbgrader": {
     "cell_type": "code",
     "checksum": "7f064159c23edc783586bbe9fd28ef23",
     "grade": false,
     "grade_id": "cell-5be0bcd9cad6a786",
     "locked": true,
     "schema_version": 3,
     "solution": false,
     "task": false
    }
   },
   "outputs": [],
   "source": [
    "# look at the first few rows \n",
    "head(mpg)"
   ]
  },
  {
   "cell_type": "markdown",
   "id": "b7b65b3c",
   "metadata": {
    "deletable": false,
    "editable": false,
    "nbgrader": {
     "cell_type": "markdown",
     "checksum": "2bae19a8ec5b5964946a9674149481e7",
     "grade": false,
     "grade_id": "cell-01a2aa3596d34e6c",
     "locked": true,
     "schema_version": 3,
     "solution": false,
     "task": false
    }
   },
   "source": [
    "## Question 1: Filtering (1 Point)\n",
    "Filter the mpg dataset to only include cars that are manufactured by toyota (*i.e.,* `manufacturer == \"toyota\"`). use pipes, `%>%` and the `fitler()` command. **Store the short dataframe in a new data frame named df_toy.**"
   ]
  },
  {
   "cell_type": "code",
   "execution_count": null,
   "id": "0de2f2c9",
   "metadata": {
    "deletable": false,
    "nbgrader": {
     "cell_type": "code",
     "checksum": "2a3034a7927612df1f1eb7ad69d208af",
     "grade": false,
     "grade_id": "cell-e96e275f247e0d52",
     "locked": false,
     "schema_version": 3,
     "solution": true,
     "task": false
    }
   },
   "outputs": [],
   "source": [
    "# filter mpg to only toyotas \n",
    "# uncomment the following line of code to get started \n",
    "# df_toy <- mpg %>%\n",
    "\n",
    "# your code here\n",
    ".NotYetImplemented()\n"
   ]
  },
  {
   "cell_type": "code",
   "execution_count": null,
   "id": "4086df20",
   "metadata": {},
   "outputs": [],
   "source": [
    "# glimpse your new dataframe \n",
    "glimpse(df_toy)"
   ]
  },
  {
   "cell_type": "code",
   "execution_count": null,
   "id": "919a7ee9",
   "metadata": {
    "deletable": false,
    "editable": false,
    "nbgrader": {
     "cell_type": "code",
     "checksum": "962c45caa74ea78d4f515455f198ae5a",
     "grade": true,
     "grade_id": "cell-713538ed40a8f31e",
     "locked": true,
     "points": 1,
     "schema_version": 3,
     "solution": false,
     "task": false
    }
   },
   "outputs": [],
   "source": [
    "# your grade is based on the following tests: \n",
    "\n",
    "# Question 1 test \n",
    "if (nrow(df_toy) != 34) {\n",
    "   stop(\"Your new dataframe isn't the proper length after filting to only toyotas. Expected: length(df_toy) == 34\")\n",
    "}else{\n",
    "    print(\"Nice work, you filtered correctly.\")\n",
    "}\n"
   ]
  },
  {
   "cell_type": "markdown",
   "id": "51c938de",
   "metadata": {
    "deletable": false,
    "editable": false,
    "nbgrader": {
     "cell_type": "markdown",
     "checksum": "cd6e3aa8acc72826063bf2f53cab4c0a",
     "grade": false,
     "grade_id": "cell-5755da0dba56687f",
     "locked": true,
     "schema_version": 3,
     "solution": false,
     "task": false
    }
   },
   "source": [
    "## Question 2: Unit Converstion (3 points)\n",
    "When working with data, you may need to convert the units. For example, in the `mpg` dataset, we can convert highway miles per gallon to kilometers per liter. Two necessary facts are: \n",
    "\n",
    "- 1 mile = 1.61 kilometers\n",
    "- 1 gallon = 3.79 liters \n",
    "\n",
    "The unit transformation equation is \n",
    "\n",
    "$$kpl = hwy /3.79 \\times 1.61.$$\n",
    "\n",
    "\n",
    "### Part A\n",
    "\n",
    "Convert the variable `hwy` that measures highway miles per gallon to highway kilometers per liter. Use the `mutate()` function to create a new variable called `hwy_kpl`that measures highway kilometers per liter using the above unit transformation equation. Do so by starting with the original `mpg` dataset but storing the new dataset (with the new variable `hwy_kpl`) in a data frame called `df_metric`. \n"
   ]
  },
  {
   "cell_type": "code",
   "execution_count": null,
   "id": "1e44e094",
   "metadata": {
    "deletable": false,
    "nbgrader": {
     "cell_type": "code",
     "checksum": "6c04ba804894a7be1df995796a84f001",
     "grade": false,
     "grade_id": "cell-3733a5b5a71adeb1",
     "locked": false,
     "schema_version": 3,
     "solution": true,
     "task": false
    }
   },
   "outputs": [],
   "source": [
    "# Create a new var called hwy_kpl in a new data framed called df_metric \n",
    "df_metric <- mpg %>%\n",
    "\n",
    "# your code here\n",
    ".NotYetImplemented()\n",
    "    "
   ]
  },
  {
   "cell_type": "code",
   "execution_count": null,
   "id": "b27a4311",
   "metadata": {},
   "outputs": [],
   "source": [
    "# investigate your new df \n",
    "summary(df_metric)\n",
    "glimpse(df_metric)"
   ]
  },
  {
   "cell_type": "code",
   "execution_count": null,
   "id": "d7e30fdd",
   "metadata": {
    "deletable": false,
    "editable": false,
    "nbgrader": {
     "cell_type": "code",
     "checksum": "8f108f9be8b8938c05ce4597b22698c6",
     "grade": true,
     "grade_id": "cell-8e3a5bb0be801996",
     "locked": true,
     "points": 2,
     "schema_version": 3,
     "solution": false,
     "task": false
    }
   },
   "outputs": [],
   "source": [
    "# testing your answer for Q2 Part A\n",
    "if (ncol(df_metric) < 12) {\n",
    "   stop(\"Your new dataframe doesn't have a new variable.\")\n",
    "}else{\n",
    "    print(\"Nice work, you created your new variable in your new df.\")\n",
    "}"
   ]
  },
  {
   "cell_type": "markdown",
   "id": "684e00ab",
   "metadata": {
    "deletable": false,
    "editable": false,
    "nbgrader": {
     "cell_type": "markdown",
     "checksum": "3718e7b874e36593f918ad3577642022",
     "grade": false,
     "grade_id": "cell-a5ebc6b10cdc2e2e",
     "locked": true,
     "schema_version": 3,
     "solution": false,
     "task": false
    }
   },
   "source": [
    "### Part B \n",
    "\n",
    "Find the average highway kilometers per gallon for cars in your `df_metric` dataset. Store the value in a variable called `mean_kpl`. "
   ]
  },
  {
   "cell_type": "code",
   "execution_count": null,
   "id": "66581362",
   "metadata": {
    "deletable": false,
    "nbgrader": {
     "cell_type": "code",
     "checksum": "22c0ff236fea56b9bbc9b4d55b9c790e",
     "grade": false,
     "grade_id": "cell-3083364e66708789",
     "locked": false,
     "schema_version": 3,
     "solution": true,
     "task": false
    }
   },
   "outputs": [],
   "source": [
    "# your code here\n",
    ".NotYetImplemented()"
   ]
  },
  {
   "cell_type": "code",
   "execution_count": null,
   "id": "e6639cbb",
   "metadata": {
    "deletable": false,
    "editable": false,
    "nbgrader": {
     "cell_type": "code",
     "checksum": "969ad399e5191e7b4f8b83eaf38ef86b",
     "grade": true,
     "grade_id": "cell-6c0bacf0812f1f16",
     "locked": true,
     "points": 1,
     "schema_version": 3,
     "solution": false,
     "task": false
    }
   },
   "outputs": [],
   "source": [
    "# testing your answer for Q2 Part B\n",
    "if (round(mean_kpl) != 10) {\n",
    "   stop(\"Your mean_kpl doesn't equal the correct answer.\")\n",
    "}else{\n",
    "    print(\"Nice work, you calculated the average highway kilometers per hour correctly.\")\n",
    "}"
   ]
  },
  {
   "cell_type": "markdown",
   "id": "bb88adf5",
   "metadata": {
    "deletable": false,
    "editable": false,
    "nbgrader": {
     "cell_type": "markdown",
     "checksum": "5c5372cdcc46f95e485edc4d15982e7f",
     "grade": false,
     "grade_id": "cell-15369fcc7895ebf8",
     "locked": true,
     "schema_version": 3,
     "solution": false,
     "task": false
    }
   },
   "source": [
    "## Question 3: Summarizing Data (3 Points)\n",
    "\n",
    "### Part A \n",
    "Go back to using your `df_toy` dataset (data frame that you filtered to toyota cars, only). Group the `df_toy` data frame by the variable `class` and summarize the average high miles per gallon (variable named `hwy`) for each class. Store your summary dataframe in a new df called `df_sum`. "
   ]
  },
  {
   "cell_type": "code",
   "execution_count": null,
   "id": "bbff5338",
   "metadata": {
    "deletable": false,
    "nbgrader": {
     "cell_type": "code",
     "checksum": "55dd7c00731737f6f17a695d030ebb9f",
     "grade": false,
     "grade_id": "cell-175c9d5181121f8d",
     "locked": false,
     "schema_version": 3,
     "solution": true,
     "task": false
    }
   },
   "outputs": [],
   "source": [
    "# create summary df \n",
    "df_sum <- df_toy %>%\n",
    "\n",
    "# your code here\n",
    ".NotYetImplemented()\n",
    "\n",
    "\n",
    "# investigate your summary df \n",
    "df_sum"
   ]
  },
  {
   "cell_type": "code",
   "execution_count": null,
   "id": "43d7edff",
   "metadata": {
    "deletable": false,
    "editable": false,
    "nbgrader": {
     "cell_type": "code",
     "checksum": "4703ee85113079d5fe512cad6739ad35",
     "grade": true,
     "grade_id": "cell-7009508455c3dcca",
     "locked": true,
     "points": 2,
     "schema_version": 3,
     "solution": false,
     "task": false
    }
   },
   "outputs": [],
   "source": [
    "# Testing Q3 Part A \n",
    "if (ncol(df_sum) != 2 | nrow(df_sum) != 4) {\n",
    "   stop(\"You have not created a summary dataframe. Remember to use the summarise() and group_by() function.\")\n",
    "}else{\n",
    "    print(\"Nice work, you created a summary df.\")\n",
    "}"
   ]
  },
  {
   "cell_type": "markdown",
   "id": "f7020a86",
   "metadata": {
    "deletable": false,
    "editable": false,
    "nbgrader": {
     "cell_type": "markdown",
     "checksum": "450b62db45987ae9f6c2c61b533a9243",
     "grade": false,
     "grade_id": "cell-ef3020081f0229b0",
     "locked": true,
     "schema_version": 3,
     "solution": false,
     "task": false
    }
   },
   "source": [
    "### Part B \n",
    "\n",
    "What glass of Toyota car gets the best gas milage? Store the class of car that gets the best gas milage as a string/character variable in a variable named `best_class`.\n"
   ]
  },
  {
   "cell_type": "code",
   "execution_count": null,
   "id": "ab616942",
   "metadata": {
    "deletable": false,
    "nbgrader": {
     "cell_type": "code",
     "checksum": "dcad38fd50f14730c6a8dfc34e8ad312",
     "grade": false,
     "grade_id": "cell-bade9b784986d48d",
     "locked": false,
     "schema_version": 3,
     "solution": true,
     "task": false
    }
   },
   "outputs": [],
   "source": [
    "# store your answer here \n",
    "best_class <- \"\"\n",
    "\n",
    "# your code here\n",
    ".NotYetImplemented()\n"
   ]
  },
  {
   "cell_type": "code",
   "execution_count": null,
   "id": "41087aa7",
   "metadata": {
    "deletable": false,
    "editable": false,
    "nbgrader": {
     "cell_type": "code",
     "checksum": "4fa152b9eaf5e62f2ee9a026d8013b27",
     "grade": true,
     "grade_id": "cell-9c40c0318f99bc78",
     "locked": true,
     "points": 1,
     "schema_version": 3,
     "solution": false,
     "task": false
    }
   },
   "outputs": [],
   "source": [
    "# Testing Q3 Part B \n",
    "if (best_class != \"compact\") {\n",
    "   stop(\"You haven't identified the class of car correctly. Be sure you're not using capital letters. Use your summary dataframe to inform your answer.\")\n",
    "}else{\n",
    "    print(\"Nice work, you interpreted your summary dataframe correctly.\")\n",
    "}"
   ]
  },
  {
   "cell_type": "markdown",
   "id": "aa820847",
   "metadata": {
    "deletable": false,
    "editable": false,
    "nbgrader": {
     "cell_type": "markdown",
     "checksum": "cf6a52bdcc8972812ca7af48cc6785ec",
     "grade": false,
     "grade_id": "cell-ff25ffa1245da15a",
     "locked": true,
     "schema_version": 3,
     "solution": false,
     "task": false
    }
   },
   "source": [
    "## Question Four (3 Points) \n",
    "Let's finish off with some basic data visualization. \n",
    "\n",
    "\n",
    "### Part A\n",
    "Create a histogram of the `hwy` variable in the `mpg` dataset. Be sure to store your plot in an object called `plot_1`. Use ggplot. Note: it may warn you about `binwidth` but you can ignore this message. \n"
   ]
  },
  {
   "cell_type": "code",
   "execution_count": null,
   "id": "e74c2dbb",
   "metadata": {
    "deletable": false,
    "nbgrader": {
     "cell_type": "code",
     "checksum": "ab9c16745dd8b463e92192bf68d6d49d",
     "grade": false,
     "grade_id": "cell-34ef17d2cc079a1a",
     "locked": false,
     "schema_version": 3,
     "solution": true,
     "task": false
    }
   },
   "outputs": [],
   "source": [
    "# create ggplot histogram \n",
    "plot_1 <- ggplot(mpg, aes(x =hwy))+\n",
    "# your code here\n",
    ".NotYetImplemented()\n",
    "\n",
    "# print plot\n",
    "plot_1"
   ]
  },
  {
   "cell_type": "code",
   "execution_count": null,
   "id": "a5d4ed60",
   "metadata": {
    "deletable": false,
    "editable": false,
    "nbgrader": {
     "cell_type": "code",
     "checksum": "83402785a0bb30c619c49ef1b9556025",
     "grade": true,
     "grade_id": "cell-7722d109b1b670e5",
     "locked": true,
     "points": 1,
     "schema_version": 3,
     "solution": false,
     "task": false
    }
   },
   "outputs": [],
   "source": [
    "# test Q4 Part A \n",
    "if(!any(grepl(\"count\", names(ggplot_build(plot_1)$data[[1]])))){\n",
    "    stop(\"You haven't made a histogram and stored it in plot_1\")\n",
    "}else{\n",
    "    print(\"Nice work! You made a histogram plot.\")\n",
    "}\n"
   ]
  },
  {
   "cell_type": "markdown",
   "id": "6028bd5a",
   "metadata": {
    "deletable": false,
    "editable": false,
    "nbgrader": {
     "cell_type": "markdown",
     "checksum": "a4c68b9a7864a0a492f337dbeaba3583",
     "grade": false,
     "grade_id": "cell-31757ffec0a9736f",
     "locked": true,
     "schema_version": 3,
     "solution": false,
     "task": false
    }
   },
   "source": [
    "### Part B\n",
    "Practice some data visualization best practice. Create a new plot called `plot_2` that is a histogram of the highway miles per gallon in the `mpg` dataset (like Part A), but do some of the follow: \n",
    "\n",
    "- write clear labels and a title \n",
    "- make the theme as simple as possible\n",
    "- make sure the text is legible\n",
    "- consider changing colors (is it legible for people who are color blind?)\n"
   ]
  },
  {
   "cell_type": "code",
   "execution_count": null,
   "id": "ba7fbc9f",
   "metadata": {
    "deletable": false,
    "nbgrader": {
     "cell_type": "code",
     "checksum": "498be33bb653228a1ab39773bc5eed00",
     "grade": false,
     "grade_id": "cell-26471fd56618821c",
     "locked": false,
     "schema_version": 3,
     "solution": true,
     "task": false
    }
   },
   "outputs": [],
   "source": [
    "# create ggplot histogram (dont forget your + signs )\n",
    "plot_2 <- ggplot(mpg, aes(x =hwy))+\n",
    "    geom_histogram() +\n",
    "\n",
    "# your code here\n",
    ".NotYetImplemented()\n",
    "\n",
    "\n",
    "# view plot \n",
    "plot_2\n"
   ]
  },
  {
   "cell_type": "code",
   "execution_count": null,
   "id": "915311bd",
   "metadata": {
    "deletable": false,
    "editable": false,
    "nbgrader": {
     "cell_type": "code",
     "checksum": "514d7e4c23ac439ea55b13ac05a5077c",
     "grade": true,
     "grade_id": "cell-a83bb2aab6ad6376",
     "locked": true,
     "points": 2,
     "schema_version": 3,
     "solution": false,
     "task": false
    }
   },
   "outputs": [],
   "source": [
    "# test Q4 Part B \n",
    "if(isTRUE(all.equal(plot_2, plot_1))){\n",
    "    stop(\"You haven't added anything to plot_2 beyond what we did in part A.\")\n",
    "}else{\n",
    "    print(\"Nice work! You made a histogram plot and did some data vis best practices.\")\n",
    "}"
   ]
  }
 ],
 "metadata": {
  "kernelspec": {
   "display_name": "R",
   "language": "R",
   "name": "ir"
  },
  "language_info": {
   "codemirror_mode": "r",
   "file_extension": ".r",
   "mimetype": "text/x-r-source",
   "name": "R",
   "pygments_lexer": "r",
   "version": "4.2.2"
  }
 },
 "nbformat": 4,
 "nbformat_minor": 5
}
