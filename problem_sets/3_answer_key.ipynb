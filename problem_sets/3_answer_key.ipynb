{
 "cells": [
  {
   "cell_type": "markdown",
   "id": "fde05c2b",
   "metadata": {},
   "source": [
    "# Problem Set 3: Python -- Answer Key\n",
    "\n",
    "## Introduction\n",
    "\n",
    "Try to solve each problem using day three's material and some minimal Googling. \n",
    "\n",
    "Do this problem set in a `.py` script. Use comments to indicate which question you're on. \n",
    "\n",
    "This problem set should only take one hour. \n",
    "\n",
    "# Problem 1: Basic Operations\n",
    "\n",
    "Create two numeric variables with any values and perform basic arithmetic operations (addition, subtraction, multiplication, division) on them. Assign the result of a division to a new variable and print it.\n"
   ]
  },
  {
   "cell_type": "code",
   "execution_count": 1,
   "id": "013fef7b",
   "metadata": {},
   "outputs": [
    {
     "name": "stdout",
     "output_type": "stream",
     "text": [
      "5\n",
      "-1\n",
      "6\n",
      "0.6666666666666666\n"
     ]
    }
   ],
   "source": [
    "a = 2\n",
    "b = 3\n",
    "\n",
    "print(a+b)\n",
    "print (a - b)\n",
    "print(a*b) \n",
    "\n",
    "c = a / b \n",
    "print(c)"
   ]
  },
  {
   "cell_type": "markdown",
   "id": "c3bdc561",
   "metadata": {},
   "source": [
    "# Problem 2: Working with Vectors \n",
    "Create a numeric vector with at least 5 elements. Compute the sum and mean of the vector. You will need to import the `numpy` package (or something similar) to compute the mean.\n",
    "\n",
    "Use a logical comparison (true/false) within a for-loop to print if an element of the vector is greater than the mean. You may need to use the `print()` command."
   ]
  },
  {
   "cell_type": "code",
   "execution_count": 17,
   "id": "61c2b33e",
   "metadata": {},
   "outputs": [
    {
     "name": "stdout",
     "output_type": "stream",
     "text": [
      "15\n",
      "3.0\n",
      "False\n",
      "False\n",
      "False\n",
      "True\n",
      "True\n"
     ]
    }
   ],
   "source": [
    "# first part\n",
    "import numpy as np\n",
    "\n",
    "c = [1,2,3,4,5]\n",
    "\n",
    "print(sum(c))\n",
    "\n",
    "print(np.mean(c))\n",
    "\n",
    "# For loop \n",
    "\n",
    "myMean = np.mean(c)\n",
    "\n",
    "for i in range(0,5):\n",
    "    print((c[i] > myMean))"
   ]
  },
  {
   "cell_type": "markdown",
   "id": "0da55722",
   "metadata": {},
   "source": [
    "# Problem 3: Loop and Function \n",
    "Write a function that takes a numeric input and returns the square of the number.\n",
    "\n",
    "Use a for loop to apply this function to each element of a numeric vector that you create.\n",
    "\n",
    "Store the results in a new vector that you first initialize by running `newVec = [999, 999, 999, 999, 999]`. Print the new vector using the `print()` command.\n"
   ]
  },
  {
   "cell_type": "code",
   "execution_count": 22,
   "id": "5046ffdf",
   "metadata": {},
   "outputs": [
    {
     "name": "stdout",
     "output_type": "stream",
     "text": [
      "[1, 4, 9, 16, 25]\n"
     ]
    }
   ],
   "source": [
    "# Function \n",
    "def myF(x): \n",
    "    y = x**2\n",
    "    return(y)\n",
    "\n",
    "# Intialize newVec: intializing with random numbers (this was somewhat lazy coding, but )\n",
    "newVec = [999, 999, 999, 999, 999]\n",
    "\n",
    "# Loop \n",
    "for i in range(0, 5): \n",
    "    newVec[i] = myF(c[i]) # using my vector from previous problem\n",
    "    \n",
    "print(newVec)"
   ]
  },
  {
   "cell_type": "markdown",
   "id": "be74bed6",
   "metadata": {},
   "source": [
    "# Problem 4: Conditional Logic\n",
    "\n",
    "Use a for loop and an if statment to replace values of the following vector with `999` if they are even. \n",
    "\n",
    "`vec = [ 1,2,3,4,5]`\n"
   ]
  },
  {
   "cell_type": "code",
   "execution_count": 28,
   "id": "3eada584",
   "metadata": {},
   "outputs": [
    {
     "name": "stdout",
     "output_type": "stream",
     "text": [
      "[1, 999, 3, 999, 5]\n"
     ]
    }
   ],
   "source": [
    "vec = [1,2,3,4,5]\n",
    "\n",
    "for i in range(0,5):\n",
    "    if vec[i] % 2 == 0:  # Check if the element is even\n",
    "        vec[i] = 999  \n",
    "    else:                # This line and the next are not necessary\n",
    "        vec[i] = vec[i]\n",
    "\n",
    "print(vec)"
   ]
  },
  {
   "cell_type": "markdown",
   "id": "5eeaae6c",
   "metadata": {},
   "source": [
    "# Problem 5: Reflect \n",
    "\n",
    "Write a brief reflection (1-3 sentences) on what you found challenging and what you learned from this problem set.\n"
   ]
  }
 ],
 "metadata": {
  "kernelspec": {
   "display_name": "Python 3 (ipykernel)",
   "language": "python",
   "name": "python3"
  },
  "language_info": {
   "codemirror_mode": {
    "name": "ipython",
    "version": 3
   },
   "file_extension": ".py",
   "mimetype": "text/x-python",
   "name": "python",
   "nbconvert_exporter": "python",
   "pygments_lexer": "ipython3",
   "version": "3.11.5"
  }
 },
 "nbformat": 4,
 "nbformat_minor": 5
}
