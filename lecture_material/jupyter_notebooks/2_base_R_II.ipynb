{
 "cells": [
  {
   "cell_type": "markdown",
   "id": "c41deddd",
   "metadata": {},
   "source": [
    "# Base R Part 2\n",
    "In this lecture we will cover some essential concepts around functions and flow control (loops, apply functions, if-else statements). We will also explore the distinction between global and local variables. We will finish with a short introduction to simulation (i.e., iteratively changing cells by calling previous cell). At the very end, we will breifly discuss error handling (*i.e.*, try-catch).\n",
    "\n",
    "Let'd pick up where we left off in Base R Part 1, with our data frame."
   ]
  },
  {
   "cell_type": "code",
   "execution_count": 7,
   "id": "d7435d99",
   "metadata": {
    "vscode": {
     "languageId": "r"
    }
   },
   "outputs": [
    {
     "data": {
      "text/html": [
       "<table class=\"dataframe\">\n",
       "<caption>A data.frame: 3 x 5</caption>\n",
       "<thead>\n",
       "\t<tr><th scope=col>name</th><th scope=col>gender</th><th scope=col>male</th><th scope=col>income_cat</th><th scope=col>park_dist</th></tr>\n",
       "\t<tr><th scope=col>&lt;chr&gt;</th><th scope=col>&lt;chr&gt;</th><th scope=col>&lt;lgl&gt;</th><th scope=col>&lt;chr&gt;</th><th scope=col>&lt;dbl&gt;</th></tr>\n",
       "</thead>\n",
       "<tbody>\n",
       "\t<tr><td>Andie  </td><td>Female    </td><td>FALSE</td><td>middle</td><td>1.0</td></tr>\n",
       "\t<tr><td>Bridger</td><td>non-binary</td><td>FALSE</td><td>poor  </td><td>0.5</td></tr>\n",
       "\t<tr><td>Scott  </td><td>Male      </td><td> TRUE</td><td>rich  </td><td>0.1</td></tr>\n",
       "</tbody>\n",
       "</table>\n"
      ],
      "text/latex": [
       "A data.frame: 3 x 5\n",
       "\\begin{tabular}{lllll}\n",
       " name & gender & male & income\\_cat & park\\_dist\\\\\n",
       " <chr> & <chr> & <lgl> & <chr> & <dbl>\\\\\n",
       "\\hline\n",
       "\t Andie   & Female     & FALSE & middle & 1.0\\\\\n",
       "\t Bridger & non-binary & FALSE & poor   & 0.5\\\\\n",
       "\t Scott   & Male       &  TRUE & rich   & 0.1\\\\\n",
       "\\end{tabular}\n"
      ],
      "text/markdown": [
       "\n",
       "A data.frame: 3 x 5\n",
       "\n",
       "| name &lt;chr&gt; | gender &lt;chr&gt; | male &lt;lgl&gt; | income_cat &lt;chr&gt; | park_dist &lt;dbl&gt; |\n",
       "|---|---|---|---|---|\n",
       "| Andie   | Female     | FALSE | middle | 1.0 |\n",
       "| Bridger | non-binary | FALSE | poor   | 0.5 |\n",
       "| Scott   | Male       |  TRUE | rich   | 0.1 |\n",
       "\n"
      ],
      "text/plain": [
       "  name    gender     male  income_cat park_dist\n",
       "1 Andie   Female     FALSE middle     1.0      \n",
       "2 Bridger non-binary FALSE poor       0.5      \n",
       "3 Scott   Male        TRUE rich       0.1      "
      ]
     },
     "metadata": {},
     "output_type": "display_data"
    }
   ],
   "source": [
    "# Create the data frame\n",
    "myPpl <- data.frame(\n",
    "   name = c(\"Andie\", \"Bridger\", \"Scott\"),\n",
    "   gender = c(\"Female\", \"non-binary\", \"Male\"),\n",
    "   male = c(FALSE, FALSE, TRUE),\n",
    "   income_cat = c(\"middle\", \"poor\", \"rich\"),\n",
    "   park_dist = c(1, 0.5, 0.1)\n",
    ")\n",
    "myPpl\n"
   ]
  },
  {
   "cell_type": "markdown",
   "id": "4350071b",
   "metadata": {},
   "source": [
    "Remember how we can reference our columns, rows and cells \n",
    "\n",
    "- Column:\n",
    "    - Version One: `myPpl$var_name`\n",
    "    - Version One: `myPpl[, j]` where `j` is our column number \n",
    "- Row: `myPpl[i, ]` where `i` is our row number\n",
    "- Cell: `myPpl[i,j]`\n"
   ]
  },
  {
   "cell_type": "markdown",
   "id": "d53a6e5a",
   "metadata": {},
   "source": [
    "# Functions\n",
    "\n",
    "Functions: once you have initialized them, they take in an input, perform a set of operations on them, and\n",
    "then give you some return value.\n",
    "\n",
    "These are helpful when you have something that you do often\n",
    "\n",
    "- Recent example for me\n",
    "    - Wrote a function to take a date and return the season\n",
    "    - Wrote a function to get kelvin and return \n",
    "- Rule of thumb: if you’re copying and pasting code 3 times or more, make function\n",
    "- I say if you are going to copy past ever, because even if you think it’ll only be twice it’ll probably be more\n",
    "\n",
    "## Psuedo Code Example \n",
    "\n",
    "my function: y = x + 3; return y \n",
    "\n",
    "If you gave this function x=3, what would it return for y? \n",
    "\n",
    "## Let's write a function\n",
    "Let's say we want to write a function that models the relationship between the probability of someone visiting a national park and the temperature (F). You know that people don't visit the park when it's very cold, nor when it's very hot. You model the relationship using the following quadratic equation \n",
    "$$v = F/100 - (F/100)^2$$\n",
    "where $v$ is visits and $F$ is the temperature. \n",
    "\n",
    "We want to get the function the temperature $F$ and have it return the predicted number of trips taken $v$. "
   ]
  },
  {
   "cell_type": "code",
   "execution_count": 8,
   "id": "ba1115d6",
   "metadata": {
    "vscode": {
     "languageId": "r"
    }
   },
   "outputs": [
    {
     "data": {
      "text/html": [
       "0"
      ],
      "text/latex": [
       "0"
      ],
      "text/markdown": [
       "0"
      ],
      "text/plain": [
       "[1] 0"
      ]
     },
     "metadata": {},
     "output_type": "display_data"
    },
    {
     "data": {
      "text/html": [
       "0.1875"
      ],
      "text/latex": [
       "0.1875"
      ],
      "text/markdown": [
       "0.1875"
      ],
      "text/plain": [
       "[1] 0.1875"
      ]
     },
     "metadata": {},
     "output_type": "display_data"
    },
    {
     "data": {
      "text/html": [
       "0.25"
      ],
      "text/latex": [
       "0.25"
      ],
      "text/markdown": [
       "0.25"
      ],
      "text/plain": [
       "[1] 0.25"
      ]
     },
     "metadata": {},
     "output_type": "display_data"
    },
    {
     "data": {
      "text/html": [
       "0.1875"
      ],
      "text/latex": [
       "0.1875"
      ],
      "text/markdown": [
       "0.1875"
      ],
      "text/plain": [
       "[1] 0.1875"
      ]
     },
     "metadata": {},
     "output_type": "display_data"
    },
    {
     "data": {
      "text/html": [
       "0"
      ],
      "text/latex": [
       "0"
      ],
      "text/markdown": [
       "0"
      ],
      "text/plain": [
       "[1] 0"
      ]
     },
     "metadata": {},
     "output_type": "display_data"
    }
   ],
   "source": [
    "get_visits <- function(F){\n",
    "    v <- F/100 - (F/100)^2\n",
    "    return(v)\n",
    "}\n",
    "\n",
    "get_visits(0) # returns 0 \n",
    "get_visits(25) # returns 0.1875\n",
    "get_visits(50) # returns 0.25\n",
    "get_visits(75) # returns 0.1875\n",
    "get_visits(100)# returns 0 \n"
   ]
  },
  {
   "cell_type": "markdown",
   "id": "3ec56151",
   "metadata": {},
   "source": [
    "So we can see that as the temperature increases from 0F to 50F, the probability of someone taking a trip increases up to 25\\%. However, after 50F, the probability of taking a trip begins to decrease. "
   ]
  },
  {
   "cell_type": "markdown",
   "id": "8295fbdb",
   "metadata": {},
   "source": [
    "# Global vs Local Variables\n",
    "\n",
    "In most programming languages (including R and Python), variables can have different scopes, meaning they can be either global or local. Understanding the distinction between global and local variables is crucial for writing functions and controlling the flow of your code.\n",
    "\n",
    "- **Global Variables**: These are variables that are defined in the main body of your script and can be accessed from anywhere in the script.\n",
    "- **Local Variables**: These are variables that are defined within a function and can only be accessed from within that function.\n",
    "\n",
    "Let's look at an example to illustrate this distinction."
   ]
  },
  {
   "cell_type": "code",
   "execution_count": 10,
   "id": "3d896bf7",
   "metadata": {
    "vscode": {
     "languageId": "r"
    }
   },
   "outputs": [
    {
     "name": "stdout",
     "output_type": "stream",
     "text": [
      "[1] \"I am a local variable\"\n",
      "[1] \"I am a global variable\"\n"
     ]
    },
    {
     "ename": "ERROR",
     "evalue": "Error in eval(expr, envir, enclos): object 'local_var' not found\n",
     "output_type": "error",
     "traceback": [
      "Error in eval(expr, envir, enclos): object 'local_var' not found\nTraceback:\n",
      "1. print(local_var)"
     ]
    }
   ],
   "source": [
    "# Global variable\n",
    "global_var <- \"I am a global variable\"\n",
    "\n",
    "# Function to demonstrate local variable\n",
    "local_example <- function() {\n",
    "    # Local variable\n",
    "    local_var <- \"I am a local variable\"\n",
    "    \n",
    "    # Print local variable\n",
    "    print(local_var)\n",
    "    \n",
    "    # Print global variable\n",
    "    print(global_var)\n",
    "}\n",
    "\n",
    "# Call the function\n",
    "local_example()\n",
    "\n",
    "# Try to print the local variable outside the function (this will cause an error)\n",
    "print(local_var)"
   ]
  },
  {
   "cell_type": "markdown",
   "id": "65a26725",
   "metadata": {},
   "source": [
    "# Error Handling\n",
    "Now that we have purposefully thrown an errow, we can discuss error handeling. \n",
    "\n",
    "Error handling is an important aspect of programming that allows you to manage and respond to errors in a controlled way. In R, you can use functions like `try()` and `tryCatch()` to handle errors. These are very useful to use in loops or apply functions, when your concerned some observations may cause an error but you'd like your code to attempt all iterations. \n",
    "\n",
    "- **try()**: This function allows you to run a piece of code and catch any errors that occur.\n",
    "    - It returns the result of the code if it runs successfully, or an error object if an error occurs.\n",
    "    - By returning an error object, your able to keep moving forward.\n",
    "- **tryCatch()**: This function provides more control over error handling by allowing you to specify different actions for different types of conditions (errors, warnings, messages).\n",
    "\n",
    "## How to handle errors for now (the less technical way)\n",
    "\n",
    "While we won't go into detailed examples here, it's important to be aware of these functions and how they can be used to make your code more robust and error-tolerant.\n",
    "\n",
    "As a beginner programmer, encountering errors is a common and essential part of the learning process. Here are some strategies to effectively address errors:\n",
    "\n",
    "1. **Read Error Messages Carefully**:\n",
    "    - Error messages often provide valuable information about what went wrong and where. Take the time to read and understand them.\n",
    "\n",
    "2. **Google the Error**:\n",
    "    - Copy and paste the error message into a search engine. Often, you will find forums, blog posts, or documentation that address similar issues.\n",
    "\n",
    "3. **Use Stack Overflow**:\n",
    "    - Stack Overflow is a popular platform where developers ask and answer programming questions. Search for your error or ask a new question if you can't find a solution. Be sure to provide a clear and concise description of your problem, including relevant code snippets.\n",
    "\n",
    "4. **Consult Documentation**:\n",
    "    - Official documentation for the programming language or library you are using can be very helpful. It often includes examples and explanations of common errors.\n",
    "\n",
    "5. **Cautiously Leverage AI Tools**:\n",
    "    - AI tools like ChatGPT can provide code suggestions and help identify potential issues in your code. These tools can be particularly useful for beginners who are still learning the syntax and best practices.\n",
    "    - However, be **very careful** to not use these resources as a crutch. If you depend on them too much, you will miss the opportunity to learn how to code for yourself!\n",
    "\n",
    "6. **Ask for Help**:\n",
    "    - Don't hesitate to ask for help from more experienced programmers, whether they are colleagues, mentors, or members of online communities. Providing a clear explanation of your problem and what you have tried so far will increase your chances of getting useful assistance and is a good exercise in identifying your problem.\n",
    "\n",
    "7. **Practice Debugging**:\n",
    "    - Debugging is a skill that improves with practice.\n",
    "    - It sometimes feels like suffering, but you will become a better programming by struggling through your own errors. \n",
    "\n",
    "\n"
   ]
  },
  {
   "cell_type": "markdown",
   "id": "1fd3f450",
   "metadata": {},
   "source": [
    "# Loops\n",
    "\n",
    "- for loops: iterates through a task for a set number of times\n",
    "- Consider these loops (psuedo code):\n",
    "    - For (i in 1 through 4) { print i }\n",
    "    - For (i in 1 through 4) { print i / 4}\n",
    "- Can be helpful when\n",
    "    - Iterating through a column of data and do something to each row\n",
    "    - Construct a new column and want to construct each row by scratch\n",
    "    - Simulation model"
   ]
  },
  {
   "cell_type": "code",
   "execution_count": 107,
   "id": "ba8d2800",
   "metadata": {
    "vscode": {
     "languageId": "r"
    }
   },
   "outputs": [
    {
     "name": "stdout",
     "output_type": "stream",
     "text": [
      "[1] 1\n",
      "[1] 2\n",
      "[1] 3\n",
      "[1] 4\n"
     ]
    }
   ],
   "source": [
    "# Complicated code that is simplified by the loop\n",
    "print(1)\n",
    "print(2)\n",
    "print(3)\n",
    "print(4)"
   ]
  },
  {
   "cell_type": "code",
   "execution_count": 108,
   "id": "da6cf699",
   "metadata": {
    "vscode": {
     "languageId": "r"
    }
   },
   "outputs": [
    {
     "name": "stdout",
     "output_type": "stream",
     "text": [
      "[1] 1\n",
      "[1] 2\n",
      "[1] 3\n",
      "[1] 4\n"
     ]
    }
   ],
   "source": [
    "# the following loop does the exact same thing\n",
    "for (i in 1:4){\n",
    "    print(i)\n",
    "}"
   ]
  },
  {
   "cell_type": "code",
   "execution_count": 109,
   "id": "7720e7cf",
   "metadata": {
    "vscode": {
     "languageId": "r"
    }
   },
   "outputs": [
    {
     "name": "stdout",
     "output_type": "stream",
     "text": [
      "[1] 0.25\n",
      "[1] 0.5\n",
      "[1] 0.75\n",
      "[1] 1\n"
     ]
    }
   ],
   "source": [
    "# Operations or code run outside of a for loop can be run inside of a for loop\n",
    "for (i in 1:4){\n",
    "    print(i/4) # performing a division operation within the for loop\n",
    "}"
   ]
  },
  {
   "cell_type": "markdown",
   "id": "706d35fd",
   "metadata": {},
   "source": [
    "## Let's combine a loop with our earlier function"
   ]
  },
  {
   "cell_type": "code",
   "execution_count": 110,
   "id": "d474cdac",
   "metadata": {
    "vscode": {
     "languageId": "r"
    }
   },
   "outputs": [
    {
     "data": {
      "text/html": [
       "<style>\n",
       ".list-inline {list-style: none; margin:0; padding: 0}\n",
       ".list-inline>li {display: inline-block}\n",
       ".list-inline>li:not(:last-child)::after {content: \"\\00b7\"; padding: 0 .5ex}\n",
       "</style>\n",
       "<ol class=list-inline><li>0</li><li>10</li><li>20</li><li>30</li><li>40</li><li>50</li><li>60</li><li>70</li><li>80</li><li>90</li><li>100</li></ol>\n"
      ],
      "text/latex": [
       "\\begin{enumerate*}\n",
       "\\item 0\n",
       "\\item 10\n",
       "\\item 20\n",
       "\\item 30\n",
       "\\item 40\n",
       "\\item 50\n",
       "\\item 60\n",
       "\\item 70\n",
       "\\item 80\n",
       "\\item 90\n",
       "\\item 100\n",
       "\\end{enumerate*}\n"
      ],
      "text/markdown": [
       "1. 0\n",
       "2. 10\n",
       "3. 20\n",
       "4. 30\n",
       "5. 40\n",
       "6. 50\n",
       "7. 60\n",
       "8. 70\n",
       "9. 80\n",
       "10. 90\n",
       "11. 100\n",
       "\n",
       "\n"
      ],
      "text/plain": [
       " [1]   0  10  20  30  40  50  60  70  80  90 100"
      ]
     },
     "metadata": {},
     "output_type": "display_data"
    },
    {
     "name": "stdout",
     "output_type": "stream",
     "text": [
      "[1] 0\n",
      "[1] 0.09\n",
      "[1] 0.16\n",
      "[1] 0.21\n",
      "[1] 0.24\n",
      "[1] 0.25\n",
      "[1] 0.24\n",
      "[1] 0.21\n",
      "[1] 0.16\n",
      "[1] 0.09\n",
      "[1] 0\n"
     ]
    }
   ],
   "source": [
    "# First, let's create a vector of the max_temps we want to get visits for\n",
    "max_temps <- seq(0, 100, by = 10)\n",
    "max_temps\n",
    "\n",
    "# combining loop and our function\n",
    "for (i in max_temps){\n",
    "    y <- get_visits(i)\n",
    "    print(y)\n",
    "}"
   ]
  },
  {
   "cell_type": "markdown",
   "id": "f5e0b637",
   "metadata": {},
   "source": [
    "## Interating over a data frame\n",
    "Let's recall our data fram `myPpl`. We can use a for loop to iteratively change each cell in a column. \n",
    "\n",
    "Let's say all three of our people, Andie, Bridger and Scott, move one mile away from their nearest park (bummer). We could do this one line at at time, like this:"
   ]
  },
  {
   "cell_type": "code",
   "execution_count": 111,
   "id": "e26df1e7",
   "metadata": {
    "vscode": {
     "languageId": "r"
    }
   },
   "outputs": [
    {
     "data": {
      "text/html": [
       "<table class=\"dataframe\">\n",
       "<caption>A data.frame: 3 x 6</caption>\n",
       "<thead>\n",
       "\t<tr><th scope=col>name</th><th scope=col>gender</th><th scope=col>male</th><th scope=col>income_cat</th><th scope=col>park_dist</th><th scope=col>new_park_dist_a</th></tr>\n",
       "\t<tr><th scope=col>&lt;chr&gt;</th><th scope=col>&lt;chr&gt;</th><th scope=col>&lt;lgl&gt;</th><th scope=col>&lt;chr&gt;</th><th scope=col>&lt;dbl&gt;</th><th scope=col>&lt;dbl&gt;</th></tr>\n",
       "</thead>\n",
       "<tbody>\n",
       "\t<tr><td>Andie  </td><td>Female    </td><td>FALSE</td><td>middle</td><td>1.0</td><td>2.0</td></tr>\n",
       "\t<tr><td>Bridger</td><td>non-binary</td><td>FALSE</td><td>poor  </td><td>0.5</td><td>1.5</td></tr>\n",
       "\t<tr><td>Scott  </td><td>Male      </td><td> TRUE</td><td>rich  </td><td>0.1</td><td>1.1</td></tr>\n",
       "</tbody>\n",
       "</table>\n"
      ],
      "text/latex": [
       "A data.frame: 3 x 6\n",
       "\\begin{tabular}{llllll}\n",
       " name & gender & male & income\\_cat & park\\_dist & new\\_park\\_dist\\_a\\\\\n",
       " <chr> & <chr> & <lgl> & <chr> & <dbl> & <dbl>\\\\\n",
       "\\hline\n",
       "\t Andie   & Female     & FALSE & middle & 1.0 & 2.0\\\\\n",
       "\t Bridger & non-binary & FALSE & poor   & 0.5 & 1.5\\\\\n",
       "\t Scott   & Male       &  TRUE & rich   & 0.1 & 1.1\\\\\n",
       "\\end{tabular}\n"
      ],
      "text/markdown": [
       "\n",
       "A data.frame: 3 x 6\n",
       "\n",
       "| name &lt;chr&gt; | gender &lt;chr&gt; | male &lt;lgl&gt; | income_cat &lt;chr&gt; | park_dist &lt;dbl&gt; | new_park_dist_a &lt;dbl&gt; |\n",
       "|---|---|---|---|---|---|\n",
       "| Andie   | Female     | FALSE | middle | 1.0 | 2.0 |\n",
       "| Bridger | non-binary | FALSE | poor   | 0.5 | 1.5 |\n",
       "| Scott   | Male       |  TRUE | rich   | 0.1 | 1.1 |\n",
       "\n"
      ],
      "text/plain": [
       "  name    gender     male  income_cat park_dist new_park_dist_a\n",
       "1 Andie   Female     FALSE middle     1.0       2.0            \n",
       "2 Bridger non-binary FALSE poor       0.5       1.5            \n",
       "3 Scott   Male        TRUE rich       0.1       1.1            "
      ]
     },
     "metadata": {},
     "output_type": "display_data"
    }
   ],
   "source": [
    "# the [i] here is indicating which row we are editing\n",
    "myPpl$new_park_dist_a[1] <- myPpl$park_dist[1] + 1 # edit for Andie\n",
    "myPpl$new_park_dist_a[2] <- myPpl$park_dist[2] + 1 # edit for Bridger\n",
    "myPpl$new_park_dist_a[3] <- myPpl$park_dist[3] + 1 # edit for Scott\n",
    "\n",
    "# print\n",
    "myPpl"
   ]
  },
  {
   "cell_type": "markdown",
   "id": "59bb76c5",
   "metadata": {},
   "source": [
    "This worked, but there is an easier way to do it with a loop. The loop will help minimize the chance of making an error and shorten the amount of code we need to write to acheive our goal."
   ]
  },
  {
   "cell_type": "code",
   "execution_count": 112,
   "id": "c9c452b5",
   "metadata": {
    "vscode": {
     "languageId": "r"
    }
   },
   "outputs": [
    {
     "data": {
      "text/html": [
       "<table class=\"dataframe\">\n",
       "<caption>A data.frame: 3 x 7</caption>\n",
       "<thead>\n",
       "\t<tr><th scope=col>name</th><th scope=col>gender</th><th scope=col>male</th><th scope=col>income_cat</th><th scope=col>park_dist</th><th scope=col>new_park_dist_a</th><th scope=col>new_park_dist_b</th></tr>\n",
       "\t<tr><th scope=col>&lt;chr&gt;</th><th scope=col>&lt;chr&gt;</th><th scope=col>&lt;lgl&gt;</th><th scope=col>&lt;chr&gt;</th><th scope=col>&lt;dbl&gt;</th><th scope=col>&lt;dbl&gt;</th><th scope=col>&lt;dbl&gt;</th></tr>\n",
       "</thead>\n",
       "<tbody>\n",
       "\t<tr><td>Andie  </td><td>Female    </td><td>FALSE</td><td>middle</td><td>1.0</td><td>2.0</td><td>2.0</td></tr>\n",
       "\t<tr><td>Bridger</td><td>non-binary</td><td>FALSE</td><td>poor  </td><td>0.5</td><td>1.5</td><td>1.5</td></tr>\n",
       "\t<tr><td>Scott  </td><td>Male      </td><td> TRUE</td><td>rich  </td><td>0.1</td><td>1.1</td><td>1.1</td></tr>\n",
       "</tbody>\n",
       "</table>\n"
      ],
      "text/latex": [
       "A data.frame: 3 x 7\n",
       "\\begin{tabular}{lllllll}\n",
       " name & gender & male & income\\_cat & park\\_dist & new\\_park\\_dist\\_a & new\\_park\\_dist\\_b\\\\\n",
       " <chr> & <chr> & <lgl> & <chr> & <dbl> & <dbl> & <dbl>\\\\\n",
       "\\hline\n",
       "\t Andie   & Female     & FALSE & middle & 1.0 & 2.0 & 2.0\\\\\n",
       "\t Bridger & non-binary & FALSE & poor   & 0.5 & 1.5 & 1.5\\\\\n",
       "\t Scott   & Male       &  TRUE & rich   & 0.1 & 1.1 & 1.1\\\\\n",
       "\\end{tabular}\n"
      ],
      "text/markdown": [
       "\n",
       "A data.frame: 3 x 7\n",
       "\n",
       "| name &lt;chr&gt; | gender &lt;chr&gt; | male &lt;lgl&gt; | income_cat &lt;chr&gt; | park_dist &lt;dbl&gt; | new_park_dist_a &lt;dbl&gt; | new_park_dist_b &lt;dbl&gt; |\n",
       "|---|---|---|---|---|---|---|\n",
       "| Andie   | Female     | FALSE | middle | 1.0 | 2.0 | 2.0 |\n",
       "| Bridger | non-binary | FALSE | poor   | 0.5 | 1.5 | 1.5 |\n",
       "| Scott   | Male       |  TRUE | rich   | 0.1 | 1.1 | 1.1 |\n",
       "\n"
      ],
      "text/plain": [
       "  name    gender     male  income_cat park_dist new_park_dist_a new_park_dist_b\n",
       "1 Andie   Female     FALSE middle     1.0       2.0             2.0            \n",
       "2 Bridger non-binary FALSE poor       0.5       1.5             1.5            \n",
       "3 Scott   Male        TRUE rich       0.1       1.1             1.1            "
      ]
     },
     "metadata": {},
     "output_type": "display_data"
    }
   ],
   "source": [
    "for(i in seq_along(myPpl$park_dist)){\n",
    "    # change all people's distance\n",
    "    myPpl$new_park_dist_b[i] <- myPpl$park_dist[i] + 1 \n",
    "}\n",
    "\n",
    "myPpl"
   ]
  },
  {
   "cell_type": "markdown",
   "id": "f39b1483",
   "metadata": {},
   "source": [
    "We can see that both versions (a versus b) worked the same. However, the for loop simplifies the approach. "
   ]
  },
  {
   "cell_type": "markdown",
   "id": "85d4fa6f",
   "metadata": {},
   "source": [
    "# Loops for Simulation "
   ]
  },
  {
   "cell_type": "code",
   "execution_count": 125,
   "id": "a0aa8eda",
   "metadata": {
    "vscode": {
     "languageId": "r"
    }
   },
   "outputs": [
    {
     "data": {
      "text/html": [
       "<table class=\"dataframe\">\n",
       "<caption>A data.frame: 6 x 2</caption>\n",
       "<thead>\n",
       "\t<tr><th></th><th scope=col>Year</th><th scope=col>Temperature</th></tr>\n",
       "\t<tr><th></th><th scope=col>&lt;dbl&gt;</th><th scope=col>&lt;dbl&gt;</th></tr>\n",
       "</thead>\n",
       "<tbody>\n",
       "\t<tr><th scope=row>1</th><td>2025</td><td>15.00</td></tr>\n",
       "\t<tr><th scope=row>2</th><td>2026</td><td>15.02</td></tr>\n",
       "\t<tr><th scope=row>3</th><td>2027</td><td>15.04</td></tr>\n",
       "\t<tr><th scope=row>4</th><td>2028</td><td>15.06</td></tr>\n",
       "\t<tr><th scope=row>5</th><td>2029</td><td>15.08</td></tr>\n",
       "\t<tr><th scope=row>6</th><td>2030</td><td>15.10</td></tr>\n",
       "</tbody>\n",
       "</table>\n"
      ],
      "text/latex": [
       "A data.frame: 6 x 2\n",
       "\\begin{tabular}{r|ll}\n",
       "  & Year & Temperature\\\\\n",
       "  & <dbl> & <dbl>\\\\\n",
       "\\hline\n",
       "\t1 & 2025 & 15.00\\\\\n",
       "\t2 & 2026 & 15.02\\\\\n",
       "\t3 & 2027 & 15.04\\\\\n",
       "\t4 & 2028 & 15.06\\\\\n",
       "\t5 & 2029 & 15.08\\\\\n",
       "\t6 & 2030 & 15.10\\\\\n",
       "\\end{tabular}\n"
      ],
      "text/markdown": [
       "\n",
       "A data.frame: 6 x 2\n",
       "\n",
       "| <!--/--> | Year &lt;dbl&gt; | Temperature &lt;dbl&gt; |\n",
       "|---|---|---|\n",
       "| 1 | 2025 | 15.00 |\n",
       "| 2 | 2026 | 15.02 |\n",
       "| 3 | 2027 | 15.04 |\n",
       "| 4 | 2028 | 15.06 |\n",
       "| 5 | 2029 | 15.08 |\n",
       "| 6 | 2030 | 15.10 |\n",
       "\n"
      ],
      "text/plain": [
       "  Year Temperature\n",
       "1 2025 15.00      \n",
       "2 2026 15.02      \n",
       "3 2027 15.04      \n",
       "4 2028 15.06      \n",
       "5 2029 15.08      \n",
       "6 2030 15.10      "
      ]
     },
     "metadata": {},
     "output_type": "display_data"
    }
   ],
   "source": [
    "# Initialize parameters\n",
    "initial_temp <- 15 # Initial temperature in degrees Celsius\n",
    "n_year <- 51 # Number of n_year to simulate\n",
    "temp_increase_per_year <- 0.02 # Temperature increase per year in degrees Celsius\n",
    "\n",
    "# Create a numeric vector for the 50 years we will simulate\n",
    "years <- numeric(n_year)\n",
    "years[1] <- 2025 # initialize the first year\n",
    "\n",
    "# Create a numeric vector for the 50 years of temperatures we will simulate\n",
    "max_temps <- numeric(n_year)\n",
    "max_temps[1] <- initial_temp # initialize temp in first year\n",
    "\n",
    "# Simulate the temperature change over the n_year \n",
    "# notice this will start in year TWO\n",
    "for (yr in 2:n_year) {\n",
    "    years[yr] <- years[yr - 1] + 1 # fill in the years\n",
    "    max_temps[yr] <- max_temps[yr - 1] + temp_increase_per_year # fill in the max_temps\n",
    "}\n",
    "\n",
    "# Create a data frame to store the results\n",
    "simulation_results <- data.frame(\n",
    "    Year = years,\n",
    "    Temperature = max_temps\n",
    ")\n",
    "\n",
    "# Print the results\n",
    "head(simulation_results) # show the first few rows \n"
   ]
  },
  {
   "cell_type": "code",
   "execution_count": 126,
   "id": "81ea05c6",
   "metadata": {
    "vscode": {
     "languageId": "r"
    }
   },
   "outputs": [
    {
     "data": {
      "text/html": [
       "<table class=\"dataframe\">\n",
       "<caption>A data.frame: 6 x 2</caption>\n",
       "<thead>\n",
       "\t<tr><th></th><th scope=col>Year</th><th scope=col>Temperature</th></tr>\n",
       "\t<tr><th></th><th scope=col>&lt;dbl&gt;</th><th scope=col>&lt;dbl&gt;</th></tr>\n",
       "</thead>\n",
       "<tbody>\n",
       "\t<tr><th scope=row>46</th><td>2070</td><td>15.90</td></tr>\n",
       "\t<tr><th scope=row>47</th><td>2071</td><td>15.92</td></tr>\n",
       "\t<tr><th scope=row>48</th><td>2072</td><td>15.94</td></tr>\n",
       "\t<tr><th scope=row>49</th><td>2073</td><td>15.96</td></tr>\n",
       "\t<tr><th scope=row>50</th><td>2074</td><td>15.98</td></tr>\n",
       "\t<tr><th scope=row>51</th><td>2075</td><td>16.00</td></tr>\n",
       "</tbody>\n",
       "</table>\n"
      ],
      "text/latex": [
       "A data.frame: 6 x 2\n",
       "\\begin{tabular}{r|ll}\n",
       "  & Year & Temperature\\\\\n",
       "  & <dbl> & <dbl>\\\\\n",
       "\\hline\n",
       "\t46 & 2070 & 15.90\\\\\n",
       "\t47 & 2071 & 15.92\\\\\n",
       "\t48 & 2072 & 15.94\\\\\n",
       "\t49 & 2073 & 15.96\\\\\n",
       "\t50 & 2074 & 15.98\\\\\n",
       "\t51 & 2075 & 16.00\\\\\n",
       "\\end{tabular}\n"
      ],
      "text/markdown": [
       "\n",
       "A data.frame: 6 x 2\n",
       "\n",
       "| <!--/--> | Year &lt;dbl&gt; | Temperature &lt;dbl&gt; |\n",
       "|---|---|---|\n",
       "| 46 | 2070 | 15.90 |\n",
       "| 47 | 2071 | 15.92 |\n",
       "| 48 | 2072 | 15.94 |\n",
       "| 49 | 2073 | 15.96 |\n",
       "| 50 | 2074 | 15.98 |\n",
       "| 51 | 2075 | 16.00 |\n",
       "\n"
      ],
      "text/plain": [
       "   Year Temperature\n",
       "46 2070 15.90      \n",
       "47 2071 15.92      \n",
       "48 2072 15.94      \n",
       "49 2073 15.96      \n",
       "50 2074 15.98      \n",
       "51 2075 16.00      "
      ]
     },
     "metadata": {},
     "output_type": "display_data"
    }
   ],
   "source": [
    "tail(simulation_results)"
   ]
  },
  {
   "cell_type": "code",
   "execution_count": 127,
   "id": "09b5c1de",
   "metadata": {
    "vscode": {
     "languageId": "r"
    }
   },
   "outputs": [
    {
     "data": {
      "image/png": "[encoded data removed]",
      "text/plain": [
       "Plot with title \"Temperature Over Time\""
      ]
     },
     "metadata": {
      "image/png": {
       "height": 420,
       "width": 420
      }
     },
     "output_type": "display_data"
    }
   ],
   "source": [
    "# Plot the results\n",
    "plot(simulation_results$Year, simulation_results$Temperature,\n",
    "     xlab = \"Year\", ylab = \"Max Temperature (C)\",\n",
    "     main = \"Temperature Over Time\")"
   ]
  },
  {
   "cell_type": "markdown",
   "id": "095086ca",
   "metadata": {},
   "source": [
    "# Apply functions \n",
    "Apply functions in R are powerful tools for performing operations on data structures like vectors, lists, and data frames. They are often more efficient and concise than loops. Here is an example using the `apply()` function to calculate the mean of each column in a data frame.\n",
    "\n",
    "Say you are studying three national parks (Yellowstone, Glacier, and Yosemite). You have been collecting data at each, and you want to quickly find the average temperature at each site. \n",
    "\n",
    "Let's do this two ways. First, finding it for each row one line at a time. Second, using an apply function to iterate across the rows. \n"
   ]
  },
  {
   "cell_type": "code",
   "execution_count": 113,
   "id": "efc29a45",
   "metadata": {
    "vscode": {
     "languageId": "r"
    }
   },
   "outputs": [
    {
     "data": {
      "text/html": [
       "<table class=\"dataframe\">\n",
       "<caption>A data.frame: 5 x 3</caption>\n",
       "<thead>\n",
       "\t<tr><th scope=col>yellowstone</th><th scope=col>glacier</th><th scope=col>yosemite</th></tr>\n",
       "\t<tr><th scope=col>&lt;dbl&gt;</th><th scope=col>&lt;dbl&gt;</th><th scope=col>&lt;dbl&gt;</th></tr>\n",
       "</thead>\n",
       "<tbody>\n",
       "\t<tr><td>  0</td><td>-10</td><td> 20</td></tr>\n",
       "\t<tr><td> -5</td><td>-15</td><td> 15</td></tr>\n",
       "\t<tr><td> 50</td><td> 40</td><td> 70</td></tr>\n",
       "\t<tr><td>102</td><td> 92</td><td>122</td></tr>\n",
       "\t<tr><td> 76</td><td> 66</td><td> 96</td></tr>\n",
       "</tbody>\n",
       "</table>\n"
      ],
      "text/latex": [
       "A data.frame: 5 x 3\n",
       "\\begin{tabular}{lll}\n",
       " yellowstone & glacier & yosemite\\\\\n",
       " <dbl> & <dbl> & <dbl>\\\\\n",
       "\\hline\n",
       "\t   0 & -10 &  20\\\\\n",
       "\t  -5 & -15 &  15\\\\\n",
       "\t  50 &  40 &  70\\\\\n",
       "\t 102 &  92 & 122\\\\\n",
       "\t  76 &  66 &  96\\\\\n",
       "\\end{tabular}\n"
      ],
      "text/markdown": [
       "\n",
       "A data.frame: 5 x 3\n",
       "\n",
       "| yellowstone &lt;dbl&gt; | glacier &lt;dbl&gt; | yosemite &lt;dbl&gt; |\n",
       "|---|---|---|\n",
       "|   0 | -10 |  20 |\n",
       "|  -5 | -15 |  15 |\n",
       "|  50 |  40 |  70 |\n",
       "| 102 |  92 | 122 |\n",
       "|  76 |  66 |  96 |\n",
       "\n"
      ],
      "text/plain": [
       "  yellowstone glacier yosemite\n",
       "1   0         -10      20     \n",
       "2  -5         -15      15     \n",
       "3  50          40      70     \n",
       "4 102          92     122     \n",
       "5  76          66      96     "
      ]
     },
     "metadata": {},
     "output_type": "display_data"
    }
   ],
   "source": [
    "# Create a sample data frame\n",
    "df <- data.frame(\n",
    "    yellowstone = c(0, -5, 50, 102, 76),\n",
    "    glacier = c(-10, -15, 40, 92, 66),\n",
    "    yosemite = c(20, 15, 70, 122, 96)\n",
    ")\n",
    "\n",
    "df"
   ]
  },
  {
   "cell_type": "code",
   "execution_count": 114,
   "id": "b3c73276",
   "metadata": {
    "vscode": {
     "languageId": "r"
    }
   },
   "outputs": [
    {
     "data": {
      "text/html": [
       "44.6"
      ],
      "text/latex": [
       "44.6"
      ],
      "text/markdown": [
       "44.6"
      ],
      "text/plain": [
       "[1] 44.6"
      ]
     },
     "metadata": {},
     "output_type": "display_data"
    },
    {
     "data": {
      "text/html": [
       "34.6"
      ],
      "text/latex": [
       "34.6"
      ],
      "text/markdown": [
       "34.6"
      ],
      "text/plain": [
       "[1] 34.6"
      ]
     },
     "metadata": {},
     "output_type": "display_data"
    },
    {
     "data": {
      "text/html": [
       "64.6"
      ],
      "text/latex": [
       "64.6"
      ],
      "text/markdown": [
       "64.6"
      ],
      "text/plain": [
       "[1] 64.6"
      ]
     },
     "metadata": {},
     "output_type": "display_data"
    }
   ],
   "source": [
    "# Calculate the mean temperature for each park\n",
    "mean_yellowstone <- mean(df$yellowstone)\n",
    "mean_glacier <- mean(df$glacier)\n",
    "mean_yosemite <- mean(df$yosemite)\n",
    "\n",
    "# Print the results\n",
    "mean_yellowstone\n",
    "mean_glacier\n",
    "mean_yosemite"
   ]
  },
  {
   "cell_type": "markdown",
   "id": "b87eef21",
   "metadata": {},
   "source": [
    "Now let's use the `apply()` function to calculate the mean temperature for each park in a more efficient way.\n",
    "\n",
    "An apply funciton lets you quickly apply a function to either: \n",
    "\n",
    "1. every row in the dataframe \n",
    "2. every column in the dataframe \n",
    "\n",
    "In our case, we want the mean of every column. "
   ]
  },
  {
   "cell_type": "code",
   "execution_count": 115,
   "id": "5f4941af",
   "metadata": {
    "vscode": {
     "languageId": "r"
    }
   },
   "outputs": [
    {
     "data": {
      "text/html": [
       "<style>\n",
       ".dl-inline {width: auto; margin:0; padding: 0}\n",
       ".dl-inline>dt, .dl-inline>dd {float: none; width: auto; display: inline-block}\n",
       ".dl-inline>dt::after {content: \":\\0020\"; padding-right: .5ex}\n",
       ".dl-inline>dt:not(:first-of-type) {padding-left: .5ex}\n",
       "</style><dl class=dl-inline><dt>yellowstone</dt><dd>44.6</dd><dt>glacier</dt><dd>34.6</dd><dt>yosemite</dt><dd>64.6</dd></dl>\n"
      ],
      "text/latex": [
       "\\begin{description*}\n",
       "\\item[yellowstone] 44.6\n",
       "\\item[glacier] 34.6\n",
       "\\item[yosemite] 64.6\n",
       "\\end{description*}\n"
      ],
      "text/markdown": [
       "yellowstone\n",
       ":   44.6glacier\n",
       ":   34.6yosemite\n",
       ":   64.6\n",
       "\n"
      ],
      "text/plain": [
       "yellowstone     glacier    yosemite \n",
       "       44.6        34.6        64.6 "
      ]
     },
     "metadata": {},
     "output_type": "display_data"
    }
   ],
   "source": [
    "# Calculate the mean temperature for each park using apply function\n",
    "mean_max_temps <- apply(df, 2, mean)\n",
    "\n",
    "# Print the results\n",
    "mean_max_temps"
   ]
  },
  {
   "cell_type": "markdown",
   "id": "21eb423d",
   "metadata": {},
   "source": [
    "# If Else Statements \n",
    "\n",
    "- Sometimes you want to execute a task ONLY if a certain condition is met\n",
    "- Let's return to our myPpl dataset one last time (for today):\n",
    "    - Our RA did not record women and non-binary's *original* distances from parks correcly\n",
    "    - All women and non-binary people are actually 0.25 miles closer to parks than thought \n",
    "- What would the correct DF look like?\n",
    "    - If statements let you fix a mistake like this\n",
    "    - Also demonstrates why the Boolean (true/false or indicator) variable is so powerful"
   ]
  },
  {
   "cell_type": "code",
   "execution_count": 129,
   "id": "eaaf21d8",
   "metadata": {
    "vscode": {
     "languageId": "r"
    }
   },
   "outputs": [
    {
     "data": {
      "text/html": [
       "<table class=\"dataframe\">\n",
       "<caption>A data.frame: 3 x 9</caption>\n",
       "<thead>\n",
       "\t<tr><th scope=col>name</th><th scope=col>gender</th><th scope=col>male</th><th scope=col>income_cat</th><th scope=col>park_dist</th><th scope=col>new_park_dist_a</th><th scope=col>new_park_dist_b</th><th scope=col>park_dist_correct</th><th scope=col>park_dist_correct_apply</th></tr>\n",
       "\t<tr><th scope=col>&lt;chr&gt;</th><th scope=col>&lt;chr&gt;</th><th scope=col>&lt;lgl&gt;</th><th scope=col>&lt;chr&gt;</th><th scope=col>&lt;dbl&gt;</th><th scope=col>&lt;dbl&gt;</th><th scope=col>&lt;dbl&gt;</th><th scope=col>&lt;dbl&gt;</th><th scope=col>&lt;dbl&gt;</th></tr>\n",
       "</thead>\n",
       "<tbody>\n",
       "\t<tr><td>Andie  </td><td>Female    </td><td>FALSE</td><td>middle</td><td>1.0</td><td>2.0</td><td>2.0</td><td>0.75</td><td>0.5</td></tr>\n",
       "\t<tr><td>Bridger</td><td>non-binary</td><td>FALSE</td><td>poor  </td><td>0.5</td><td>1.5</td><td>1.5</td><td>0.25</td><td>0.0</td></tr>\n",
       "\t<tr><td>Scott  </td><td>Male      </td><td> TRUE</td><td>rich  </td><td>0.1</td><td>1.1</td><td>1.1</td><td>0.10</td><td>0.1</td></tr>\n",
       "</tbody>\n",
       "</table>\n"
      ],
      "text/latex": [
       "A data.frame: 3 x 9\n",
       "\\begin{tabular}{lllllllll}\n",
       " name & gender & male & income\\_cat & park\\_dist & new\\_park\\_dist\\_a & new\\_park\\_dist\\_b & park\\_dist\\_correct & park\\_dist\\_correct\\_apply\\\\\n",
       " <chr> & <chr> & <lgl> & <chr> & <dbl> & <dbl> & <dbl> & <dbl> & <dbl>\\\\\n",
       "\\hline\n",
       "\t Andie   & Female     & FALSE & middle & 1.0 & 2.0 & 2.0 & 0.75 & 0.5\\\\\n",
       "\t Bridger & non-binary & FALSE & poor   & 0.5 & 1.5 & 1.5 & 0.25 & 0.0\\\\\n",
       "\t Scott   & Male       &  TRUE & rich   & 0.1 & 1.1 & 1.1 & 0.10 & 0.1\\\\\n",
       "\\end{tabular}\n"
      ],
      "text/markdown": [
       "\n",
       "A data.frame: 3 x 9\n",
       "\n",
       "| name &lt;chr&gt; | gender &lt;chr&gt; | male &lt;lgl&gt; | income_cat &lt;chr&gt; | park_dist &lt;dbl&gt; | new_park_dist_a &lt;dbl&gt; | new_park_dist_b &lt;dbl&gt; | park_dist_correct &lt;dbl&gt; | park_dist_correct_apply &lt;dbl&gt; |\n",
       "|---|---|---|---|---|---|---|---|---|\n",
       "| Andie   | Female     | FALSE | middle | 1.0 | 2.0 | 2.0 | 0.75 | 0.5 |\n",
       "| Bridger | non-binary | FALSE | poor   | 0.5 | 1.5 | 1.5 | 0.25 | 0.0 |\n",
       "| Scott   | Male       |  TRUE | rich   | 0.1 | 1.1 | 1.1 | 0.10 | 0.1 |\n",
       "\n"
      ],
      "text/plain": [
       "  name    gender     male  income_cat park_dist new_park_dist_a new_park_dist_b\n",
       "1 Andie   Female     FALSE middle     1.0       2.0             2.0            \n",
       "2 Bridger non-binary FALSE poor       0.5       1.5             1.5            \n",
       "3 Scott   Male        TRUE rich       0.1       1.1             1.1            \n",
       "  park_dist_correct park_dist_correct_apply\n",
       "1 0.75              0.5                    \n",
       "2 0.25              0.0                    \n",
       "3 0.10              0.1                    "
      ]
     },
     "metadata": {},
     "output_type": "display_data"
    }
   ],
   "source": [
    "# goes through each row and changes distance if someone is not male\n",
    "for (i in seq_along(myPpl$male)) {\n",
    "    if (myPpl$male[i] == FALSE) { # check if someone is \"not male\"\n",
    "        myPpl$park_dist_correct[i] <- myPpl$park_dist[i] - 0.25 # adjust\n",
    "    }else{\n",
    "        myPpl$park_dist_correct[i] <- myPpl$park_dist[i]\n",
    "    }\n",
    "}\n",
    "\n",
    "myPpl"
   ]
  }
 ],
 "metadata": {
  "kernelspec": {
   "display_name": "R",
   "language": "R",
   "name": "ir"
  },
  "language_info": {
   "codemirror_mode": "r",
   "file_extension": ".r",
   "mimetype": "text/x-r-source",
   "name": "R",
   "pygments_lexer": "r",
   "version": "4.4.1"
  }
 },
 "nbformat": 4,
 "nbformat_minor": 5
}
