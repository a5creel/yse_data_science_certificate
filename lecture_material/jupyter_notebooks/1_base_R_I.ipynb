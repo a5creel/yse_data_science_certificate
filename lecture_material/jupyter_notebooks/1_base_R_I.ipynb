{
 "cells": [
  {
   "cell_type": "markdown",
   "id": "c41deddd",
   "metadata": {},
   "source": [
    "# Goal\n",
    "This is R Studio. The goal of this lecture is to see some basics about R so that we can dive into more exciting things tomorrow. \n",
    "\n",
    "# Overview of R Studio \n",
    "Layout of RStudio: \n",
    "\n",
    "- Script\n",
    "  - Where you will be writing your own programs\n",
    "- Environment/History/Git\n",
    "  - Mostly just environment and Git\n",
    "  - Shows which data objects you have loaded in memory\n",
    "  - Eventually where you'll do version control with GitHub (last day)\n",
    "- Files/Plots/Packages/Help/Viewer  \n",
    "  - Helps you load packages and other files\n",
    "  - Default window when you're trying to get help with a function from a package\n",
    "- Console/Terminal\n",
    "  - Where the code actually runs\n",
    "  - Scripts execute in the console\n",
    "  - Code disappears in the console, whereas a script saves your code\n",
    "  - To run something in the console, type it in and hit \"enter\"\n",
    "  - Important to know there is a \"terminal\" in R Studio. Again, just know it's there. \n",
    "\n",
    "# Console\n",
    "\n",
    "- We can type code straight into the console and run it. \n",
    "- The console in R Studio knows you're running R code. \n",
    "\n"
   ]
  },
  {
   "cell_type": "code",
   "execution_count": 3,
   "id": "88017175",
   "metadata": {
    "vscode": {
     "languageId": "r"
    }
   },
   "outputs": [
    {
     "data": {
      "text/html": [
       "5"
      ],
      "text/latex": [
       "5"
      ],
      "text/markdown": [
       "5"
      ],
      "text/plain": [
       "[1] 5"
      ]
     },
     "metadata": {},
     "output_type": "display_data"
    },
    {
     "data": {
      "text/html": [
       "5"
      ],
      "text/latex": [
       "5"
      ],
      "text/markdown": [
       "5"
      ],
      "text/plain": [
       "[1] 5"
      ]
     },
     "metadata": {},
     "output_type": "display_data"
    }
   ],
   "source": [
    "# Type the following in the console, then press enter \n",
    "2 + 3\n",
    "\n",
    "# Variable assignment happens with an arrow (on a Mac can do option -) \n",
    "a <- 2\n",
    "b <- 3\n",
    "\n",
    "a + b\n"
   ]
  },
  {
   "cell_type": "markdown",
   "id": "09e98073",
   "metadata": {},
   "source": [
    "# How to write and execute a script\n",
    "\n",
    "**Writing Scripts and Running Code**\n",
    "\n",
    "- New Script: File > New File > R Script (or R Markdown, which is what I'm using now), or just the New Document script in the upper left-hand corner of the screen > R Script (or R Markdown)\n",
    "- Keyboard shortcut to run a section of code: highlight or put your cursor on that line and hit Ctrl + Enter (Windows) or Command + Enter (Mac)\n",
    "- Executing code: the run button at the top right corner of the script \n",
    "- For R Markdowns, we also have the Knit button at the top of the script.\n",
    "  - That will run all code and \"knit\" it together into a PDF, HTML, or doc\n",
    "  - File type is specified at the top of the R Markdown file\n",
    "\n",
    "**R Markdown**\n",
    "\n",
    "- I wrote this PDF using an R Markdown (**show them quickly**). \n",
    "- I love these because I'm able to write lots of notes to myself while I'm coding\n",
    "  - It produces a nice shareable file \n",
    "  - Can share my notes, code, and results with others. \n",
    "\n",
    "**Problem Sets**\n",
    "\n",
    "- If you have no experience with R, start with a script. \n",
    "- If you want to do an R Markdown and are used to them, that's fine. \n",
    "\n",
    "You can \"clean up\" the Environment after you've executed code by clicking the broom icon. **This will delete everything in your environment**.\n",
    "\n",
    "# Basic Data Types and COMMENTS\n",
    "\n"
   ]
  },
  {
   "cell_type": "code",
   "execution_count": 6,
   "id": "7644f454",
   "metadata": {
    "vscode": {
     "languageId": "r"
    }
   },
   "outputs": [
    {
     "data": {
      "text/html": [
       "1"
      ],
      "text/latex": [
       "1"
      ],
      "text/markdown": [
       "1"
      ],
      "text/plain": [
       "[1] 1"
      ]
     },
     "metadata": {},
     "output_type": "display_data"
    },
    {
     "data": {
      "text/html": [
       "2.4"
      ],
      "text/latex": [
       "2.4"
      ],
      "text/markdown": [
       "2.4"
      ],
      "text/plain": [
       "[1] 2.4"
      ]
     },
     "metadata": {},
     "output_type": "display_data"
    }
   ],
   "source": [
    "# This is a comment, you can use '#' to write notes to yourself in your code \n",
    "# - Comments are what make or break good coders, and coders who can collaborate with others. \n",
    "# - If you ever think you're writing \"too\" many comments, you almost always are not.\n",
    "# - The things you think are obvious in your code won't be to others \n",
    "# - (nor yourself in a year when you get back to a project)\n",
    "\n",
    "# Numeric -- integer: no decimal points\n",
    "myInt <- 1\n",
    "myInt\n",
    "\n",
    "# Numeric -- double: decimal points\n",
    "myNum <- 2.4\n",
    "myNum\n",
    "\n",
    "# Logical (Boolean/Indicator variable): a true/false statement. Use () to evaluate if something is true or false\n",
    "myBool_1 <- (3 < 4)\n",
    "myBool_2 <- (3 > 4)\n",
    "\n",
    "# Character (string) \n",
    "myChar_a <- \"a\"\n",
    "myChar_b <- 'b'\n"
   ]
  },
  {
   "cell_type": "markdown",
   "id": "c3781db2",
   "metadata": {},
   "source": [
    "# Ways to store data types \n"
   ]
  },
  {
   "cell_type": "code",
   "execution_count": 7,
   "id": "f85d8757",
   "metadata": {
    "vscode": {
     "languageId": "r"
    }
   },
   "outputs": [
    {
     "data": {
      "text/html": [
       "<style>\n",
       ".list-inline {list-style: none; margin:0; padding: 0}\n",
       ".list-inline>li {display: inline-block}\n",
       ".list-inline>li:not(:last-child)::after {content: \"\\00b7\"; padding: 0 .5ex}\n",
       "</style>\n",
       "<ol class=list-inline><li>'1'</li><li>'b'</li><li>'c'</li></ol>\n"
      ],
      "text/latex": [
       "\\begin{enumerate*}\n",
       "\\item '1'\n",
       "\\item 'b'\n",
       "\\item 'c'\n",
       "\\end{enumerate*}\n"
      ],
      "text/markdown": [
       "1. '1'\n",
       "2. 'b'\n",
       "3. 'c'\n",
       "\n",
       "\n"
      ],
      "text/plain": [
       "[1] \"1\" \"b\" \"c\""
      ]
     },
     "metadata": {},
     "output_type": "display_data"
    },
    {
     "data": {
      "text/html": [
       "2"
      ],
      "text/latex": [
       "2"
      ],
      "text/markdown": [
       "2"
      ],
      "text/plain": [
       "[1] 2"
      ]
     },
     "metadata": {},
     "output_type": "display_data"
    },
    {
     "data": {
      "text/html": [
       "'c'"
      ],
      "text/latex": [
       "'c'"
      ],
      "text/markdown": [
       "'c'"
      ],
      "text/plain": [
       "[1] \"c\""
      ]
     },
     "metadata": {},
     "output_type": "display_data"
    },
    {
     "data": {
      "text/html": [
       "<table class=\"dataframe\">\n",
       "<caption>A matrix: 2 x 5 of type dbl</caption>\n",
       "<tbody>\n",
       "\t<tr><td>1</td><td>3</td><td>5</td><td>7</td><td> 9</td></tr>\n",
       "\t<tr><td>2</td><td>4</td><td>6</td><td>8</td><td>10</td></tr>\n",
       "</tbody>\n",
       "</table>\n"
      ],
      "text/latex": [
       "A matrix: 2 x 5 of type dbl\n",
       "\\begin{tabular}{lllll}\n",
       "\t 1 & 3 & 5 & 7 &  9\\\\\n",
       "\t 2 & 4 & 6 & 8 & 10\\\\\n",
       "\\end{tabular}\n"
      ],
      "text/markdown": [
       "\n",
       "A matrix: 2 x 5 of type dbl\n",
       "\n",
       "| 1 | 3 | 5 | 7 |  9 |\n",
       "| 2 | 4 | 6 | 8 | 10 |\n",
       "\n"
      ],
      "text/plain": [
       "     [,1] [,2] [,3] [,4] [,5]\n",
       "[1,] 1    3    5    7     9  \n",
       "[2,] 2    4    6    8    10  "
      ]
     },
     "metadata": {},
     "output_type": "display_data"
    }
   ],
   "source": [
    "# Vector: can only be a vector of one data type (numeric, logical, string)\n",
    "myVec_n <- c(1, 2, 3, 4, 5)\n",
    "myVec_s <- c(myChar_a, \"b\", \"c\")\n",
    "myVec_string <- c(1, \"b\", \"c\")\n",
    "myVec_string # notice the 1 has been made a character because of the \"\n",
    "\n",
    "# Matrix: should only be a matrix of one data type\n",
    "myMat_n <- matrix(c(myVec_n, \n",
    "                6, 7, 8, 9, 10), \n",
    "              nrow = 2, \n",
    "              ncol = 5)\n",
    "\n",
    "# Lists: Very powerful, but somewhat confusing. For now, just know they exist\n",
    "myList <- list(2, \"c\", myMat_n)\n",
    "myList[[1]] # returns numeric \n",
    "myList[[2]] # returns string\n",
    "myList[[3]] # returns matrix\n"
   ]
  },
  {
   "cell_type": "markdown",
   "id": "673b7715",
   "metadata": {},
   "source": [
    "## Data Frames\n",
    "\n",
    "- Like matrices\n",
    "- Can have different data types in each column\n",
    "- Reference specific columns using the \"$\" operator, followed by the name of the column\n",
    "- For the most part, you’ll be loading new data by reading a CSV \n"
   ]
  },
  {
   "cell_type": "markdown",
   "id": "e06adec2",
   "metadata": {},
   "source": [
    "- You might have to create one at some point.\n",
    "- By looking at how they’re created we can get a better sense of what goes into them\n"
   ]
  },
  {
   "cell_type": "code",
   "execution_count": 8,
   "id": "13b56bf7",
   "metadata": {
    "vscode": {
     "languageId": "r"
    }
   },
   "outputs": [
    {
     "data": {
      "text/html": [
       "<style>\n",
       ".list-inline {list-style: none; margin:0; padding: 0}\n",
       ".list-inline>li {display: inline-block}\n",
       ".list-inline>li:not(:last-child)::after {content: \"\\00b7\"; padding: 0 .5ex}\n",
       "</style>\n",
       "<ol class=list-inline><li>'V1'</li><li>'V2'</li><li>'V3'</li><li>'V4'</li><li>'V5'</li></ol>\n"
      ],
      "text/latex": [
       "\\begin{enumerate*}\n",
       "\\item 'V1'\n",
       "\\item 'V2'\n",
       "\\item 'V3'\n",
       "\\item 'V4'\n",
       "\\item 'V5'\n",
       "\\end{enumerate*}\n"
      ],
      "text/markdown": [
       "1. 'V1'\n",
       "2. 'V2'\n",
       "3. 'V3'\n",
       "4. 'V4'\n",
       "5. 'V5'\n",
       "\n",
       "\n"
      ],
      "text/plain": [
       "[1] \"V1\" \"V2\" \"V3\" \"V4\" \"V5\""
      ]
     },
     "metadata": {},
     "output_type": "display_data"
    }
   ],
   "source": [
    "# Data frame: can have multiple data types \n",
    "myDF <- as.data.frame(myMat_n)\n",
    "colnames(myDF) # these don't mean anything to me \n",
    "colnames(myDF) <- c(\"age_yr\", \"weight_lb\", \"income_$\", \"height_ft\", \"height_in\")\n"
   ]
  },
  {
   "cell_type": "markdown",
   "id": "676e10a4",
   "metadata": {},
   "source": []
  },
  {
   "cell_type": "code",
   "execution_count": 9,
   "id": "b2f379ff",
   "metadata": {
    "vscode": {
     "languageId": "r"
    }
   },
   "outputs": [
    {
     "data": {
      "text/html": [
       "<style>\n",
       ".list-inline {list-style: none; margin:0; padding: 0}\n",
       ".list-inline>li {display: inline-block}\n",
       ".list-inline>li:not(:last-child)::after {content: \"\\00b7\"; padding: 0 .5ex}\n",
       "</style>\n",
       "<ol class=list-inline><li>1</li><li>2</li></ol>\n"
      ],
      "text/latex": [
       "\\begin{enumerate*}\n",
       "\\item 1\n",
       "\\item 2\n",
       "\\end{enumerate*}\n"
      ],
      "text/markdown": [
       "1. 1\n",
       "2. 2\n",
       "\n",
       "\n"
      ],
      "text/plain": [
       "[1] 1 2"
      ]
     },
     "metadata": {},
     "output_type": "display_data"
    }
   ],
   "source": [
    "# Investigate one column \n",
    "myDF$age_yr\n",
    "\n",
    "# Create a new column \n",
    "myDF$nonsense <- myDF$age_yr + myDF$weight_lb\n"
   ]
  },
  {
   "cell_type": "markdown",
   "id": "a2fdd4bf",
   "metadata": {},
   "source": []
  },
  {
   "cell_type": "code",
   "execution_count": 10,
   "id": "bff83cfe",
   "metadata": {
    "vscode": {
     "languageId": "r"
    }
   },
   "outputs": [
    {
     "data": {
      "text/html": [
       "<style>\n",
       ".list-inline {list-style: none; margin:0; padding: 0}\n",
       ".list-inline>li {display: inline-block}\n",
       ".list-inline>li:not(:last-child)::after {content: \"\\00b7\"; padding: 0 .5ex}\n",
       "</style>\n",
       "<ol class=list-inline><li>TRUE</li><li>FALSE</li><li>FALSE</li></ol>\n"
      ],
      "text/latex": [
       "\\begin{enumerate*}\n",
       "\\item TRUE\n",
       "\\item FALSE\n",
       "\\item FALSE\n",
       "\\end{enumerate*}\n"
      ],
      "text/markdown": [
       "1. TRUE\n",
       "2. FALSE\n",
       "3. FALSE\n",
       "\n",
       "\n"
      ],
      "text/plain": [
       "[1]  TRUE FALSE FALSE"
      ]
     },
     "metadata": {},
     "output_type": "display_data"
    },
    {
     "data": {
      "text/html": [
       "<style>\n",
       ".list-inline {list-style: none; margin:0; padding: 0}\n",
       ".list-inline>li {display: inline-block}\n",
       ".list-inline>li:not(:last-child)::after {content: \"\\00b7\"; padding: 0 .5ex}\n",
       "</style>\n",
       "<ol class=list-inline><li>TRUE</li><li>FALSE</li><li>FALSE</li></ol>\n"
      ],
      "text/latex": [
       "\\begin{enumerate*}\n",
       "\\item TRUE\n",
       "\\item FALSE\n",
       "\\item FALSE\n",
       "\\end{enumerate*}\n"
      ],
      "text/markdown": [
       "1. TRUE\n",
       "2. FALSE\n",
       "3. FALSE\n",
       "\n",
       "\n"
      ],
      "text/plain": [
       "[1]  TRUE FALSE FALSE"
      ]
     },
     "metadata": {},
     "output_type": "display_data"
    },
    {
     "data": {
      "text/html": [
       "<table class=\"dataframe\">\n",
       "<caption>A data.frame: 1 x 5</caption>\n",
       "<thead>\n",
       "\t<tr><th></th><th scope=col>gender</th><th scope=col>male</th><th scope=col>height</th><th scope=col>weight</th><th scope=col>age</th></tr>\n",
       "\t<tr><th></th><th scope=col>&lt;chr&gt;</th><th scope=col>&lt;lgl&gt;</th><th scope=col>&lt;dbl&gt;</th><th scope=col>&lt;dbl&gt;</th><th scope=col>&lt;dbl&gt;</th></tr>\n",
       "</thead>\n",
       "<tbody>\n",
       "\t<tr><th scope=row>1</th><td>Male</td><td>TRUE</td><td>152</td><td>81</td><td>42</td></tr>\n",
       "</tbody>\n",
       "</table>\n"
      ],
      "text/latex": [
       "A data.frame: 1 x 5\n",
       "\\begin{tabular}{r|lllll}\n",
       "  & gender & male & height & weight & age\\\\\n",
       "  & <chr> & <lgl> & <dbl> & <dbl> & <dbl>\\\\\n",
       "\\hline\n",
       "\t1 & Male & TRUE & 152 & 81 & 42\\\\\n",
       "\\end{tabular}\n"
      ],
      "text/markdown": [
       "\n",
       "A data.frame: 1 x 5\n",
       "\n",
       "| <!--/--> | gender &lt;chr&gt; | male &lt;lgl&gt; | height &lt;dbl&gt; | weight &lt;dbl&gt; | age &lt;dbl&gt; |\n",
       "|---|---|---|---|---|---|\n",
       "| 1 | Male | TRUE | 152 | 81 | 42 |\n",
       "\n"
      ],
      "text/plain": [
       "  gender male height weight age\n",
       "1 Male   TRUE 152    81     42 "
      ]
     },
     "metadata": {},
     "output_type": "display_data"
    },
    {
     "data": {
      "text/html": [
       "152"
      ],
      "text/latex": [
       "152"
      ],
      "text/markdown": [
       "152"
      ],
      "text/plain": [
       "[1] 152"
      ]
     },
     "metadata": {},
     "output_type": "display_data"
    },
    {
     "data": {
      "text/html": [
       "152"
      ],
      "text/latex": [
       "152"
      ],
      "text/markdown": [
       "152"
      ],
      "text/plain": [
       "[1] 152"
      ]
     },
     "metadata": {},
     "output_type": "display_data"
    }
   ],
   "source": [
    "# Create the data frame\n",
    "myPpl <- data.frame(\n",
    "   gender = c(\"Male\", \"non-binary\", \"Female\"), \n",
    "   male = c(TRUE, FALSE, FALSE),\n",
    "   height = c(152, 171.5, 165), \n",
    "   weight = c(81, 93, 78),\n",
    "   age = c(42, 38, 26)\n",
    ")\n",
    "\n",
    "# Try referencing one column\n",
    "myPpl$male # version 1\n",
    "myPpl[,2] # version 2\n",
    "\n",
    "# Try referencing one row \n",
    "myPpl[1, ]\n",
    "\n",
    "# Try referencing one cell\n",
    "myPpl$height[1] # version 1\n",
    "myPpl[1, 3] # version 2\n"
   ]
  },
  {
   "cell_type": "markdown",
   "id": "3c92e558",
   "metadata": {},
   "source": [
    "# A word of caution \n",
    "\n",
    "- Make sure you don't overwrite your variables by accident. \n"
   ]
  },
  {
   "cell_type": "code",
   "execution_count": null,
   "id": "a51cd9b1",
   "metadata": {
    "vscode": {
     "languageId": "r"
    }
   },
   "outputs": [],
   "source": [
    "# Assigning new value to same variable (something to do carefully)\n",
    "a <- 5\n",
    "a <- a + 1 # If you run this line more than once, you will NOT get six\n",
    "a\n",
    "\n",
    "# Assigning new value to new variable\n",
    "a <- 5\n",
    "a_new <- a + 1 # If you run this line more than once, you WILL get six\n",
    "a_new\n"
   ]
  },
  {
   "cell_type": "markdown",
   "id": "dceb38b3",
   "metadata": {},
   "source": []
  }
 ],
 "metadata": {
  "kernelspec": {
   "display_name": "R",
   "language": "R",
   "name": "ir"
  },
  "language_info": {
   "codemirror_mode": "r",
   "file_extension": ".r",
   "mimetype": "text/x-r-source",
   "name": "R",
   "pygments_lexer": "r",
   "version": "4.4.1"
  }
 },
 "nbformat": 4,
 "nbformat_minor": 5
}
