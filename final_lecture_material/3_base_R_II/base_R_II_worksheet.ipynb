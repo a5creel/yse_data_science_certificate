{
 "cells": [
  {
   "cell_type": "markdown",
   "id": "c41deddd",
   "metadata": {},
   "source": [
    "# Base R Part 2\n",
    "Use this Jupyter Notebook to take notes during the lecture. Fill it out with text, code, and comments while watching the video lecture to gain hands-on experience running your first code. Insert your own text and code blocks in this notebook while following the video lecture. This will help you learn by doing and serve as notes for future reference.\n",
    "\n",
    "In this lecture, we will cover some essential concepts around functions and flow control (loops, apply functions, if-else statements). We will also explore the distinction between global and local variables. We will finish with a short introduction to simulation (i.e., iteratively changing cells by calling the previous cell). We will briefly discuss error handling (*i.e.*, try-catch).\n",
    "\n",
    "Let's pick up where we left off in Base R Part 1, with our data frame."
   ]
  },
  {
   "cell_type": "code",
   "execution_count": 9,
   "id": "d7435d99",
   "metadata": {
    "vscode": {
     "languageId": "r"
    }
   },
   "outputs": [
    {
     "data": {
      "text/html": [
       "<table class=\"dataframe\">\n",
       "<caption>A data.frame: 3 x 5</caption>\n",
       "<thead>\n",
       "\t<tr><th scope=col>name</th><th scope=col>gender</th><th scope=col>male</th><th scope=col>income_cat</th><th scope=col>park_dist</th></tr>\n",
       "\t<tr><th scope=col>&lt;chr&gt;</th><th scope=col>&lt;chr&gt;</th><th scope=col>&lt;lgl&gt;</th><th scope=col>&lt;chr&gt;</th><th scope=col>&lt;dbl&gt;</th></tr>\n",
       "</thead>\n",
       "<tbody>\n",
       "\t<tr><td>Andie</td><td>Female    </td><td>FALSE</td><td>middle</td><td>1.0</td></tr>\n",
       "\t<tr><td>Sam  </td><td>non-binary</td><td>FALSE</td><td>poor  </td><td>0.5</td></tr>\n",
       "\t<tr><td>Bill </td><td>Male      </td><td> TRUE</td><td>rich  </td><td>0.1</td></tr>\n",
       "</tbody>\n",
       "</table>\n"
      ],
      "text/latex": [
       "A data.frame: 3 x 5\n",
       "\\begin{tabular}{lllll}\n",
       " name & gender & male & income\\_cat & park\\_dist\\\\\n",
       " <chr> & <chr> & <lgl> & <chr> & <dbl>\\\\\n",
       "\\hline\n",
       "\t Andie & Female     & FALSE & middle & 1.0\\\\\n",
       "\t Sam   & non-binary & FALSE & poor   & 0.5\\\\\n",
       "\t Bill  & Male       &  TRUE & rich   & 0.1\\\\\n",
       "\\end{tabular}\n"
      ],
      "text/markdown": [
       "\n",
       "A data.frame: 3 x 5\n",
       "\n",
       "| name &lt;chr&gt; | gender &lt;chr&gt; | male &lt;lgl&gt; | income_cat &lt;chr&gt; | park_dist &lt;dbl&gt; |\n",
       "|---|---|---|---|---|\n",
       "| Andie | Female     | FALSE | middle | 1.0 |\n",
       "| Sam   | non-binary | FALSE | poor   | 0.5 |\n",
       "| Bill  | Male       |  TRUE | rich   | 0.1 |\n",
       "\n"
      ],
      "text/plain": [
       "  name  gender     male  income_cat park_dist\n",
       "1 Andie Female     FALSE middle     1.0      \n",
       "2 Sam   non-binary FALSE poor       0.5      \n",
       "3 Bill  Male        TRUE rich       0.1      "
      ]
     },
     "metadata": {},
     "output_type": "display_data"
    }
   ],
   "source": [
    "# Create the data frame\n",
    "myPpl <- data.frame(\n",
    "   name = c(\"Andie\", \"Sam\", \"Bill\"),\n",
    "   gender = c(\"Female\", \"non-binary\", \"Male\"),\n",
    "   male = c(FALSE, FALSE, TRUE),\n",
    "   income_cat = c(\"middle\", \"poor\", \"rich\"),\n",
    "   park_dist = c(1, 0.5, 0.1)\n",
    ")\n",
    "myPpl\n"
   ]
  },
  {
   "cell_type": "markdown",
   "id": "4350071b",
   "metadata": {},
   "source": [
    "Remember how we can reference our columns, rows, and cells \n",
    "\n",
    "- Column:\n",
    "    - Version One: `myPpl$var_name`\n",
    "    - Version Two: `myPpl[, j]` where `j` is our column number \n",
    "- Row: `myPpl[i, ]` where `i` is our row number\n",
    "- Cell: `myPpl[i,j]`\n"
   ]
  },
  {
   "cell_type": "markdown",
   "id": "d53a6e5a",
   "metadata": {},
   "source": [
    "# Functions\n",
    "\n",
    "*begin inserting notes and code here*"
   ]
  },
  {
   "cell_type": "markdown",
   "id": "65a26725",
   "metadata": {},
   "source": [
    "# Error Handling\n",
    "Now that we have purposefully thrown an error, we can discuss error handling. \n",
    "\n",
    "Error handling is an important aspect of programming that allows you to manage and respond to errors in a controlled way. In R, you can use functions like `try()` and `tryCatch()` to handle errors. These are very useful to use in loops or apply functions when you're concerned some observations may cause an error but you'd like your code to attempt all iterations. \n",
    "\n",
    "- **try()**: This function allows you to run a piece of code and catch any errors that occur.\n",
    "    - It returns the result of the code if it runs successfully, or an error object if an error occurs.\n",
    "    - By returning an error object, you're able to keep moving forward.\n",
    "- **tryCatch()**: This function provides more control over error handling by allowing you to specify different actions for different types of conditions (errors, warnings, messages).\n",
    "\n",
    "## How to handle errors for now (the less technical way)\n",
    "\n",
    "While we won't go into detailed examples here, it's important to be aware of these functions and how they can be used to make your code more robust and error-tolerant.\n",
    "\n",
    "As a beginner programmer, encountering errors is a common and essential part of the learning process. Here are some strategies to effectively address errors:\n",
    "\n",
    "1. **Read Error Messages Carefully**:\n",
    "    - Error messages often provide valuable information about what went wrong and where. Take the time to read and understand them.\n",
    "\n",
    "2. **Google the Error**:\n",
    "    - Copy and paste the error message into a search engine. Often, you will find forums, blog posts, or documentation that address similar issues.\n",
    "\n",
    "3. **Use Stack Overflow**:\n",
    "    - Stack Overflow is a popular platform where developers ask and answer programming questions. Search for your error or ask a new question if you can't find a solution. Be sure to provide a clear and concise description of your problem, including relevant code snippets.\n",
    "\n",
    "4. **Consult Documentation**:\n",
    "    - Official documentation for the programming language or library you are using can be very helpful. It often includes examples and explanations of common errors.\n",
    "\n",
    "5. **Cautiously Leverage AI Tools**:\n",
    "    - AI tools like ChatGPT can provide code suggestions and help identify potential issues in your code. These tools can be particularly useful for beginners who are still learning the syntax and best practices.\n",
    "    - However, be **very careful** to not use these resources as a crutch. If you depend on them too much, you will miss the opportunity to learn how to code for yourself!\n",
    "\n",
    "6. **Ask for Help**:\n",
    "    - Don't hesitate to ask for help from more experienced programmers, whether they are colleagues, mentors, or members of online communities. Providing a clear explanation of your problem and what you have tried so far will increase your chances of getting useful assistance and is a good exercise in identifying your problem.\n",
    "\n",
    "7. **Practice Debugging**:\n",
    "    - Debugging is a skill that improves with practice.\n",
    "    - It sometimes feels like suffering, but you will become a better programmer by struggling through your own errors. \n",
    "\n",
    "\n"
   ]
  },
  {
   "cell_type": "markdown",
   "id": "1fd3f450",
   "metadata": {},
   "source": [
    "# Loops\n",
    "\n",
    "- for loops: iterates through a task for a set number of times\n",
    "- Consider these loops (pseudo code):\n",
    "    - For (i in 1 through 4) { print i }\n",
    "    - For (i in 1 through 4) { print i / 4}\n",
    "- Can be helpful when\n",
    "    - Iterating through a column of data and doing something to each row\n",
    "    - Constructing a new column and want to construct each row from scratch\n",
    "    - Simulation model\n",
    "\n",
    "*Insert here*"
   ]
  },
  {
   "cell_type": "markdown",
   "id": "85d4fa6f",
   "metadata": {},
   "source": [
    "# Loops for Simulation "
   ]
  },
  {
   "cell_type": "markdown",
   "id": "fcab51f7",
   "metadata": {},
   "source": [
    "Next, we're going to discuss how we can use a loop to write a simulation model. Let's consider a scenario where the initial temperature is 15 *C. For the next 50 years, the temperature increases by 0.02 degrees annually. Let's create a data frame that contains every years' temperature. "
   ]
  },
  {
   "cell_type": "code",
   "execution_count": 10,
   "id": "a0aa8eda",
   "metadata": {
    "vscode": {
     "languageId": "r"
    }
   },
   "outputs": [
    {
     "data": {
      "text/html": [
       "15"
      ],
      "text/latex": [
       "15"
      ],
      "text/markdown": [
       "15"
      ],
      "text/plain": [
       "[1] 15"
      ]
     },
     "metadata": {},
     "output_type": "display_data"
    },
    {
     "data": {
      "text/html": [
       "<table class=\"dataframe\">\n",
       "<caption>A data.frame: 6 x 2</caption>\n",
       "<thead>\n",
       "\t<tr><th></th><th scope=col>Year</th><th scope=col>Temperature</th></tr>\n",
       "\t<tr><th></th><th scope=col>&lt;dbl&gt;</th><th scope=col>&lt;dbl&gt;</th></tr>\n",
       "</thead>\n",
       "<tbody>\n",
       "\t<tr><th scope=row>1</th><td>2025</td><td>15.00</td></tr>\n",
       "\t<tr><th scope=row>2</th><td>2026</td><td>15.02</td></tr>\n",
       "\t<tr><th scope=row>3</th><td>2027</td><td>15.04</td></tr>\n",
       "\t<tr><th scope=row>4</th><td>2028</td><td>15.06</td></tr>\n",
       "\t<tr><th scope=row>5</th><td>2029</td><td>15.08</td></tr>\n",
       "\t<tr><th scope=row>6</th><td>2030</td><td>15.10</td></tr>\n",
       "</tbody>\n",
       "</table>\n"
      ],
      "text/latex": [
       "A data.frame: 6 x 2\n",
       "\\begin{tabular}{r|ll}\n",
       "  & Year & Temperature\\\\\n",
       "  & <dbl> & <dbl>\\\\\n",
       "\\hline\n",
       "\t1 & 2025 & 15.00\\\\\n",
       "\t2 & 2026 & 15.02\\\\\n",
       "\t3 & 2027 & 15.04\\\\\n",
       "\t4 & 2028 & 15.06\\\\\n",
       "\t5 & 2029 & 15.08\\\\\n",
       "\t6 & 2030 & 15.10\\\\\n",
       "\\end{tabular}\n"
      ],
      "text/markdown": [
       "\n",
       "A data.frame: 6 x 2\n",
       "\n",
       "| <!--/--> | Year &lt;dbl&gt; | Temperature &lt;dbl&gt; |\n",
       "|---|---|---|\n",
       "| 1 | 2025 | 15.00 |\n",
       "| 2 | 2026 | 15.02 |\n",
       "| 3 | 2027 | 15.04 |\n",
       "| 4 | 2028 | 15.06 |\n",
       "| 5 | 2029 | 15.08 |\n",
       "| 6 | 2030 | 15.10 |\n",
       "\n"
      ],
      "text/plain": [
       "  Year Temperature\n",
       "1 2025 15.00      \n",
       "2 2026 15.02      \n",
       "3 2027 15.04      \n",
       "4 2028 15.06      \n",
       "5 2029 15.08      \n",
       "6 2030 15.10      "
      ]
     },
     "metadata": {},
     "output_type": "display_data"
    }
   ],
   "source": [
    "# Initialize parameters\n",
    "initial_temp <- 15 # Initial temperature in degrees Celsius\n",
    "initial_temp\n",
    "n_year <- 51 # Number of n_year to simulate\n",
    "temp_increase_per_year <- 0.02 # Temperature increase per year in degrees Celsius\n",
    "\n",
    "# Create a numeric vector for the 50 years we will simulate\n",
    "years <- numeric(n_year)\n",
    "years[1] <- 2025 # initialize the first year\n",
    "\n",
    "# Create a numeric vector for the 50 years of temperatures we will simulate\n",
    "max_temps <- numeric(n_year)\n",
    "max_temps[1] <- initial_temp # initialize temp in first year\n",
    "\n",
    "# Simulate the temperature change over the n_year \n",
    "# notice this will start in year TWO\n",
    "for (yr in 2:n_year) {\n",
    "    years[yr] <- years[yr - 1] + 1 # fill in the years\n",
    "    max_temps[yr] <- max_temps[yr - 1] + temp_increase_per_year # fill in the max_temps\n",
    "}\n",
    "\n",
    "# Create a data frame to store the results\n",
    "simulation_results <- data.frame(\n",
    "    Year = years,\n",
    "    Temperature = max_temps\n",
    ")\n",
    "\n",
    "# Print the results\n",
    "head(simulation_results) # show the first few rows \n"
   ]
  },
  {
   "cell_type": "markdown",
   "id": "13b209b5",
   "metadata": {},
   "source": [
    "# Apply functions\n",
    "*insert here*"
   ]
  },
  {
   "cell_type": "markdown",
   "id": "21eb423d",
   "metadata": {},
   "source": [
    "# If Else Statements \n",
    "\n",
    "*insert here*"
   ]
  }
 ],
 "metadata": {
  "kernelspec": {
   "display_name": "R",
   "language": "R",
   "name": "ir"
  },
  "language_info": {
   "codemirror_mode": "r",
   "file_extension": ".r",
   "mimetype": "text/x-r-source",
   "name": "R",
   "pygments_lexer": "r",
   "version": "4.4.1"
  }
 },
 "nbformat": 4,
 "nbformat_minor": 5
}
