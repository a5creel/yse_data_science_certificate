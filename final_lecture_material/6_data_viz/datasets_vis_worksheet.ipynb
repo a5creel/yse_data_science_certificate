{
 "cells": [
  {
   "cell_type": "markdown",
   "metadata": {},
   "source": [
    "# Basic Data Visualization \n",
    "In today's lecture, we will introduce basic data visualization. This is another important way to understand your data is to visualize it. Later in this course, we will spend loads of time talking about best practices for data visualization. Today, we're going to introduce a few core concepts. \n",
    "\n",
    "First thing, let's load our libraries then load the data set we'd like to visualize. \n",
    "\n",
    "*begin inserting here*"
   ]
  }
 ],
 "metadata": {
  "kernelspec": {
   "display_name": "R",
   "language": "R",
   "name": "ir"
  },
  "language_info": {
   "codemirror_mode": "r",
   "file_extension": ".r",
   "mimetype": "text/x-r-source",
   "name": "R",
   "pygments_lexer": "r",
   "version": "4.4.1"
  }
 },
 "nbformat": 4,
 "nbformat_minor": 2
}
