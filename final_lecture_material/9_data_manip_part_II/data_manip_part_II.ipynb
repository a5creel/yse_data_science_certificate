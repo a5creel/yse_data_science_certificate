{
 "cells": [
  {
   "cell_type": "markdown",
   "metadata": {
    "vscode": {
     "languageId": "r"
    }
   },
   "source": [
    "# Data Manipulation with Tidyverse, Part II\n",
    "\n",
    "In the Data Foundations module, we covered Part I of Data Manipulation with the Tidyverse and began learning how to clean datasets using packages in the Tidyverse. In this lecture, we will cover a few more advanced data manipulation techniques. \n",
    "\n",
    "Remember, **data manipulation is essential in environmental data science** because real-world data often isn’t in a format that fits the models we want to use. By transforming the data, we can use it to build accurate and precise models that approximate how the world works. Without data manipulation, we may not be able to build the most accurate model. \n",
    "\n",
    "In part I, we used the following function from the `dplyr` package \n",
    "\n",
    "  - `mutate()`\n",
    "  - `if_else()`\n",
    "  - `filter()`\n",
    "  - `select()`\n",
    "  - `group_by()`\n",
    "  - `summarise()`\n",
    "\n",
    "In this part II lecture, we are going to learn about `join()` functions in the `dplyr` package, as well as `pivot()` functions in the `tidyr` package \n",
    "\n",
    "  - `left_join()`\n",
    "  - `pivot_longer()`\n",
    "  - `pivot_wider()`\n",
    "\n",
    "\n",
    "First things first, let's load our packages "
   ]
  },
  {
   "cell_type": "code",
   "execution_count": 8,
   "metadata": {
    "vscode": {
     "languageId": "r"
    }
   },
   "outputs": [],
   "source": [
    "# Load Libraries\n",
    "library(dplyr)\n",
    "library(tidyr)"
   ]
  },
  {
   "cell_type": "markdown",
   "metadata": {},
   "source": [
    "# join() functions\n",
    "\n",
    "In environmental data science, we often need to combine information from multiple datasets—for example, species data from one source and habitat data from another. We use `join()` functions to do this.\n",
    "\n",
    "The most common is `left_join()`, but you may also see `right_join()`, `inner_join()`, and `full_join()`.\n",
    "\n",
    "A `left_join()` adds variables from a second dataset to your original dataset based on a shared key. This is what I almost always use.\n",
    "\n",
    "The most common is `left_join()`, but you may also see `right_join()`, `inner_join()`, and `full_join()`.\n",
    "\n",
    "- A `left_join()` adds variables from a second dataset to your original dataset based on a shared key, keeping all rows from the original dataset.\n",
    "- A `right_join()` is the opposite of `left_join()`, keeping all rows from the second dataset and adding variables from the original dataset where keys match.\n",
    "- An `inner_join()` keeps only the rows where there is a match between the keys in both datasets.\n",
    "- A `full_join()` keeps all rows from both datasets, filling in `NA` for missing matches.\n",
    "\n",
    "Let’s create a dataset of observed species and the habitat type they were found in:\n"
   ]
  },
  {
   "cell_type": "code",
   "execution_count": 9,
   "metadata": {
    "vscode": {
     "languageId": "r"
    }
   },
   "outputs": [
    {
     "data": {
      "text/html": [
       "<table class=\"dataframe\">\n",
       "<caption>A data.frame: 5 x 4</caption>\n",
       "<thead>\n",
       "\t<tr><th scope=col>species_id</th><th scope=col>species</th><th scope=col>habitat</th><th scope=col>count</th></tr>\n",
       "\t<tr><th scope=col>&lt;int&gt;</th><th scope=col>&lt;chr&gt;</th><th scope=col>&lt;chr&gt;</th><th scope=col>&lt;dbl&gt;</th></tr>\n",
       "</thead>\n",
       "<tbody>\n",
       "\t<tr><td>1</td><td>Red Fox   </td><td>Forest  </td><td>3</td></tr>\n",
       "\t<tr><td>2</td><td>Black Bear</td><td>Mountain</td><td>2</td></tr>\n",
       "\t<tr><td>3</td><td>Gray Wolf </td><td>Forest  </td><td>5</td></tr>\n",
       "\t<tr><td>4</td><td>Moose     </td><td>Wetland </td><td>1</td></tr>\n",
       "\t<tr><td>5</td><td>Beaver    </td><td>Wetland </td><td>7</td></tr>\n",
       "</tbody>\n",
       "</table>\n"
      ],
      "text/latex": [
       "A data.frame: 5 x 4\n",
       "\\begin{tabular}{llll}\n",
       " species\\_id & species & habitat & count\\\\\n",
       " <int> & <chr> & <chr> & <dbl>\\\\\n",
       "\\hline\n",
       "\t 1 & Red Fox    & Forest   & 3\\\\\n",
       "\t 2 & Black Bear & Mountain & 2\\\\\n",
       "\t 3 & Gray Wolf  & Forest   & 5\\\\\n",
       "\t 4 & Moose      & Wetland  & 1\\\\\n",
       "\t 5 & Beaver     & Wetland  & 7\\\\\n",
       "\\end{tabular}\n"
      ],
      "text/markdown": [
       "\n",
       "A data.frame: 5 x 4\n",
       "\n",
       "| species_id &lt;int&gt; | species &lt;chr&gt; | habitat &lt;chr&gt; | count &lt;dbl&gt; |\n",
       "|---|---|---|---|\n",
       "| 1 | Red Fox    | Forest   | 3 |\n",
       "| 2 | Black Bear | Mountain | 2 |\n",
       "| 3 | Gray Wolf  | Forest   | 5 |\n",
       "| 4 | Moose      | Wetland  | 1 |\n",
       "| 5 | Beaver     | Wetland  | 7 |\n",
       "\n"
      ],
      "text/plain": [
       "  species_id species    habitat  count\n",
       "1 1          Red Fox    Forest   3    \n",
       "2 2          Black Bear Mountain 2    \n",
       "3 3          Gray Wolf  Forest   5    \n",
       "4 4          Moose      Wetland  1    \n",
       "5 5          Beaver     Wetland  7    "
      ]
     },
     "metadata": {},
     "output_type": "display_data"
    }
   ],
   "source": [
    "# -------------------------------------------------------------------------\n",
    "# make a data frame of species observations\n",
    "# -------------------------------------------------------------------------\n",
    "species_obs <- data.frame(\n",
    "  species_id = 1:5,\n",
    "  species = c(\"Red Fox\", \"Black Bear\", \"Gray Wolf\", \"Moose\", \"Beaver\"),\n",
    "  habitat = c(\"Forest\", \"Mountain\", \"Forest\", \"Wetland\", \"Wetland\"),\n",
    "  count = c(3, 2, 5, 1, 7)\n",
    ")\n",
    "\n",
    "species_obs"
   ]
  },
  {
   "cell_type": "markdown",
   "metadata": {},
   "source": [
    "Now, let’s create a second dataset with additional information about each habitat:\n"
   ]
  },
  {
   "cell_type": "code",
   "execution_count": 10,
   "metadata": {
    "vscode": {
     "languageId": "r"
    }
   },
   "outputs": [
    {
     "data": {
      "text/html": [
       "<table class=\"dataframe\">\n",
       "<caption>A data.frame: 5 x 5</caption>\n",
       "<thead>\n",
       "\t<tr><th scope=col>species_id</th><th scope=col>species</th><th scope=col>habitat</th><th scope=col>count</th><th scope=col>protection_status</th></tr>\n",
       "\t<tr><th scope=col>&lt;int&gt;</th><th scope=col>&lt;chr&gt;</th><th scope=col>&lt;chr&gt;</th><th scope=col>&lt;dbl&gt;</th><th scope=col>&lt;chr&gt;</th></tr>\n",
       "</thead>\n",
       "<tbody>\n",
       "\t<tr><td>1</td><td>Red Fox   </td><td>Forest  </td><td>3</td><td>Protected  </td></tr>\n",
       "\t<tr><td>2</td><td>Black Bear</td><td>Mountain</td><td>2</td><td>Unprotected</td></tr>\n",
       "\t<tr><td>3</td><td>Gray Wolf </td><td>Forest  </td><td>5</td><td>Protected  </td></tr>\n",
       "\t<tr><td>4</td><td>Moose     </td><td>Wetland </td><td>1</td><td>Protected  </td></tr>\n",
       "\t<tr><td>5</td><td>Beaver    </td><td>Wetland </td><td>7</td><td>Protected  </td></tr>\n",
       "</tbody>\n",
       "</table>\n"
      ],
      "text/latex": [
       "A data.frame: 5 x 5\n",
       "\\begin{tabular}{lllll}\n",
       " species\\_id & species & habitat & count & protection\\_status\\\\\n",
       " <int> & <chr> & <chr> & <dbl> & <chr>\\\\\n",
       "\\hline\n",
       "\t 1 & Red Fox    & Forest   & 3 & Protected  \\\\\n",
       "\t 2 & Black Bear & Mountain & 2 & Unprotected\\\\\n",
       "\t 3 & Gray Wolf  & Forest   & 5 & Protected  \\\\\n",
       "\t 4 & Moose      & Wetland  & 1 & Protected  \\\\\n",
       "\t 5 & Beaver     & Wetland  & 7 & Protected  \\\\\n",
       "\\end{tabular}\n"
      ],
      "text/markdown": [
       "\n",
       "A data.frame: 5 x 5\n",
       "\n",
       "| species_id &lt;int&gt; | species &lt;chr&gt; | habitat &lt;chr&gt; | count &lt;dbl&gt; | protection_status &lt;chr&gt; |\n",
       "|---|---|---|---|---|\n",
       "| 1 | Red Fox    | Forest   | 3 | Protected   |\n",
       "| 2 | Black Bear | Mountain | 2 | Unprotected |\n",
       "| 3 | Gray Wolf  | Forest   | 5 | Protected   |\n",
       "| 4 | Moose      | Wetland  | 1 | Protected   |\n",
       "| 5 | Beaver     | Wetland  | 7 | Protected   |\n",
       "\n"
      ],
      "text/plain": [
       "  species_id species    habitat  count protection_status\n",
       "1 1          Red Fox    Forest   3     Protected        \n",
       "2 2          Black Bear Mountain 2     Unprotected      \n",
       "3 3          Gray Wolf  Forest   5     Protected        \n",
       "4 4          Moose      Wetland  1     Protected        \n",
       "5 5          Beaver     Wetland  7     Protected        "
      ]
     },
     "metadata": {},
     "output_type": "display_data"
    }
   ],
   "source": [
    "# -------------------------------------------------------------------------\n",
    "# create habitat dataset\n",
    "# -------------------------------------------------------------------------\n",
    "habitat_info <- data.frame(\n",
    "  habitat = c(\"Forest\", \"Mountain\", \"Wetland\"),\n",
    "  protection_status = c(\"Protected\", \"Unprotected\", \"Protected\")\n",
    ")\n",
    "\n",
    "# -------------------------------------------------------------------------\n",
    "# left_join to add habitat information to species observations\n",
    "# -------------------------------------------------------------------------\n",
    "obs_joined <- left_join(x = species_obs, y = habitat_info, by = \"habitat\")\n",
    "obs_joined"
   ]
  },
  {
   "cell_type": "markdown",
   "metadata": {},
   "source": [
    "# Manipulating and Cleaning with `tidyr`\n",
    "\n",
    "Just like dplyr, the tidyr package provides powerful tools for transforming data. Two of the most essential functions to know are:\n",
    "- pivot_longer()\n",
    "- pivot_wider()\n",
    "\n",
    "## `pivot_longer()`\n",
    "\n",
    "Many models -- especially regression models -- work best with data in a long format, where repeated measurements or categories are stacked in a single column rather than spread across multiple ones.\n",
    "\n",
    "Example\n",
    "\n",
    "- Suppose you have a dataset with 12 columns for each month.  \n",
    "- If you want to include month as a variable in your regression, you need to reshape the data so that month values are in a single column.  \n",
    "- Using `pivot_longer()`, you can convert those 12 month columns into two columns: one for month and one for the corresponding value.  \n",
    "- After this transformation, your dataset is “long by month,” which is typically much more model-friendly.  \n"
   ]
  },
  {
   "cell_type": "code",
   "execution_count": 11,
   "metadata": {
    "vscode": {
     "languageId": "r"
    }
   },
   "outputs": [
    {
     "data": {
      "text/html": [
       "<table class=\"dataframe\">\n",
       "<caption>A data.frame: 2 x 4</caption>\n",
       "<thead>\n",
       "\t<tr><th scope=col>location</th><th scope=col>Jan</th><th scope=col>Feb</th><th scope=col>Mar</th></tr>\n",
       "\t<tr><th scope=col>&lt;chr&gt;</th><th scope=col>&lt;dbl&gt;</th><th scope=col>&lt;dbl&gt;</th><th scope=col>&lt;dbl&gt;</th></tr>\n",
       "</thead>\n",
       "<tbody>\n",
       "\t<tr><td>Forest</td><td> 5</td><td> 6</td><td>10</td></tr>\n",
       "\t<tr><td>Desert</td><td>20</td><td>22</td><td>25</td></tr>\n",
       "</tbody>\n",
       "</table>\n"
      ],
      "text/latex": [
       "A data.frame: 2 x 4\n",
       "\\begin{tabular}{llll}\n",
       " location & Jan & Feb & Mar\\\\\n",
       " <chr> & <dbl> & <dbl> & <dbl>\\\\\n",
       "\\hline\n",
       "\t Forest &  5 &  6 & 10\\\\\n",
       "\t Desert & 20 & 22 & 25\\\\\n",
       "\\end{tabular}\n"
      ],
      "text/markdown": [
       "\n",
       "A data.frame: 2 x 4\n",
       "\n",
       "| location &lt;chr&gt; | Jan &lt;dbl&gt; | Feb &lt;dbl&gt; | Mar &lt;dbl&gt; |\n",
       "|---|---|---|---|\n",
       "| Forest |  5 |  6 | 10 |\n",
       "| Desert | 20 | 22 | 25 |\n",
       "\n"
      ],
      "text/plain": [
       "  location Jan Feb Mar\n",
       "1 Forest    5   6  10 \n",
       "2 Desert   20  22  25 "
      ]
     },
     "metadata": {},
     "output_type": "display_data"
    },
    {
     "data": {
      "text/html": [
       "<table class=\"dataframe\">\n",
       "<caption>A tibble: 6 x 3</caption>\n",
       "<thead>\n",
       "\t<tr><th scope=col>location</th><th scope=col>Month</th><th scope=col>Temperature</th></tr>\n",
       "\t<tr><th scope=col>&lt;chr&gt;</th><th scope=col>&lt;chr&gt;</th><th scope=col>&lt;dbl&gt;</th></tr>\n",
       "</thead>\n",
       "<tbody>\n",
       "\t<tr><td>Forest</td><td>Jan</td><td> 5</td></tr>\n",
       "\t<tr><td>Forest</td><td>Feb</td><td> 6</td></tr>\n",
       "\t<tr><td>Forest</td><td>Mar</td><td>10</td></tr>\n",
       "\t<tr><td>Desert</td><td>Jan</td><td>20</td></tr>\n",
       "\t<tr><td>Desert</td><td>Feb</td><td>22</td></tr>\n",
       "\t<tr><td>Desert</td><td>Mar</td><td>25</td></tr>\n",
       "</tbody>\n",
       "</table>\n"
      ],
      "text/latex": [
       "A tibble: 6 x 3\n",
       "\\begin{tabular}{lll}\n",
       " location & Month & Temperature\\\\\n",
       " <chr> & <chr> & <dbl>\\\\\n",
       "\\hline\n",
       "\t Forest & Jan &  5\\\\\n",
       "\t Forest & Feb &  6\\\\\n",
       "\t Forest & Mar & 10\\\\\n",
       "\t Desert & Jan & 20\\\\\n",
       "\t Desert & Feb & 22\\\\\n",
       "\t Desert & Mar & 25\\\\\n",
       "\\end{tabular}\n"
      ],
      "text/markdown": [
       "\n",
       "A tibble: 6 x 3\n",
       "\n",
       "| location &lt;chr&gt; | Month &lt;chr&gt; | Temperature &lt;dbl&gt; |\n",
       "|---|---|---|\n",
       "| Forest | Jan |  5 |\n",
       "| Forest | Feb |  6 |\n",
       "| Forest | Mar | 10 |\n",
       "| Desert | Jan | 20 |\n",
       "| Desert | Feb | 22 |\n",
       "| Desert | Mar | 25 |\n",
       "\n"
      ],
      "text/plain": [
       "  location Month Temperature\n",
       "1 Forest   Jan    5         \n",
       "2 Forest   Feb    6         \n",
       "3 Forest   Mar   10         \n",
       "4 Desert   Jan   20         \n",
       "5 Desert   Feb   22         \n",
       "6 Desert   Mar   25         "
      ]
     },
     "metadata": {},
     "output_type": "display_data"
    }
   ],
   "source": [
    "# -------------------------------------------------------------------------\n",
    "# Create data set\n",
    "# -------------------------------------------------------------------------\n",
    "myTemps <- data.frame(\n",
    "  location = c(\"Forest\", \"Desert\"),\n",
    "  Jan = c(5, 20),\n",
    "  Feb = c(6, 22),\n",
    "  Mar = c(10, 25)\n",
    ")\n",
    "myTemps\n",
    "\n",
    "# -------------------------------------------------------------------------\n",
    "# pivot longer\n",
    "# -------------------------------------------------------------------------\n",
    "myTemps_long <- myTemps %>%\n",
    "  pivot_longer(\n",
    "  cols = Jan:Mar, # the columns we want to pivot\n",
    "  names_to = \"Month\", # the new variable where the names of columns will be assigned \n",
    "  values_to = \"Temperature\" # the new variable where the values will be assigned  \n",
    ")\n",
    "myTemps_long"
   ]
  },
  {
   "cell_type": "markdown",
   "metadata": {},
   "source": [
    "### `pivot_wider()`\n",
    "\n",
    "I typically use `pivot_wider()` to reshape data from a **long** format to a **wide** format when I want to **reduce granularity**—for example, when aggregating data. While we often prefer more detailed (granular) data, sometimes we need to align with another dataset that is **less granular** in order to merge them properly.\n",
    "\n",
    "**Example:** Suppose you have daily rainfall data (long by day), but you want to join it with a dataset that is only long by **station and week**. Therefore you want to get the total weekly rainfall, instead of having it as daily rainfall. We can do this by using `pivot_wider()`.  "
   ]
  },
  {
   "cell_type": "code",
   "execution_count": 12,
   "metadata": {
    "vscode": {
     "languageId": "r"
    }
   },
   "outputs": [
    {
     "data": {
      "text/html": [
       "<table class=\"dataframe\">\n",
       "<caption>A data.frame: 6 x 3</caption>\n",
       "<thead>\n",
       "\t<tr><th scope=col>station</th><th scope=col>day</th><th scope=col>rainfall_mm</th></tr>\n",
       "\t<tr><th scope=col>&lt;chr&gt;</th><th scope=col>&lt;chr&gt;</th><th scope=col>&lt;dbl&gt;</th></tr>\n",
       "</thead>\n",
       "<tbody>\n",
       "\t<tr><td>A</td><td>Monday   </td><td> 5</td></tr>\n",
       "\t<tr><td>A</td><td>Tuesday  </td><td>10</td></tr>\n",
       "\t<tr><td>A</td><td>Wednesday</td><td> 3</td></tr>\n",
       "\t<tr><td>B</td><td>Monday   </td><td> 0</td></tr>\n",
       "\t<tr><td>B</td><td>Tuesday  </td><td> 0</td></tr>\n",
       "\t<tr><td>B</td><td>Wednesday</td><td>12</td></tr>\n",
       "</tbody>\n",
       "</table>\n"
      ],
      "text/latex": [
       "A data.frame: 6 x 3\n",
       "\\begin{tabular}{lll}\n",
       " station & day & rainfall\\_mm\\\\\n",
       " <chr> & <chr> & <dbl>\\\\\n",
       "\\hline\n",
       "\t A & Monday    &  5\\\\\n",
       "\t A & Tuesday   & 10\\\\\n",
       "\t A & Wednesday &  3\\\\\n",
       "\t B & Monday    &  0\\\\\n",
       "\t B & Tuesday   &  0\\\\\n",
       "\t B & Wednesday & 12\\\\\n",
       "\\end{tabular}\n"
      ],
      "text/markdown": [
       "\n",
       "A data.frame: 6 x 3\n",
       "\n",
       "| station &lt;chr&gt; | day &lt;chr&gt; | rainfall_mm &lt;dbl&gt; |\n",
       "|---|---|---|\n",
       "| A | Monday    |  5 |\n",
       "| A | Tuesday   | 10 |\n",
       "| A | Wednesday |  3 |\n",
       "| B | Monday    |  0 |\n",
       "| B | Tuesday   |  0 |\n",
       "| B | Wednesday | 12 |\n",
       "\n"
      ],
      "text/plain": [
       "  station day       rainfall_mm\n",
       "1 A       Monday     5         \n",
       "2 A       Tuesday   10         \n",
       "3 A       Wednesday  3         \n",
       "4 B       Monday     0         \n",
       "5 B       Tuesday    0         \n",
       "6 B       Wednesday 12         "
      ]
     },
     "metadata": {},
     "output_type": "display_data"
    },
    {
     "data": {
      "text/html": [
       "<table class=\"dataframe\">\n",
       "<caption>A tibble: 2 x 4</caption>\n",
       "<thead>\n",
       "\t<tr><th scope=col>station</th><th scope=col>Monday</th><th scope=col>Tuesday</th><th scope=col>Wednesday</th></tr>\n",
       "\t<tr><th scope=col>&lt;chr&gt;</th><th scope=col>&lt;dbl&gt;</th><th scope=col>&lt;dbl&gt;</th><th scope=col>&lt;dbl&gt;</th></tr>\n",
       "</thead>\n",
       "<tbody>\n",
       "\t<tr><td>A</td><td>5</td><td>10</td><td> 3</td></tr>\n",
       "\t<tr><td>B</td><td>0</td><td> 0</td><td>12</td></tr>\n",
       "</tbody>\n",
       "</table>\n"
      ],
      "text/latex": [
       "A tibble: 2 x 4\n",
       "\\begin{tabular}{llll}\n",
       " station & Monday & Tuesday & Wednesday\\\\\n",
       " <chr> & <dbl> & <dbl> & <dbl>\\\\\n",
       "\\hline\n",
       "\t A & 5 & 10 &  3\\\\\n",
       "\t B & 0 &  0 & 12\\\\\n",
       "\\end{tabular}\n"
      ],
      "text/markdown": [
       "\n",
       "A tibble: 2 x 4\n",
       "\n",
       "| station &lt;chr&gt; | Monday &lt;dbl&gt; | Tuesday &lt;dbl&gt; | Wednesday &lt;dbl&gt; |\n",
       "|---|---|---|---|\n",
       "| A | 5 | 10 |  3 |\n",
       "| B | 0 |  0 | 12 |\n",
       "\n"
      ],
      "text/plain": [
       "  station Monday Tuesday Wednesday\n",
       "1 A       5      10       3       \n",
       "2 B       0       0      12       "
      ]
     },
     "metadata": {},
     "output_type": "display_data"
    },
    {
     "data": {
      "text/html": [
       "<table class=\"dataframe\">\n",
       "<caption>A tibble: 2 x 5</caption>\n",
       "<thead>\n",
       "\t<tr><th scope=col>station</th><th scope=col>Monday</th><th scope=col>Tuesday</th><th scope=col>Wednesday</th><th scope=col>weekly_rain</th></tr>\n",
       "\t<tr><th scope=col>&lt;chr&gt;</th><th scope=col>&lt;dbl&gt;</th><th scope=col>&lt;dbl&gt;</th><th scope=col>&lt;dbl&gt;</th><th scope=col>&lt;dbl&gt;</th></tr>\n",
       "</thead>\n",
       "<tbody>\n",
       "\t<tr><td>A</td><td>5</td><td>10</td><td> 3</td><td>18</td></tr>\n",
       "\t<tr><td>B</td><td>0</td><td> 0</td><td>12</td><td>12</td></tr>\n",
       "</tbody>\n",
       "</table>\n"
      ],
      "text/latex": [
       "A tibble: 2 x 5\n",
       "\\begin{tabular}{lllll}\n",
       " station & Monday & Tuesday & Wednesday & weekly\\_rain\\\\\n",
       " <chr> & <dbl> & <dbl> & <dbl> & <dbl>\\\\\n",
       "\\hline\n",
       "\t A & 5 & 10 &  3 & 18\\\\\n",
       "\t B & 0 &  0 & 12 & 12\\\\\n",
       "\\end{tabular}\n"
      ],
      "text/markdown": [
       "\n",
       "A tibble: 2 x 5\n",
       "\n",
       "| station &lt;chr&gt; | Monday &lt;dbl&gt; | Tuesday &lt;dbl&gt; | Wednesday &lt;dbl&gt; | weekly_rain &lt;dbl&gt; |\n",
       "|---|---|---|---|---|\n",
       "| A | 5 | 10 |  3 | 18 |\n",
       "| B | 0 |  0 | 12 | 12 |\n",
       "\n"
      ],
      "text/plain": [
       "  station Monday Tuesday Wednesday weekly_rain\n",
       "1 A       5      10       3        18         \n",
       "2 B       0       0      12        12         "
      ]
     },
     "metadata": {},
     "output_type": "display_data"
    }
   ],
   "source": [
    "# -------------------------------------------------------------------------\n",
    "# Create long data\n",
    "# -------------------------------------------------------------------------\n",
    "myRain <- data.frame(\n",
    "  station = c(\"A\", \"A\", \"A\", \n",
    "              \"B\", \"B\", \"B\"),\n",
    "  day = c(\"Monday\", \"Tuesday\", \"Wednesday\",\n",
    "          \"Monday\", \"Tuesday\", \"Wednesday\"),\n",
    "  rainfall_mm = c(5, 10, 3, \n",
    "                  0, 0, 12)\n",
    ")\n",
    "\n",
    "myRain\n",
    "\n",
    "# -------------------------------------------------------------------------\n",
    "# pivot so it's wide by station\n",
    "# -------------------------------------------------------------------------\n",
    "\n",
    "myRain_wide <- myRain %>% \n",
    "  pivot_wider(names_from = day, values_from = rainfall_mm)\n",
    "\n",
    "  myRain_wide\n",
    "\n",
    "# -------------------------------------------------------------------------\n",
    "# get weekly total rainfall\n",
    "# -------------------------------------------------------------------------\n",
    "\n",
    "myRain_weekly <- myRain_wide %>% \n",
    "  mutate(weekly_rain = Monday + Tuesday + Wednesday) \n",
    "\n",
    "myRain_weekly"
   ]
  },
  {
   "cell_type": "markdown",
   "metadata": {},
   "source": [
    "# Summary \n",
    "\n",
    "- `left_join(x, y, by = \"key\")`: Add columns from `y` to `x` by matching rows using a shared column (called a **key**).\n",
    "- `pivot_longer(cols, names_to, values_to)`: Turn multiple columns into **key-value pairs**, where the original column names become values in a new \"key\" column, and the original cell values become values in a new \"value\" column.\n",
    "\n",
    "  **What’s a key-value pair?**  \n",
    "  A **key** is a label that identifies what kind of data a value represents, and the **value** is the data itself.  \n",
    "  For example, if you have columns named `Jan`, `Feb`, and `Mar`, each with temperature values, `pivot_longer()` will turn those columns into:\n",
    "  \n",
    "  | location | Month | Temperature |\n",
    "  |----------|-------|-------------|\n",
    "  | Forest   | Jan   | 5           |\n",
    "  | Forest   | Feb   | 6           |\n",
    "  | Forest   | Mar   | 10          |\n",
    "\n",
    "  Here, `Month` is the **key**, and `Temperature` is the **value**.\n",
    "\n",
    "- `pivot_wider(names_from, values_from)`: Spread key-value pairs back into multiple columns.\n",
    "\n",
    "  **Example of key-value pairs for `pivot_wider()`:**  \n",
    "  Suppose you have a dataset in long format like this:\n",
    "\n",
    "  | station | day       | rainfall_mm |\n",
    "  |---------|-----------|-------------|\n",
    "  | A       | Monday    | 5           |\n",
    "  | A       | Tuesday   | 10          |\n",
    "  | A       | Wednesday | 3           |\n",
    "  | B       | Monday    | 0           |\n",
    "  | B       | Tuesday   | 0           |\n",
    "  | B       | Wednesday | 12          |\n",
    "\n",
    "  Using `pivot_wider(names_from = day, values_from = rainfall_mm)`, this will transform into:\n",
    "\n",
    "  | station | Monday | Tuesday | Wednesday |\n",
    "  |---------|--------|---------|-----------|\n",
    "  | A       | 5      | 10      | 3         |\n",
    "  | B       | 0      | 0       | 12        |\n",
    "\n",
    "  Here, `day` is the **key**, and `rainfall_mm` is the **value**."
   ]
  }
 ],
 "metadata": {
  "kernelspec": {
   "display_name": "R",
   "language": "R",
   "name": "ir"
  },
  "language_info": {
   "codemirror_mode": "r",
   "file_extension": ".r",
   "mimetype": "text/x-r-source",
   "name": "R",
   "pygments_lexer": "r",
   "version": "4.4.1"
  }
 },
 "nbformat": 4,
 "nbformat_minor": 2
}
