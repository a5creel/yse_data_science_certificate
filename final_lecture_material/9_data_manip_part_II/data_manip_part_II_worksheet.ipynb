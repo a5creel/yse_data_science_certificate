{
 "cells": [
  {
   "cell_type": "markdown",
   "metadata": {
    "vscode": {
     "languageId": "r"
    }
   },
   "source": [
    "# Data Manipulation with Tidyverse, Part II\n",
    "\n",
    "In the Data Foundations module, we covered Part I of Data Manipulation with the Tidyverse and began learning how to clean datasets using packages in the Tidyverse. In this lecture, we will cover a few more advanced data manipulation techniques. \n",
    "\n",
    "Remember, **data manipulation is essential in environmental data science** because real-world data often isn’t in a format that fits the models we want to use. By transforming the data, we can use it to build accurate and precise models that approximate how the world works. Without data manipulation, we may not be able to build the most accurate model. \n",
    "\n",
    "In part I, we used the following function from the `dplyr` package \n",
    "\n",
    "  - `mutate()`\n",
    "  - `if_else()`\n",
    "  - `filter()`\n",
    "  - `select()`\n",
    "  - `group_by()`\n",
    "  - `summarise()`\n",
    "\n",
    "In this part II lecture, we are going to learn about `join()` functions in the `dplyr` package, as well as `pivot()` functions in the `tidyr` package \n",
    "\n",
    "  - `left_join()`\n",
    "  - `pivot_longer()`\n",
    "  - `pivot_wider()`\n",
    "\n",
    "\n",
    "First things first, let's load our packages "
   ]
  },
  {
   "cell_type": "code",
   "execution_count": null,
   "metadata": {
    "vscode": {
     "languageId": "r"
    }
   },
   "outputs": [],
   "source": [
    "# begin inserting here"
   ]
  },
  {
   "cell_type": "markdown",
   "metadata": {},
   "source": [
    "# Summary \n",
    "\n",
    "- `left_join(x, y, by = \"key\")`: Add columns from `y` to `x` by matching rows using a shared column (called a **key**).\n",
    "- `pivot_longer(cols, names_to, values_to)`: Turn multiple columns into **key-value pairs**, where the original column names become values in a new \"key\" column, and the original cell values become values in a new \"value\" column.\n",
    "\n",
    "  **What’s a key-value pair?**  \n",
    "  A **key** is a label that identifies what kind of data a value represents, and the **value** is the data itself.  \n",
    "  For example, if you have columns named `Jan`, `Feb`, and `Mar`, each with temperature values, `pivot_longer()` will turn those columns into:\n",
    "  \n",
    "  | location | Month | Temperature |\n",
    "  |----------|-------|-------------|\n",
    "  | Forest   | Jan   | 5           |\n",
    "  | Forest   | Feb   | 6           |\n",
    "  | Forest   | Mar   | 10          |\n",
    "\n",
    "  Here, `Month` is the **key**, and `Temperature` is the **value**.\n",
    "\n",
    "- `pivot_wider(names_from, values_from)`: Spread key-value pairs back into multiple columns.\n",
    "\n",
    "  **Example of key-value pairs for `pivot_wider()`:**  \n",
    "  Suppose you have a dataset in long format like this:\n",
    "\n",
    "  | station | day       | rainfall_mm |\n",
    "  |---------|-----------|-------------|\n",
    "  | A       | Monday    | 5           |\n",
    "  | A       | Tuesday   | 10          |\n",
    "  | A       | Wednesday | 3           |\n",
    "  | B       | Monday    | 0           |\n",
    "  | B       | Tuesday   | 0           |\n",
    "  | B       | Wednesday | 12          |\n",
    "\n",
    "  Using `pivot_wider(names_from = day, values_from = rainfall_mm)`, this will transform into:\n",
    "\n",
    "  | station | Monday | Tuesday | Wednesday |\n",
    "  |---------|--------|---------|-----------|\n",
    "  | A       | 5      | 10      | 3         |\n",
    "  | B       | 0      | 0       | 12        |\n",
    "\n",
    "  Here, `day` is the **key**, and `rainfall_mm` is the **value**."
   ]
  }
 ],
 "metadata": {
  "kernelspec": {
   "display_name": "R",
   "language": "R",
   "name": "ir"
  },
  "language_info": {
   "codemirror_mode": "r",
   "file_extension": ".r",
   "mimetype": "text/x-r-source",
   "name": "R",
   "pygments_lexer": "r",
   "version": "4.4.1"
  }
 },
 "nbformat": 4,
 "nbformat_minor": 2
}
