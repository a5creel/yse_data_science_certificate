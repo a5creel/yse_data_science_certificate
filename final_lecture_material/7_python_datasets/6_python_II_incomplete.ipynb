{
 "cells": [
  {
   "cell_type": "markdown",
   "metadata": {},
   "source": [
    "# Data Manipulation and Visualization with Python\n",
    "\n",
    "In this notebook, we will cover data manipulation and visualization using Python. We will use the pandas library for data manipulation and the matplotlib and seaborn libraries for data visualization.\n"
   ]
  },
  {
   "cell_type": "code",
   "execution_count": 1,
   "metadata": {},
   "outputs": [],
   "source": [
    "# Import necessary libraries\n",
    "import pandas as pd\n",
    "import numpy as np\n",
    "import matplotlib.pyplot as plt\n",
    "import seaborn as sns\n",
    "\n",
    "# Set seaborn style for plots\n",
    "sns.set(style=\"whitegrid\")"
   ]
  },
  {
   "cell_type": "markdown",
   "metadata": {},
   "source": [
    "# Data Manipulation with Pandas\n",
    "\n",
    "We will now cover some basic data manipulation techniques using the pandas library."
   ]
  },
  {
   "cell_type": "code",
   "execution_count": null,
   "metadata": {},
   "outputs": [],
   "source": [
    "# Build sample data\n",
    "df_env = pd.DataFrame({\n",
    "    'ecosystem': ['Forest', 'Desert', 'Wetland', 'Grassland', 'Urban'],\n",
    "    'species_richness': [120, 45, 80, 60, 30],\n",
    "    'pollution_level': ['Low', 'High', 'Medium', 'Low', 'High']\n",
    "})\n",
    "\n",
    "df_env\n"
   ]
  },
  {
   "cell_type": "markdown",
   "metadata": {},
   "source": [
    "## `select()`\n",
    "\n",
    "Selecting specific columns can be done using the `loc` or `iloc` methods."
   ]
  },
  {
   "cell_type": "code",
   "execution_count": null,
   "metadata": {},
   "outputs": [],
   "source": [
    "# Select only the 'ecosystem' and 'pollution_level' columns\n"
   ]
  },
  {
   "cell_type": "markdown",
   "metadata": {},
   "source": [
    "## `groupby()`\n",
    "\n",
    "Grouping data and calculating aggregate statistics can be done using the `groupby()` method. Let's work with a longer version of our dataframe. "
   ]
  },
  {
   "cell_type": "code",
   "execution_count": null,
   "metadata": {},
   "outputs": [],
   "source": [
    "# Build long dataframe\n",
    "df_env_long = pd.DataFrame({\n",
    "    'ecosystem': ['Forest', 'Desert', 'Wetland', 'Grassland', 'Urban', 'Forest', 'Desert', 'Wetland', 'Grassland', 'Urban'],\n",
    "    'species_richness': [120, 45, 80, 60, 30, 110, 50, 85, 65, 35],\n",
    "    'pollution_level': ['Low', 'High', 'Medium', 'Low', 'High', 'Low', 'High', 'Medium', 'Low', 'High']\n",
    "})\n",
    "\n",
    "# Group by 'ecosystem' and calculate the mean species richness\n"
   ]
  },
  {
   "cell_type": "markdown",
   "metadata": {},
   "source": [
    "Let's make sure the columns are clear. "
   ]
  },
  {
   "cell_type": "code",
   "execution_count": null,
   "metadata": {},
   "outputs": [],
   "source": [
    "# rename columns\n"
   ]
  },
  {
   "cell_type": "markdown",
   "metadata": {},
   "source": [
    "## `agg()`\n",
    "\n",
    "The `agg()` (aggregate) method can be used to apply multiple aggregation functions to grouped data."
   ]
  },
  {
   "cell_type": "code",
   "execution_count": null,
   "metadata": {},
   "outputs": [],
   "source": [
    "# Group by 'ecosystem' and calculate the mean and total species richness\n"
   ]
  },
  {
   "cell_type": "markdown",
   "metadata": {},
   "source": [
    "## `assign()`\n",
    "\n",
    "The `assign()` method can be used to add new columns or modify existing ones. You can use it with a lambda function, which is a small anonymous function defined with the `lambda` keyword. The lambda indicates that we're going to define an operation following the `:` that we'd like it to evaluate and return the result of. That results is what we will asign to the new or modified variable. "
   ]
  },
  {
   "cell_type": "code",
   "execution_count": null,
   "metadata": {},
   "outputs": [],
   "source": [
    "# Add 10 to the 'species_richness' column\n"
   ]
  },
  {
   "cell_type": "markdown",
   "metadata": {},
   "source": [
    "## `np.where()`\n",
    "\n",
    "The `np.where()` function can be used to conditionally modify values in a dataframe."
   ]
  },
  {
   "cell_type": "code",
   "execution_count": null,
   "metadata": {},
   "outputs": [],
   "source": [
    "# Categorize species_richness as 'High' or 'Low' based on a threshold value\n"
   ]
  },
  {
   "cell_type": "markdown",
   "metadata": {},
   "source": [
    "## Filtering\n",
    "\n",
    "Filtering rows in a dataframe can be done using boolean indexing."
   ]
  },
  {
   "cell_type": "code",
   "execution_count": null,
   "metadata": {},
   "outputs": [],
   "source": [
    "# Filter rows where pollution_level is 'Low'\n"
   ]
  },
  {
   "cell_type": "markdown",
   "metadata": {},
   "source": [
    "## `dropna()`\n",
    "\n",
    "Dropping rows with missing values can be done using the `dropna()` method."
   ]
  },
  {
   "cell_type": "code",
   "execution_count": null,
   "metadata": {},
   "outputs": [],
   "source": [
    "# Build dataset with nas\n",
    "df_env_na = pd.DataFrame({\n",
    "    'ecosystem': ['Forest', 'Desert', 'Wetland', np.nan, 'Urban'],\n",
    "    'species_richness': [120, 45, 80, 60, 30],\n",
    "    'pollution_level': ['Low', 'High', 'Medium', 'Low', 'High']\n",
    "})\n",
    "\n",
    "# drop nas\n"
   ]
  },
  {
   "cell_type": "markdown",
   "metadata": {},
   "source": [
    "# Reading in a Dataset and Gathering Basic Information\n",
    "\n",
    "Let's start by reading in a CSV file and gathering basic information about the dataset."
   ]
  },
  {
   "cell_type": "code",
   "execution_count": null,
   "metadata": {},
   "outputs": [],
   "source": [
    "# Read in the CSV file\n",
    "\n",
    "# Display the first few rows of the dataframe\n"
   ]
  },
  {
   "cell_type": "markdown",
   "metadata": {},
   "source": [
    "## Basic Information about the DataFrame\n",
    "\n",
    "Here are some good ways to get basic information about a dataframe in Python:\n",
    "\n",
    "- `head()`: Displays the first few rows of the dataframe.\n",
    "- `tail()`: Displays the last few rows of the dataframe.\n",
    "- `shape`: Returns the dimensions of the dataframe (number of rows and columns).\n",
    "- `columns`: Returns the column names of the dataframe.\n",
    "- `info()`: Displays the structure of the dataframe, including data types and a preview of the data.\n",
    "- `describe()`: Provides summary statistics for each column in the dataframe."
   ]
  },
  {
   "cell_type": "code",
   "execution_count": null,
   "metadata": {},
   "outputs": [],
   "source": [
    "# Display the first few rows of the dataframe\n"
   ]
  },
  {
   "cell_type": "code",
   "execution_count": null,
   "metadata": {},
   "outputs": [],
   "source": [
    "# Get the dimensions of the dataframe\n"
   ]
  },
  {
   "cell_type": "code",
   "execution_count": null,
   "metadata": {},
   "outputs": [],
   "source": [
    "# Get the column names of the dataframe\n"
   ]
  },
  {
   "cell_type": "code",
   "execution_count": null,
   "metadata": {},
   "outputs": [],
   "source": [
    "# Display the structure of the dataframe\n"
   ]
  },
  {
   "cell_type": "code",
   "execution_count": null,
   "metadata": {},
   "outputs": [],
   "source": [
    "# Provide summary statistics for each column in the dataframe\n"
   ]
  },
  {
   "cell_type": "markdown",
   "metadata": {},
   "source": [
    "# Basic Data Clean\n",
    "Let's perform a few quick data cleaning operations with `pandas`. Remember from our R lectures, data cleaning should be informed by your research question. "
   ]
  },
  {
   "cell_type": "code",
   "execution_count": null,
   "metadata": {},
   "outputs": [],
   "source": [
    "# clean data: our research Q is:\n",
    "#   - only interested in Ford, dodge and toyota\n",
    "#   - not about the type of fuel \"fl\"\n",
    "\n",
    "# Filter the dataframe to include only Ford, Dodge, and Toyota vehicles\n",
    "\n",
    "# Drop the 'fl' variable from the dataframe\n",
    "\n",
    "# get info\n"
   ]
  },
  {
   "cell_type": "markdown",
   "metadata": {},
   "source": [
    "# Basic Data Visualization\n",
    "\n",
    "Let's create some basic plots to visualize the data."
   ]
  },
  {
   "cell_type": "markdown",
   "metadata": {},
   "source": [
    "## Histogram"
   ]
  },
  {
   "cell_type": "code",
   "execution_count": null,
   "metadata": {},
   "outputs": [],
   "source": [
    "# Histogram\n"
   ]
  },
  {
   "cell_type": "markdown",
   "metadata": {},
   "source": [
    "## Box plot"
   ]
  },
  {
   "cell_type": "code",
   "execution_count": null,
   "metadata": {},
   "outputs": [],
   "source": [
    "# Box plot\n"
   ]
  },
  {
   "cell_type": "markdown",
   "metadata": {},
   "source": [
    "## Bar chart"
   ]
  },
  {
   "cell_type": "code",
   "execution_count": null,
   "metadata": {},
   "outputs": [],
   "source": [
    "# Bar chart\n"
   ]
  },
  {
   "cell_type": "markdown",
   "metadata": {},
   "source": [
    "## Scatter plot"
   ]
  },
  {
   "cell_type": "code",
   "execution_count": null,
   "metadata": {},
   "outputs": [],
   "source": [
    "# Scatter plot\n"
   ]
  },
  {
   "cell_type": "markdown",
   "metadata": {},
   "source": [
    "## Scatter plot with color"
   ]
  },
  {
   "cell_type": "code",
   "execution_count": null,
   "metadata": {},
   "outputs": [],
   "source": [
    "# Scatter plot with color grouping\n"
   ]
  },
  {
   "cell_type": "markdown",
   "metadata": {},
   "source": [
    "## Facet plot\n",
    "More advanced in Python than R, but including the code so you all have it for reference!"
   ]
  },
  {
   "cell_type": "code",
   "execution_count": null,
   "metadata": {},
   "outputs": [],
   "source": [
    "# Facet plot\n"
   ]
  }
 ],
 "metadata": {
  "kernelspec": {
   "display_name": "Python (myenv)",
   "language": "python",
   "name": "myenv"
  },
  "language_info": {
   "codemirror_mode": {
    "name": "ipython",
    "version": 3
   },
   "file_extension": ".py",
   "mimetype": "text/x-python",
   "name": "python",
   "nbconvert_exporter": "python",
   "pygments_lexer": "ipython3",
   "version": "3.11.5"
  }
 },
 "nbformat": 4,
 "nbformat_minor": 2
}
