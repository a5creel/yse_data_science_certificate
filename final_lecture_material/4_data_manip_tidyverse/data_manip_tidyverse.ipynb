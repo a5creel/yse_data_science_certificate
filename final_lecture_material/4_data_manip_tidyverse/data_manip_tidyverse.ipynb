{
 "cells": [
  {
   "cell_type": "markdown",
   "id": "c41deddd",
   "metadata": {},
   "source": [
    "# Data Manipulation with Tidyverse, Part I\n",
    "\n",
    "In this lecture and the next, we're going to go through a lot of different concepts. Remember, you can use the Complete Notebook as a reference for all that we will cover in this lecture. \n",
    "\n",
    "The goal of this lecture and the next is:\n",
    "\n",
    "1) Learn about packages, the tidyverse\n",
    "2) Learn how to manipulate and clean data with tidyverse\n",
    "\n",
    "# Why is data manipulation important \n",
    "\n",
    "Presumably, we are all planning to do Environmental Data Science\n",
    "\n",
    "- We will have a hypothesis of how the world works\n",
    "- We will want to construct a model that approximates that \n",
    "- We will need data from the real world to build that model that approximates the world\n",
    "- The data we have may not be set up to be plugged into the model we'd like to run\n",
    "- However, it could be *manipulated* so that we can use the data we have with the model we want\n",
    "\n",
    "My personal example: American Time Use Survey and Travel Cost Model, Cell Phone Data and green space\n",
    "\n",
    "# What are packages and how can I get them?\n",
    "\n",
    "**What are they:**\n",
    "\n",
    "- A package contains a bunch of pre-built functions \n",
    "- Anyone can load and use them\n",
    "- Saves you a ton of time because someone already figured out how to do it\n",
    "\n",
    "**Tidyverse**\n",
    "\n",
    "- Collection of R packages \n",
    "- All are meant for data science\n",
    "- Have shared syntax\n",
    "- Makes it easier to import, tidy, transform, visualize, and model data in R\n",
    "- Shout out to Hadley Wickham and co \n",
    "\n",
    "**Installing a package vs. loading a package** \n",
    "\n",
    "- You only need to install a package on your local computer once (your lab has all the packages pre-installed)\n",
    "- You then \"load\" that package in a script when you want to use it using the `library()` command\n",
    "\n",
    "For reference, the code to install a package on your local computer is below. We do not need to run this code on each of our local machines. \n",
    "\n",
    "```r\n",
    "# installing packages that are a part of the tidyverse using r code\n",
    "install.packages(\"dplyr\")\n",
    "install.packages(\"tidyr\")\n",
    "install.packages(\"ggplot2\")\n",
    "```\n",
    "\n",
    "You can load packages after you've installed them with the library function"
   ]
  },
  {
   "cell_type": "code",
   "execution_count": 1,
   "id": "c592e851",
   "metadata": {
    "vscode": {
     "languageId": "r"
    }
   },
   "outputs": [
    {
     "name": "stderr",
     "output_type": "stream",
     "text": [
      "\n",
      "Attaching package: 'dplyr'\n",
      "\n",
      "\n",
      "The following objects are masked from 'package:stats':\n",
      "\n",
      "    filter, lag\n",
      "\n",
      "\n",
      "The following objects are masked from 'package:base':\n",
      "\n",
      "    intersect, setdiff, setequal, union\n",
      "\n",
      "\n"
     ]
    }
   ],
   "source": [
    "# load dplyr, the package we will focus on today\n",
    "library(dplyr)"
   ]
  },
  {
   "cell_type": "markdown",
   "id": "a89a3768",
   "metadata": {},
   "source": [
    "# Manipulating and cleaning with dplyr \n",
    "\n",
    "- dplyr is my most used package for data cleaning and manipulation \n",
    "- Going to introduce the primary functions in the dplyr package\n",
    "    - `mutate()`\n",
    "    - `if_else()`\n",
    "    - `filter()`\n",
    "    - `select()`\n",
    "    - `group_by()`\n",
    "    - `summarise()`\n",
    "- There are a million ways to implement these functions \n",
    "- Important for your solution strategy to know that these are the functions you can build around \n",
    "- I would say 90% of my data cleaning is different combinations of these functions\n",
    "- Why use dplyr instead of base R?\n",
    "    - It's faster and more memory efficient (good for large data sets)\n",
    "    - It's easier to read\n",
    "- Let's go through some examples of what we did in the Base R Lectures, but redo with dplyr code\n",
    "\n",
    "# `mutate()`\n",
    "Last lecture, everyone moved 1 mile further from the park (bummer). We used a loop, like this"
   ]
  },
  {
   "cell_type": "code",
   "execution_count": 2,
   "id": "4b13dfa3",
   "metadata": {
    "vscode": {
     "languageId": "r"
    }
   },
   "outputs": [
    {
     "data": {
      "text/html": [
       "<table class=\"dataframe\">\n",
       "<caption>A data.frame: 3 x 5</caption>\n",
       "<thead>\n",
       "\t<tr><th scope=col>name</th><th scope=col>gender</th><th scope=col>male</th><th scope=col>income_cat</th><th scope=col>park_dist</th></tr>\n",
       "\t<tr><th scope=col>&lt;chr&gt;</th><th scope=col>&lt;chr&gt;</th><th scope=col>&lt;lgl&gt;</th><th scope=col>&lt;chr&gt;</th><th scope=col>&lt;dbl&gt;</th></tr>\n",
       "</thead>\n",
       "<tbody>\n",
       "\t<tr><td>Andie  </td><td>Female    </td><td>FALSE</td><td>middle</td><td>1.0</td></tr>\n",
       "\t<tr><td>Bridger</td><td>non-binary</td><td>FALSE</td><td>poor  </td><td>0.5</td></tr>\n",
       "\t<tr><td>Scott  </td><td>Male      </td><td> TRUE</td><td>rich  </td><td>0.1</td></tr>\n",
       "</tbody>\n",
       "</table>\n"
      ],
      "text/latex": [
       "A data.frame: 3 x 5\n",
       "\\begin{tabular}{lllll}\n",
       " name & gender & male & income\\_cat & park\\_dist\\\\\n",
       " <chr> & <chr> & <lgl> & <chr> & <dbl>\\\\\n",
       "\\hline\n",
       "\t Andie   & Female     & FALSE & middle & 1.0\\\\\n",
       "\t Bridger & non-binary & FALSE & poor   & 0.5\\\\\n",
       "\t Scott   & Male       &  TRUE & rich   & 0.1\\\\\n",
       "\\end{tabular}\n"
      ],
      "text/markdown": [
       "\n",
       "A data.frame: 3 x 5\n",
       "\n",
       "| name &lt;chr&gt; | gender &lt;chr&gt; | male &lt;lgl&gt; | income_cat &lt;chr&gt; | park_dist &lt;dbl&gt; |\n",
       "|---|---|---|---|---|\n",
       "| Andie   | Female     | FALSE | middle | 1.0 |\n",
       "| Bridger | non-binary | FALSE | poor   | 0.5 |\n",
       "| Scott   | Male       |  TRUE | rich   | 0.1 |\n",
       "\n"
      ],
      "text/plain": [
       "  name    gender     male  income_cat park_dist\n",
       "1 Andie   Female     FALSE middle     1.0      \n",
       "2 Bridger non-binary FALSE poor       0.5      \n",
       "3 Scott   Male        TRUE rich       0.1      "
      ]
     },
     "metadata": {},
     "output_type": "display_data"
    },
    {
     "data": {
      "text/html": [
       "TRUE"
      ],
      "text/latex": [
       "TRUE"
      ],
      "text/markdown": [
       "TRUE"
      ],
      "text/plain": [
       "[1] TRUE"
      ]
     },
     "metadata": {},
     "output_type": "display_data"
    }
   ],
   "source": [
    "# Build our trusty dataset, but let's call this one myBase\n",
    "myBase <- data.frame(\n",
    "   name = c(\"Andie\", \"Bridger\", \"Scott\"),\n",
    "   gender = c(\"Female\", \"non-binary\", \"Male\"),\n",
    "   male = c(FALSE, FALSE, TRUE),\n",
    "   income_cat = c(\"middle\", \"poor\", \"rich\"),\n",
    "   park_dist = c(1, 0.5, 0.1)\n",
    ")\n",
    "myBase\n",
    "\n",
    "# create a second dataset that is identical to the first\n",
    "myDplyr <- myBase\n",
    "\n",
    "# check to make sure they're the same\n",
    "identical(myBase, myDplyr)\n"
   ]
  },
  {
   "cell_type": "code",
   "execution_count": 3,
   "id": "306c3f2b",
   "metadata": {
    "vscode": {
     "languageId": "r"
    }
   },
   "outputs": [
    {
     "data": {
      "text/html": [
       "<table class=\"dataframe\">\n",
       "<caption>A data.frame: 3 x 5</caption>\n",
       "<thead>\n",
       "\t<tr><th scope=col>name</th><th scope=col>gender</th><th scope=col>male</th><th scope=col>income_cat</th><th scope=col>park_dist</th></tr>\n",
       "\t<tr><th scope=col>&lt;chr&gt;</th><th scope=col>&lt;chr&gt;</th><th scope=col>&lt;lgl&gt;</th><th scope=col>&lt;chr&gt;</th><th scope=col>&lt;dbl&gt;</th></tr>\n",
       "</thead>\n",
       "<tbody>\n",
       "\t<tr><td>Andie  </td><td>Female    </td><td>FALSE</td><td>middle</td><td>2.0</td></tr>\n",
       "\t<tr><td>Bridger</td><td>non-binary</td><td>FALSE</td><td>poor  </td><td>1.5</td></tr>\n",
       "\t<tr><td>Scott  </td><td>Male      </td><td> TRUE</td><td>rich  </td><td>1.1</td></tr>\n",
       "</tbody>\n",
       "</table>\n"
      ],
      "text/latex": [
       "A data.frame: 3 x 5\n",
       "\\begin{tabular}{lllll}\n",
       " name & gender & male & income\\_cat & park\\_dist\\\\\n",
       " <chr> & <chr> & <lgl> & <chr> & <dbl>\\\\\n",
       "\\hline\n",
       "\t Andie   & Female     & FALSE & middle & 2.0\\\\\n",
       "\t Bridger & non-binary & FALSE & poor   & 1.5\\\\\n",
       "\t Scott   & Male       &  TRUE & rich   & 1.1\\\\\n",
       "\\end{tabular}\n"
      ],
      "text/markdown": [
       "\n",
       "A data.frame: 3 x 5\n",
       "\n",
       "| name &lt;chr&gt; | gender &lt;chr&gt; | male &lt;lgl&gt; | income_cat &lt;chr&gt; | park_dist &lt;dbl&gt; |\n",
       "|---|---|---|---|---|\n",
       "| Andie   | Female     | FALSE | middle | 2.0 |\n",
       "| Bridger | non-binary | FALSE | poor   | 1.5 |\n",
       "| Scott   | Male       |  TRUE | rich   | 1.1 |\n",
       "\n"
      ],
      "text/plain": [
       "  name    gender     male  income_cat park_dist\n",
       "1 Andie   Female     FALSE middle     2.0      \n",
       "2 Bridger non-binary FALSE poor       1.5      \n",
       "3 Scott   Male        TRUE rich       1.1      "
      ]
     },
     "metadata": {},
     "output_type": "display_data"
    }
   ],
   "source": [
    "# Base R\n",
    "for (i in seq_along(myBase$park_dist)) {\n",
    "  myBase$park_dist[i] <- myBase$park_dist[i] + 1 # everyone aged one year\n",
    "}\n",
    "\n",
    "myBase\n"
   ]
  },
  {
   "cell_type": "markdown",
   "id": "028904b1",
   "metadata": {},
   "source": [
    "Let's perform the same command with the `mutate()` function from the `dplyr` package."
   ]
  },
  {
   "cell_type": "code",
   "execution_count": 4,
   "id": "f5382fa4",
   "metadata": {
    "vscode": {
     "languageId": "r"
    }
   },
   "outputs": [
    {
     "data": {
      "text/html": [
       "<table class=\"dataframe\">\n",
       "<caption>A data.frame: 3 x 5</caption>\n",
       "<thead>\n",
       "\t<tr><th scope=col>name</th><th scope=col>gender</th><th scope=col>male</th><th scope=col>income_cat</th><th scope=col>park_dist</th></tr>\n",
       "\t<tr><th scope=col>&lt;chr&gt;</th><th scope=col>&lt;chr&gt;</th><th scope=col>&lt;lgl&gt;</th><th scope=col>&lt;chr&gt;</th><th scope=col>&lt;dbl&gt;</th></tr>\n",
       "</thead>\n",
       "<tbody>\n",
       "\t<tr><td>Andie  </td><td>Female    </td><td>FALSE</td><td>middle</td><td>2.0</td></tr>\n",
       "\t<tr><td>Bridger</td><td>non-binary</td><td>FALSE</td><td>poor  </td><td>1.5</td></tr>\n",
       "\t<tr><td>Scott  </td><td>Male      </td><td> TRUE</td><td>rich  </td><td>1.1</td></tr>\n",
       "</tbody>\n",
       "</table>\n"
      ],
      "text/latex": [
       "A data.frame: 3 x 5\n",
       "\\begin{tabular}{lllll}\n",
       " name & gender & male & income\\_cat & park\\_dist\\\\\n",
       " <chr> & <chr> & <lgl> & <chr> & <dbl>\\\\\n",
       "\\hline\n",
       "\t Andie   & Female     & FALSE & middle & 2.0\\\\\n",
       "\t Bridger & non-binary & FALSE & poor   & 1.5\\\\\n",
       "\t Scott   & Male       &  TRUE & rich   & 1.1\\\\\n",
       "\\end{tabular}\n"
      ],
      "text/markdown": [
       "\n",
       "A data.frame: 3 x 5\n",
       "\n",
       "| name &lt;chr&gt; | gender &lt;chr&gt; | male &lt;lgl&gt; | income_cat &lt;chr&gt; | park_dist &lt;dbl&gt; |\n",
       "|---|---|---|---|---|\n",
       "| Andie   | Female     | FALSE | middle | 2.0 |\n",
       "| Bridger | non-binary | FALSE | poor   | 1.5 |\n",
       "| Scott   | Male       |  TRUE | rich   | 1.1 |\n",
       "\n"
      ],
      "text/plain": [
       "  name    gender     male  income_cat park_dist\n",
       "1 Andie   Female     FALSE middle     2.0      \n",
       "2 Bridger non-binary FALSE poor       1.5      \n",
       "3 Scott   Male        TRUE rich       1.1      "
      ]
     },
     "metadata": {},
     "output_type": "display_data"
    },
    {
     "data": {
      "text/html": [
       "TRUE"
      ],
      "text/latex": [
       "TRUE"
      ],
      "text/markdown": [
       "TRUE"
      ],
      "text/plain": [
       "[1] TRUE"
      ]
     },
     "metadata": {},
     "output_type": "display_data"
    }
   ],
   "source": [
    "# add mile to park dist using dplyr\n",
    "myDplyr <- myDplyr %>%\n",
    "  mutate(park_dist = park_dist + 1)\n",
    "\n",
    "myDplyr\n",
    "\n",
    "# use a boolean operator to show the two dfs are the same \n",
    "identical(myBase, myDplyr) # base R command \n"
   ]
  },
  {
   "cell_type": "markdown",
   "id": "c36b4c1a",
   "metadata": {},
   "source": [
    "**New things introduced** \n",
    "\n",
    "- Pipes %>%: pipes take input (our dataframe) and passes it onto the next function. You can chain pipes together.\n",
    "- `mutate()` mutate is a function from the dplyr package \n",
    "- A data frame is piped to the function `mutate()` and then the function executes some small operation you gave it (park_dist +1) and returns the new value"
   ]
  },
  {
   "cell_type": "code",
   "execution_count": 5,
   "id": "122bc31f",
   "metadata": {
    "vscode": {
     "languageId": "r"
    }
   },
   "outputs": [
    {
     "data": {
      "text/html": [
       "<table class=\"dataframe\">\n",
       "<caption>A data.frame: 3 x 6</caption>\n",
       "<thead>\n",
       "\t<tr><th scope=col>name</th><th scope=col>gender</th><th scope=col>male</th><th scope=col>income_cat</th><th scope=col>park_dist</th><th scope=col>park_dist_new</th></tr>\n",
       "\t<tr><th scope=col>&lt;chr&gt;</th><th scope=col>&lt;chr&gt;</th><th scope=col>&lt;lgl&gt;</th><th scope=col>&lt;chr&gt;</th><th scope=col>&lt;dbl&gt;</th><th scope=col>&lt;dbl&gt;</th></tr>\n",
       "</thead>\n",
       "<tbody>\n",
       "\t<tr><td>Andie  </td><td>Female    </td><td>FALSE</td><td>middle</td><td>2.0</td><td>3.0</td></tr>\n",
       "\t<tr><td>Bridger</td><td>non-binary</td><td>FALSE</td><td>poor  </td><td>1.5</td><td>2.5</td></tr>\n",
       "\t<tr><td>Scott  </td><td>Male      </td><td> TRUE</td><td>rich  </td><td>1.1</td><td>2.1</td></tr>\n",
       "</tbody>\n",
       "</table>\n"
      ],
      "text/latex": [
       "A data.frame: 3 x 6\n",
       "\\begin{tabular}{llllll}\n",
       " name & gender & male & income\\_cat & park\\_dist & park\\_dist\\_new\\\\\n",
       " <chr> & <chr> & <lgl> & <chr> & <dbl> & <dbl>\\\\\n",
       "\\hline\n",
       "\t Andie   & Female     & FALSE & middle & 2.0 & 3.0\\\\\n",
       "\t Bridger & non-binary & FALSE & poor   & 1.5 & 2.5\\\\\n",
       "\t Scott   & Male       &  TRUE & rich   & 1.1 & 2.1\\\\\n",
       "\\end{tabular}\n"
      ],
      "text/markdown": [
       "\n",
       "A data.frame: 3 x 6\n",
       "\n",
       "| name &lt;chr&gt; | gender &lt;chr&gt; | male &lt;lgl&gt; | income_cat &lt;chr&gt; | park_dist &lt;dbl&gt; | park_dist_new &lt;dbl&gt; |\n",
       "|---|---|---|---|---|---|\n",
       "| Andie   | Female     | FALSE | middle | 2.0 | 3.0 |\n",
       "| Bridger | non-binary | FALSE | poor   | 1.5 | 2.5 |\n",
       "| Scott   | Male       |  TRUE | rich   | 1.1 | 2.1 |\n",
       "\n"
      ],
      "text/plain": [
       "  name    gender     male  income_cat park_dist park_dist_new\n",
       "1 Andie   Female     FALSE middle     2.0       3.0          \n",
       "2 Bridger non-binary FALSE poor       1.5       2.5          \n",
       "3 Scott   Male        TRUE rich       1.1       2.1          "
      ]
     },
     "metadata": {},
     "output_type": "display_data"
    }
   ],
   "source": [
    "# create a new column with mutate (rather than just changing original)\n",
    "myDplyr <- myDplyr %>%\n",
    "  mutate(park_dist_new = park_dist + 1)\n",
    "\n",
    "  myDplyr\n"
   ]
  },
  {
   "cell_type": "markdown",
   "id": "fbe75375",
   "metadata": {},
   "source": [
    "**New things introduced** \n",
    "\n",
    "- `mutate()` can also construct a new a new column"
   ]
  },
  {
   "cell_type": "markdown",
   "id": "7123aa9c",
   "metadata": {},
   "source": [
    "# `if_else()`\n",
    "\n",
    "Last lecture, we said that women and non-binary people had their distances from parks recorded wrong. Non-male people were a quarter mile closer to the park than originally recorded."
   ]
  },
  {
   "cell_type": "code",
   "execution_count": 6,
   "id": "47f73b9d",
   "metadata": {
    "vscode": {
     "languageId": "r"
    }
   },
   "outputs": [
    {
     "data": {
      "text/html": [
       "<table class=\"dataframe\">\n",
       "<caption>A data.frame: 3 x 6</caption>\n",
       "<thead>\n",
       "\t<tr><th scope=col>name</th><th scope=col>gender</th><th scope=col>male</th><th scope=col>income_cat</th><th scope=col>park_dist</th><th scope=col>park_dist_correct</th></tr>\n",
       "\t<tr><th scope=col>&lt;chr&gt;</th><th scope=col>&lt;chr&gt;</th><th scope=col>&lt;lgl&gt;</th><th scope=col>&lt;chr&gt;</th><th scope=col>&lt;dbl&gt;</th><th scope=col>&lt;dbl&gt;</th></tr>\n",
       "</thead>\n",
       "<tbody>\n",
       "\t<tr><td>Andie  </td><td>Female    </td><td>FALSE</td><td>middle</td><td>2.0</td><td>1.75</td></tr>\n",
       "\t<tr><td>Bridger</td><td>non-binary</td><td>FALSE</td><td>poor  </td><td>1.5</td><td>1.25</td></tr>\n",
       "\t<tr><td>Scott  </td><td>Male      </td><td> TRUE</td><td>rich  </td><td>1.1</td><td>1.10</td></tr>\n",
       "</tbody>\n",
       "</table>\n"
      ],
      "text/latex": [
       "A data.frame: 3 x 6\n",
       "\\begin{tabular}{llllll}\n",
       " name & gender & male & income\\_cat & park\\_dist & park\\_dist\\_correct\\\\\n",
       " <chr> & <chr> & <lgl> & <chr> & <dbl> & <dbl>\\\\\n",
       "\\hline\n",
       "\t Andie   & Female     & FALSE & middle & 2.0 & 1.75\\\\\n",
       "\t Bridger & non-binary & FALSE & poor   & 1.5 & 1.25\\\\\n",
       "\t Scott   & Male       &  TRUE & rich   & 1.1 & 1.10\\\\\n",
       "\\end{tabular}\n"
      ],
      "text/markdown": [
       "\n",
       "A data.frame: 3 x 6\n",
       "\n",
       "| name &lt;chr&gt; | gender &lt;chr&gt; | male &lt;lgl&gt; | income_cat &lt;chr&gt; | park_dist &lt;dbl&gt; | park_dist_correct &lt;dbl&gt; |\n",
       "|---|---|---|---|---|---|\n",
       "| Andie   | Female     | FALSE | middle | 2.0 | 1.75 |\n",
       "| Bridger | non-binary | FALSE | poor   | 1.5 | 1.25 |\n",
       "| Scott   | Male       |  TRUE | rich   | 1.1 | 1.10 |\n",
       "\n"
      ],
      "text/plain": [
       "  name    gender     male  income_cat park_dist park_dist_correct\n",
       "1 Andie   Female     FALSE middle     2.0       1.75             \n",
       "2 Bridger non-binary FALSE poor       1.5       1.25             \n",
       "3 Scott   Male        TRUE rich       1.1       1.10             "
      ]
     },
     "metadata": {},
     "output_type": "display_data"
    }
   ],
   "source": [
    "# goes through each row and changes distance if someone is not male\n",
    "for (i in seq_along(myBase$male)) {\n",
    "    if (myBase$male[i] == FALSE) { # check if someone is \"not male\"\n",
    "        myBase$park_dist_correct[i] <- myBase$park_dist[i] - 0.25 # adjust\n",
    "    }else{\n",
    "        myBase$park_dist_correct[i] <- myBase$park_dist[i]\n",
    "    }\n",
    "}\n",
    "\n",
    "myBase"
   ]
  },
  {
   "cell_type": "markdown",
   "id": "ae9618cf",
   "metadata": {},
   "source": [
    "`dplyr` has an `if_else()` function "
   ]
  },
  {
   "cell_type": "code",
   "execution_count": 7,
   "id": "9cde4ae1",
   "metadata": {
    "vscode": {
     "languageId": "r"
    }
   },
   "outputs": [
    {
     "data": {
      "text/html": [
       "<table class=\"dataframe\">\n",
       "<caption>A data.frame: 3 x 7</caption>\n",
       "<thead>\n",
       "\t<tr><th scope=col>name</th><th scope=col>gender</th><th scope=col>male</th><th scope=col>income_cat</th><th scope=col>park_dist</th><th scope=col>park_dist_new</th><th scope=col>park_dist_correct</th></tr>\n",
       "\t<tr><th scope=col>&lt;chr&gt;</th><th scope=col>&lt;chr&gt;</th><th scope=col>&lt;lgl&gt;</th><th scope=col>&lt;chr&gt;</th><th scope=col>&lt;dbl&gt;</th><th scope=col>&lt;dbl&gt;</th><th scope=col>&lt;dbl&gt;</th></tr>\n",
       "</thead>\n",
       "<tbody>\n",
       "\t<tr><td>Andie  </td><td>Female    </td><td>FALSE</td><td>middle</td><td>2.0</td><td>3.0</td><td>1.75</td></tr>\n",
       "\t<tr><td>Bridger</td><td>non-binary</td><td>FALSE</td><td>poor  </td><td>1.5</td><td>2.5</td><td>1.25</td></tr>\n",
       "\t<tr><td>Scott  </td><td>Male      </td><td> TRUE</td><td>rich  </td><td>1.1</td><td>2.1</td><td>1.10</td></tr>\n",
       "</tbody>\n",
       "</table>\n"
      ],
      "text/latex": [
       "A data.frame: 3 x 7\n",
       "\\begin{tabular}{lllllll}\n",
       " name & gender & male & income\\_cat & park\\_dist & park\\_dist\\_new & park\\_dist\\_correct\\\\\n",
       " <chr> & <chr> & <lgl> & <chr> & <dbl> & <dbl> & <dbl>\\\\\n",
       "\\hline\n",
       "\t Andie   & Female     & FALSE & middle & 2.0 & 3.0 & 1.75\\\\\n",
       "\t Bridger & non-binary & FALSE & poor   & 1.5 & 2.5 & 1.25\\\\\n",
       "\t Scott   & Male       &  TRUE & rich   & 1.1 & 2.1 & 1.10\\\\\n",
       "\\end{tabular}\n"
      ],
      "text/markdown": [
       "\n",
       "A data.frame: 3 x 7\n",
       "\n",
       "| name &lt;chr&gt; | gender &lt;chr&gt; | male &lt;lgl&gt; | income_cat &lt;chr&gt; | park_dist &lt;dbl&gt; | park_dist_new &lt;dbl&gt; | park_dist_correct &lt;dbl&gt; |\n",
       "|---|---|---|---|---|---|---|\n",
       "| Andie   | Female     | FALSE | middle | 2.0 | 3.0 | 1.75 |\n",
       "| Bridger | non-binary | FALSE | poor   | 1.5 | 2.5 | 1.25 |\n",
       "| Scott   | Male       |  TRUE | rich   | 1.1 | 2.1 | 1.10 |\n",
       "\n"
      ],
      "text/plain": [
       "  name    gender     male  income_cat park_dist park_dist_new park_dist_correct\n",
       "1 Andie   Female     FALSE middle     2.0       3.0           1.75             \n",
       "2 Bridger non-binary FALSE poor       1.5       2.5           1.25             \n",
       "3 Scott   Male        TRUE rich       1.1       2.1           1.10             "
      ]
     },
     "metadata": {},
     "output_type": "display_data"
    }
   ],
   "source": [
    "# correct distance using if_else\n",
    "myDplyr <- myDplyr %>%\n",
    "  mutate(park_dist_correct = if_else(male == FALSE, park_dist - 0.25, park_dist))\n",
    "\n",
    "myDplyr\n"
   ]
  },
  {
   "cell_type": "markdown",
   "id": "16747bbc",
   "metadata": {},
   "source": [
    "**New things introduced** \n",
    "\n",
    "- `if_else()` combined with `mutate()`\n",
    "    - the first part is what you're evaluating to check if it's true (`male == FALSE`)\n",
    "    - Next entry is what to return if true (`park_dist - 0.25`)\n",
    "    - Final part is what to return if false (`park_dist`)"
   ]
  },
  {
   "cell_type": "markdown",
   "id": "b2902929",
   "metadata": {},
   "source": [
    "# `filter()`\n",
    "\n",
    "We haven't seen something like a filter command yet. The filter command is used when you have a data set, and want subset to only some observations conditioned on something. \n",
    "\n",
    "## Example One: Filter for a characteristic\n",
    "Let's say we have observations of different ecosystems"
   ]
  },
  {
   "cell_type": "code",
   "execution_count": 8,
   "id": "d926fe44",
   "metadata": {
    "vscode": {
     "languageId": "r"
    }
   },
   "outputs": [
    {
     "data": {
      "text/html": [
       "<table class=\"dataframe\">\n",
       "<caption>A data.frame: 5 x 3</caption>\n",
       "<thead>\n",
       "\t<tr><th scope=col>ecosystem</th><th scope=col>species_richness</th><th scope=col>pollution_level</th></tr>\n",
       "\t<tr><th scope=col>&lt;chr&gt;</th><th scope=col>&lt;dbl&gt;</th><th scope=col>&lt;chr&gt;</th></tr>\n",
       "</thead>\n",
       "<tbody>\n",
       "\t<tr><td>Forest   </td><td>120</td><td>Low   </td></tr>\n",
       "\t<tr><td>Desert   </td><td> 45</td><td>High  </td></tr>\n",
       "\t<tr><td>Wetland  </td><td> 80</td><td>Medium</td></tr>\n",
       "\t<tr><td>Grassland</td><td> 60</td><td>Low   </td></tr>\n",
       "\t<tr><td>Urban    </td><td> 30</td><td>High  </td></tr>\n",
       "</tbody>\n",
       "</table>\n"
      ],
      "text/latex": [
       "A data.frame: 5 x 3\n",
       "\\begin{tabular}{lll}\n",
       " ecosystem & species\\_richness & pollution\\_level\\\\\n",
       " <chr> & <dbl> & <chr>\\\\\n",
       "\\hline\n",
       "\t Forest    & 120 & Low   \\\\\n",
       "\t Desert    &  45 & High  \\\\\n",
       "\t Wetland   &  80 & Medium\\\\\n",
       "\t Grassland &  60 & Low   \\\\\n",
       "\t Urban     &  30 & High  \\\\\n",
       "\\end{tabular}\n"
      ],
      "text/markdown": [
       "\n",
       "A data.frame: 5 x 3\n",
       "\n",
       "| ecosystem &lt;chr&gt; | species_richness &lt;dbl&gt; | pollution_level &lt;chr&gt; |\n",
       "|---|---|---|\n",
       "| Forest    | 120 | Low    |\n",
       "| Desert    |  45 | High   |\n",
       "| Wetland   |  80 | Medium |\n",
       "| Grassland |  60 | Low    |\n",
       "| Urban     |  30 | High   |\n",
       "\n"
      ],
      "text/plain": [
       "  ecosystem species_richness pollution_level\n",
       "1 Forest    120              Low            \n",
       "2 Desert     45              High           \n",
       "3 Wetland    80              Medium         \n",
       "4 Grassland  60              Low            \n",
       "5 Urban      30              High           "
      ]
     },
     "metadata": {},
     "output_type": "display_data"
    },
    {
     "data": {
      "text/html": [
       "<table class=\"dataframe\">\n",
       "<caption>A data.frame: 2 x 3</caption>\n",
       "<thead>\n",
       "\t<tr><th scope=col>ecosystem</th><th scope=col>species_richness</th><th scope=col>pollution_level</th></tr>\n",
       "\t<tr><th scope=col>&lt;chr&gt;</th><th scope=col>&lt;dbl&gt;</th><th scope=col>&lt;chr&gt;</th></tr>\n",
       "</thead>\n",
       "<tbody>\n",
       "\t<tr><td>Forest   </td><td>120</td><td>Low</td></tr>\n",
       "\t<tr><td>Grassland</td><td> 60</td><td>Low</td></tr>\n",
       "</tbody>\n",
       "</table>\n"
      ],
      "text/latex": [
       "A data.frame: 2 x 3\n",
       "\\begin{tabular}{lll}\n",
       " ecosystem & species\\_richness & pollution\\_level\\\\\n",
       " <chr> & <dbl> & <chr>\\\\\n",
       "\\hline\n",
       "\t Forest    & 120 & Low\\\\\n",
       "\t Grassland &  60 & Low\\\\\n",
       "\\end{tabular}\n"
      ],
      "text/markdown": [
       "\n",
       "A data.frame: 2 x 3\n",
       "\n",
       "| ecosystem &lt;chr&gt; | species_richness &lt;dbl&gt; | pollution_level &lt;chr&gt; |\n",
       "|---|---|---|\n",
       "| Forest    | 120 | Low |\n",
       "| Grassland |  60 | Low |\n",
       "\n"
      ],
      "text/plain": [
       "  ecosystem species_richness pollution_level\n",
       "1 Forest    120              Low            \n",
       "2 Grassland  60              Low            "
      ]
     },
     "metadata": {},
     "output_type": "display_data"
    }
   ],
   "source": [
    "# ecosystem dataset\n",
    "df_env_data <- data.frame(\n",
    "    ecosystem = c(\"Forest\", \"Desert\", \"Wetland\", \"Grassland\", \"Urban\"),\n",
    "    species_richness = c(120, 45, 80, 60, 30),\n",
    "    pollution_level = c(\"Low\", \"High\", \"Medium\", \"Low\", \"High\")\n",
    ")\n",
    "\n",
    "# display \n",
    "df_env_data\n",
    "\n",
    "# filter to include only locations with low pollution levels\n",
    "low_pollution_data <- df_env_data %>%\n",
    "    filter(pollution_level == \"Low\")\n",
    "\n",
    "# display the filtered dataset\n",
    "low_pollution_data"
   ]
  },
  {
   "cell_type": "markdown",
   "id": "048bad35",
   "metadata": {},
   "source": [
    "## Example two: drop NAs\n",
    "You will frequently have datasets that have missing data (*i.e.,* the cell has a `NA` value). Many functions and models won't work with NAs, so they have to be cleaned out of the data set.\n",
    "\n",
    "Let's imagine we're missing a location for one of our ecosystem observations"
   ]
  },
  {
   "cell_type": "code",
   "execution_count": 9,
   "id": "c6de0b07",
   "metadata": {
    "vscode": {
     "languageId": "r"
    }
   },
   "outputs": [
    {
     "data": {
      "text/html": [
       "<table class=\"dataframe\">\n",
       "<caption>A data.frame: 5 x 3</caption>\n",
       "<thead>\n",
       "\t<tr><th scope=col>ecosystem</th><th scope=col>species_richness</th><th scope=col>pollution_level</th></tr>\n",
       "\t<tr><th scope=col>&lt;chr&gt;</th><th scope=col>&lt;dbl&gt;</th><th scope=col>&lt;chr&gt;</th></tr>\n",
       "</thead>\n",
       "<tbody>\n",
       "\t<tr><td>Forest </td><td>120</td><td>Low   </td></tr>\n",
       "\t<tr><td>Desert </td><td> 45</td><td>High  </td></tr>\n",
       "\t<tr><td>Wetland</td><td> 80</td><td>Medium</td></tr>\n",
       "\t<tr><td>NA     </td><td> 60</td><td>Low   </td></tr>\n",
       "\t<tr><td>Urban  </td><td> 30</td><td>High  </td></tr>\n",
       "</tbody>\n",
       "</table>\n"
      ],
      "text/latex": [
       "A data.frame: 5 x 3\n",
       "\\begin{tabular}{lll}\n",
       " ecosystem & species\\_richness & pollution\\_level\\\\\n",
       " <chr> & <dbl> & <chr>\\\\\n",
       "\\hline\n",
       "\t Forest  & 120 & Low   \\\\\n",
       "\t Desert  &  45 & High  \\\\\n",
       "\t Wetland &  80 & Medium\\\\\n",
       "\t NA      &  60 & Low   \\\\\n",
       "\t Urban   &  30 & High  \\\\\n",
       "\\end{tabular}\n"
      ],
      "text/markdown": [
       "\n",
       "A data.frame: 5 x 3\n",
       "\n",
       "| ecosystem &lt;chr&gt; | species_richness &lt;dbl&gt; | pollution_level &lt;chr&gt; |\n",
       "|---|---|---|\n",
       "| Forest  | 120 | Low    |\n",
       "| Desert  |  45 | High   |\n",
       "| Wetland |  80 | Medium |\n",
       "| NA      |  60 | Low    |\n",
       "| Urban   |  30 | High   |\n",
       "\n"
      ],
      "text/plain": [
       "  ecosystem species_richness pollution_level\n",
       "1 Forest    120              Low            \n",
       "2 Desert     45              High           \n",
       "3 Wetland    80              Medium         \n",
       "4 NA         60              Low            \n",
       "5 Urban      30              High           "
      ]
     },
     "metadata": {},
     "output_type": "display_data"
    },
    {
     "data": {
      "text/html": [
       "<table class=\"dataframe\">\n",
       "<caption>A data.frame: 4 x 3</caption>\n",
       "<thead>\n",
       "\t<tr><th scope=col>ecosystem</th><th scope=col>species_richness</th><th scope=col>pollution_level</th></tr>\n",
       "\t<tr><th scope=col>&lt;chr&gt;</th><th scope=col>&lt;dbl&gt;</th><th scope=col>&lt;chr&gt;</th></tr>\n",
       "</thead>\n",
       "<tbody>\n",
       "\t<tr><td>Forest </td><td>120</td><td>Low   </td></tr>\n",
       "\t<tr><td>Desert </td><td> 45</td><td>High  </td></tr>\n",
       "\t<tr><td>Wetland</td><td> 80</td><td>Medium</td></tr>\n",
       "\t<tr><td>Urban  </td><td> 30</td><td>High  </td></tr>\n",
       "</tbody>\n",
       "</table>\n"
      ],
      "text/latex": [
       "A data.frame: 4 x 3\n",
       "\\begin{tabular}{lll}\n",
       " ecosystem & species\\_richness & pollution\\_level\\\\\n",
       " <chr> & <dbl> & <chr>\\\\\n",
       "\\hline\n",
       "\t Forest  & 120 & Low   \\\\\n",
       "\t Desert  &  45 & High  \\\\\n",
       "\t Wetland &  80 & Medium\\\\\n",
       "\t Urban   &  30 & High  \\\\\n",
       "\\end{tabular}\n"
      ],
      "text/markdown": [
       "\n",
       "A data.frame: 4 x 3\n",
       "\n",
       "| ecosystem &lt;chr&gt; | species_richness &lt;dbl&gt; | pollution_level &lt;chr&gt; |\n",
       "|---|---|---|\n",
       "| Forest  | 120 | Low    |\n",
       "| Desert  |  45 | High   |\n",
       "| Wetland |  80 | Medium |\n",
       "| Urban   |  30 | High   |\n",
       "\n"
      ],
      "text/plain": [
       "  ecosystem species_richness pollution_level\n",
       "1 Forest    120              Low            \n",
       "2 Desert     45              High           \n",
       "3 Wetland    80              Medium         \n",
       "4 Urban      30              High           "
      ]
     },
     "metadata": {},
     "output_type": "display_data"
    }
   ],
   "source": [
    "# ecosystem dataset but with NAs\n",
    "df_env_data_na <- data.frame(\n",
    "    ecosystem = c(\"Forest\", \"Desert\", \"Wetland\", NA, \"Urban\"),\n",
    "    species_richness = c(120, 45, 80, 60, 30),\n",
    "    pollution_level = c(\"Low\", \"High\", \"Medium\", \"Low\", \"High\")\n",
    ")\n",
    "\n",
    "# display the dataset with NAs\n",
    "df_env_data_na\n",
    "\n",
    "# drop rows with NAs in the 'location' column using filter\n",
    "df_env_data_clean <- df_env_data_na %>%\n",
    "    filter(!is.na(ecosystem))\n",
    "\n",
    "# display the cleaned dataset\n",
    "df_env_data_clean"
   ]
  },
  {
   "cell_type": "markdown",
   "id": "269e993a",
   "metadata": {},
   "source": [
    "# `select()`\n",
    "\n",
    "You have a data set with more columns than you need. Sometimes you want to only work with some of the variables, and it is space efficient to get rid of the rest. \n",
    "\n",
    "For example, let's say you're only interested in the pollution at different locations, not the species richness. "
   ]
  },
  {
   "cell_type": "code",
   "execution_count": 10,
   "id": "4b1fbbb1",
   "metadata": {
    "vscode": {
     "languageId": "r"
    }
   },
   "outputs": [
    {
     "data": {
      "text/html": [
       "<table class=\"dataframe\">\n",
       "<caption>A data.frame: 5 x 2</caption>\n",
       "<thead>\n",
       "\t<tr><th scope=col>ecosystem</th><th scope=col>pollution_level</th></tr>\n",
       "\t<tr><th scope=col>&lt;chr&gt;</th><th scope=col>&lt;chr&gt;</th></tr>\n",
       "</thead>\n",
       "<tbody>\n",
       "\t<tr><td>Forest   </td><td>Low   </td></tr>\n",
       "\t<tr><td>Desert   </td><td>High  </td></tr>\n",
       "\t<tr><td>Wetland  </td><td>Medium</td></tr>\n",
       "\t<tr><td>Grassland</td><td>Low   </td></tr>\n",
       "\t<tr><td>Urban    </td><td>High  </td></tr>\n",
       "</tbody>\n",
       "</table>\n"
      ],
      "text/latex": [
       "A data.frame: 5 x 2\n",
       "\\begin{tabular}{ll}\n",
       " ecosystem & pollution\\_level\\\\\n",
       " <chr> & <chr>\\\\\n",
       "\\hline\n",
       "\t Forest    & Low   \\\\\n",
       "\t Desert    & High  \\\\\n",
       "\t Wetland   & Medium\\\\\n",
       "\t Grassland & Low   \\\\\n",
       "\t Urban     & High  \\\\\n",
       "\\end{tabular}\n"
      ],
      "text/markdown": [
       "\n",
       "A data.frame: 5 x 2\n",
       "\n",
       "| ecosystem &lt;chr&gt; | pollution_level &lt;chr&gt; |\n",
       "|---|---|\n",
       "| Forest    | Low    |\n",
       "| Desert    | High   |\n",
       "| Wetland   | Medium |\n",
       "| Grassland | Low    |\n",
       "| Urban     | High   |\n",
       "\n"
      ],
      "text/plain": [
       "  ecosystem pollution_level\n",
       "1 Forest    Low            \n",
       "2 Desert    High           \n",
       "3 Wetland   Medium         \n",
       "4 Grassland Low            \n",
       "5 Urban     High           "
      ]
     },
     "metadata": {},
     "output_type": "display_data"
    }
   ],
   "source": [
    "# select only the ecosystem and pollution_level columns\n",
    "pollution_data <- df_env_data %>%\n",
    "    select(ecosystem, pollution_level)\n",
    "\n",
    "# display the selected columns\n",
    "pollution_data"
   ]
  },
  {
   "cell_type": "markdown",
   "id": "8fd7f33f",
   "metadata": {},
   "source": [
    "# `group_by()`\n",
    "\n",
    "Group by is useful for when you want to aggregate information up to a higher level. So, if you need a variable that is the average species richness by ecosystem rather than the species richness at individual sites.\n",
    "\n",
    "Let's work with a longer version of our ecosystem dataset  "
   ]
  },
  {
   "cell_type": "code",
   "execution_count": 11,
   "id": "7a02691b",
   "metadata": {
    "vscode": {
     "languageId": "r"
    }
   },
   "outputs": [
    {
     "data": {
      "text/html": [
       "<table class=\"dataframe\">\n",
       "<caption>A data.frame: 10 x 3</caption>\n",
       "<thead>\n",
       "\t<tr><th scope=col>ecosystem</th><th scope=col>species_richness</th><th scope=col>pollution_level</th></tr>\n",
       "\t<tr><th scope=col>&lt;chr&gt;</th><th scope=col>&lt;dbl&gt;</th><th scope=col>&lt;chr&gt;</th></tr>\n",
       "</thead>\n",
       "<tbody>\n",
       "\t<tr><td>Forest   </td><td>120</td><td>Low   </td></tr>\n",
       "\t<tr><td>Desert   </td><td> 45</td><td>High  </td></tr>\n",
       "\t<tr><td>Wetland  </td><td> 80</td><td>Medium</td></tr>\n",
       "\t<tr><td>Grassland</td><td> 60</td><td>Low   </td></tr>\n",
       "\t<tr><td>Urban    </td><td> 30</td><td>High  </td></tr>\n",
       "\t<tr><td>Forest   </td><td>110</td><td>Low   </td></tr>\n",
       "\t<tr><td>Desert   </td><td> 50</td><td>High  </td></tr>\n",
       "\t<tr><td>Wetland  </td><td> 85</td><td>Medium</td></tr>\n",
       "\t<tr><td>Grassland</td><td> 65</td><td>Low   </td></tr>\n",
       "\t<tr><td>Urban    </td><td> 35</td><td>High  </td></tr>\n",
       "</tbody>\n",
       "</table>\n"
      ],
      "text/latex": [
       "A data.frame: 10 x 3\n",
       "\\begin{tabular}{lll}\n",
       " ecosystem & species\\_richness & pollution\\_level\\\\\n",
       " <chr> & <dbl> & <chr>\\\\\n",
       "\\hline\n",
       "\t Forest    & 120 & Low   \\\\\n",
       "\t Desert    &  45 & High  \\\\\n",
       "\t Wetland   &  80 & Medium\\\\\n",
       "\t Grassland &  60 & Low   \\\\\n",
       "\t Urban     &  30 & High  \\\\\n",
       "\t Forest    & 110 & Low   \\\\\n",
       "\t Desert    &  50 & High  \\\\\n",
       "\t Wetland   &  85 & Medium\\\\\n",
       "\t Grassland &  65 & Low   \\\\\n",
       "\t Urban     &  35 & High  \\\\\n",
       "\\end{tabular}\n"
      ],
      "text/markdown": [
       "\n",
       "A data.frame: 10 x 3\n",
       "\n",
       "| ecosystem &lt;chr&gt; | species_richness &lt;dbl&gt; | pollution_level &lt;chr&gt; |\n",
       "|---|---|---|\n",
       "| Forest    | 120 | Low    |\n",
       "| Desert    |  45 | High   |\n",
       "| Wetland   |  80 | Medium |\n",
       "| Grassland |  60 | Low    |\n",
       "| Urban     |  30 | High   |\n",
       "| Forest    | 110 | Low    |\n",
       "| Desert    |  50 | High   |\n",
       "| Wetland   |  85 | Medium |\n",
       "| Grassland |  65 | Low    |\n",
       "| Urban     |  35 | High   |\n",
       "\n"
      ],
      "text/plain": [
       "   ecosystem species_richness pollution_level\n",
       "1  Forest    120              Low            \n",
       "2  Desert     45              High           \n",
       "3  Wetland    80              Medium         \n",
       "4  Grassland  60              Low            \n",
       "5  Urban      30              High           \n",
       "6  Forest    110              Low            \n",
       "7  Desert     50              High           \n",
       "8  Wetland    85              Medium         \n",
       "9  Grassland  65              Low            \n",
       "10 Urban      35              High           "
      ]
     },
     "metadata": {},
     "output_type": "display_data"
    },
    {
     "data": {
      "text/html": [
       "<table class=\"dataframe\">\n",
       "<caption>A grouped_df: 10 x 4</caption>\n",
       "<thead>\n",
       "\t<tr><th scope=col>ecosystem</th><th scope=col>species_richness</th><th scope=col>pollution_level</th><th scope=col>mean_species_richness</th></tr>\n",
       "\t<tr><th scope=col>&lt;chr&gt;</th><th scope=col>&lt;chr&gt;</th><th scope=col>&lt;lgl&gt;</th><th scope=col>&lt;chr&gt;</th><th scope=col>&lt;dbl&gt;</th></tr>\n",
       "</thead>\n",
       "<tbody>\n",
       "\t<tr><td>Forest   </td><td>120</td><td>Low   </td><td>115.0</td></tr>\n",
       "\t<tr><td>Desert   </td><td> 45</td><td>High  </td><td> 47.5</td></tr>\n",
       "\t<tr><td>Wetland  </td><td> 80</td><td>Medium</td><td> 82.5</td></tr>\n",
       "\t<tr><td>Grassland</td><td> 60</td><td>Low   </td><td> 62.5</td></tr>\n",
       "\t<tr><td>Urban    </td><td> 30</td><td>High  </td><td> 32.5</td></tr>\n",
       "\t<tr><td>Forest   </td><td>110</td><td>Low   </td><td>115.0</td></tr>\n",
       "\t<tr><td>Desert   </td><td> 50</td><td>High  </td><td> 47.5</td></tr>\n",
       "\t<tr><td>Wetland  </td><td> 85</td><td>Medium</td><td> 82.5</td></tr>\n",
       "\t<tr><td>Grassland</td><td> 65</td><td>Low   </td><td> 62.5</td></tr>\n",
       "\t<tr><td>Urban    </td><td> 35</td><td>High  </td><td> 32.5</td></tr>\n",
       "</tbody>\n",
       "</table>\n"
      ],
      "text/latex": [
       "A grouped\\_df: 10 x 4\n",
       "\\begin{tabular}{llll}\n",
       " ecosystem & species\\_richness & pollution\\_level & mean\\_species\\_richness\\\\\n",
       " <chr> & <dbl> & <chr> & <dbl>\\\\\n",
       "\\hline\n",
       "\t Forest    & 120 & Low    & 115.0\\\\\n",
       "\t Desert    &  45 & High   &  47.5\\\\\n",
       "\t Wetland   &  80 & Medium &  82.5\\\\\n",
       "\t Grassland &  60 & Low    &  62.5\\\\\n",
       "\t Urban     &  30 & High   &  32.5\\\\\n",
       "\t Forest    & 110 & Low    & 115.0\\\\\n",
       "\t Desert    &  50 & High   &  47.5\\\\\n",
       "\t Wetland   &  85 & Medium &  82.5\\\\\n",
       "\t Grassland &  65 & Low    &  62.5\\\\\n",
       "\t Urban     &  35 & High   &  32.5\\\\\n",
       "\\end{tabular}\n"
      ],
      "text/markdown": [
       "\n",
       "A grouped_df: 10 x 4\n",
       "\n",
       "| ecosystem &lt;chr&gt; | species_richness &lt;dbl&gt; | pollution_level &lt;chr&gt; | mean_species_richness &lt;dbl&gt; |\n",
       "|---|---|---|---|\n",
       "| Forest    | 120 | Low    | 115.0 |\n",
       "| Desert    |  45 | High   |  47.5 |\n",
       "| Wetland   |  80 | Medium |  82.5 |\n",
       "| Grassland |  60 | Low    |  62.5 |\n",
       "| Urban     |  30 | High   |  32.5 |\n",
       "| Forest    | 110 | Low    | 115.0 |\n",
       "| Desert    |  50 | High   |  47.5 |\n",
       "| Wetland   |  85 | Medium |  82.5 |\n",
       "| Grassland |  65 | Low    |  62.5 |\n",
       "| Urban     |  35 | High   |  32.5 |\n",
       "\n"
      ],
      "text/plain": [
       "   ecosystem species_richness pollution_level mean_species_richness\n",
       "1  Forest    120              Low             115.0                \n",
       "2  Desert     45              High             47.5                \n",
       "3  Wetland    80              Medium           82.5                \n",
       "4  Grassland  60              Low              62.5                \n",
       "5  Urban      30              High             32.5                \n",
       "6  Forest    110              Low             115.0                \n",
       "7  Desert     50              High             47.5                \n",
       "8  Wetland    85              Medium           82.5                \n",
       "9  Grassland  65              Low              62.5                \n",
       "10 Urban      35              High             32.5                "
      ]
     },
     "metadata": {},
     "output_type": "display_data"
    }
   ],
   "source": [
    "# create an environmental dataset (don't clear this!)\n",
    "df_env_long <- data.frame(\n",
    "    ecosystem = c(\"Forest\", \"Desert\", \"Wetland\", \"Grassland\", \"Urban\", \"Forest\", \"Desert\", \"Wetland\", \"Grassland\", \"Urban\"),\n",
    "    species_richness = c(120, 45, 80, 60, 30, 110, 50, 85, 65, 35),\n",
    "    pollution_level = c(\"Low\", \"High\", \"Medium\", \"Low\", \"High\", \"Low\", \"High\", \"Medium\", \"Low\", \"High\")\n",
    ")\n",
    "\n",
    "# display the dataset\n",
    "df_env_long\n",
    "\n",
    "# group by ecosystem and calculate the mean species richness\n",
    "df_env_grouped <- df_env_long %>%\n",
    "    group_by(ecosystem) %>%\n",
    "    mutate(mean_species_richness = mean(species_richness))\n",
    "\n",
    "# display the updated dataset with mean species richness\n",
    "df_env_grouped"
   ]
  },
  {
   "cell_type": "markdown",
   "id": "dc99f6a7",
   "metadata": {
    "vscode": {
     "languageId": "r"
    }
   },
   "source": [
    "# `summarise()` \n",
    "Finally, the `summarise()` function can help you create summary tables. These are useful for getting a quick snapshot of data. Using them is particularly important when you have a large enough dataset that you're unable to look at the dataset and glean insight (which, for me, happens if the dataset is longer than 5 observations)."
   ]
  },
  {
   "cell_type": "code",
   "execution_count": 12,
   "id": "17efdb1b",
   "metadata": {
    "vscode": {
     "languageId": "r"
    }
   },
   "outputs": [
    {
     "data": {
      "text/html": [
       "<table class=\"dataframe\">\n",
       "<caption>A tibble: 5 x 3</caption>\n",
       "<thead>\n",
       "\t<tr><th scope=col>ecosystem</th><th scope=col>mean_species_richness</th><th scope=col>total_species_richness</th></tr>\n",
       "\t<tr><th scope=col>&lt;chr&gt;</th><th scope=col>&lt;dbl&gt;</th><th scope=col>&lt;dbl&gt;</th></tr>\n",
       "</thead>\n",
       "<tbody>\n",
       "\t<tr><td>Desert   </td><td> 47.5</td><td> 95</td></tr>\n",
       "\t<tr><td>Forest   </td><td>115.0</td><td>230</td></tr>\n",
       "\t<tr><td>Grassland</td><td> 62.5</td><td>125</td></tr>\n",
       "\t<tr><td>Urban    </td><td> 32.5</td><td> 65</td></tr>\n",
       "\t<tr><td>Wetland  </td><td> 82.5</td><td>165</td></tr>\n",
       "</tbody>\n",
       "</table>\n"
      ],
      "text/latex": [
       "A tibble: 5 x 3\n",
       "\\begin{tabular}{lll}\n",
       " ecosystem & mean\\_species\\_richness & total\\_species\\_richness\\\\\n",
       " <chr> & <dbl> & <dbl>\\\\\n",
       "\\hline\n",
       "\t Desert    &  47.5 &  95\\\\\n",
       "\t Forest    & 115.0 & 230\\\\\n",
       "\t Grassland &  62.5 & 125\\\\\n",
       "\t Urban     &  32.5 &  65\\\\\n",
       "\t Wetland   &  82.5 & 165\\\\\n",
       "\\end{tabular}\n"
      ],
      "text/markdown": [
       "\n",
       "A tibble: 5 x 3\n",
       "\n",
       "| ecosystem &lt;chr&gt; | mean_species_richness &lt;dbl&gt; | total_species_richness &lt;dbl&gt; |\n",
       "|---|---|---|\n",
       "| Desert    |  47.5 |  95 |\n",
       "| Forest    | 115.0 | 230 |\n",
       "| Grassland |  62.5 | 125 |\n",
       "| Urban     |  32.5 |  65 |\n",
       "| Wetland   |  82.5 | 165 |\n",
       "\n"
      ],
      "text/plain": [
       "  ecosystem mean_species_richness total_species_richness\n",
       "1 Desert     47.5                  95                   \n",
       "2 Forest    115.0                 230                   \n",
       "3 Grassland  62.5                 125                   \n",
       "4 Urban      32.5                  65                   \n",
       "5 Wetland    82.5                 165                   "
      ]
     },
     "metadata": {},
     "output_type": "display_data"
    }
   ],
   "source": [
    "# group by ecosystem and calculate the mean and total species richness\n",
    "summary_table <- df_env_long %>%\n",
    "    group_by(ecosystem) %>%\n",
    "    summarise(\n",
    "        mean_species_richness = mean(species_richness),\n",
    "        total_species_richness = sum(species_richness)\n",
    "    )\n",
    "\n",
    "# display the summary table\n",
    "summary_table"
   ]
  }
 ],
 "metadata": {
  "kernelspec": {
   "display_name": "R",
   "language": "R",
   "name": "ir"
  },
  "language_info": {
   "codemirror_mode": "r",
   "file_extension": ".r",
   "mimetype": "text/x-r-source",
   "name": "R",
   "pygments_lexer": "r",
   "version": "4.4.1"
  }
 },
 "nbformat": 4,
 "nbformat_minor": 5
}
