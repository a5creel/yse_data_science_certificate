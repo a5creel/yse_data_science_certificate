{
 "cells": [
  {
   "cell_type": "markdown",
   "id": "c41deddd",
   "metadata": {},
   "source": [
    "# Data Manipulation with Tidyverse, Part I\n",
    "\n",
    "Use this Jupyter Notebook to take notes during the lecture. Fill it out with text, code, and comments while watching the video lecture to gain hands-on experience running your first code. Insert your own text and code blocks in this notebook while following the video lecture. This will help you learn by doing and serve as notes for future reference.\n",
    "\n",
    "In this lecture and the next, we're going to go through a lot of different concepts. Remember, you can use the Complete Notebook as a reference for all that we will cover in this lecture. \n",
    "\n",
    "The goal of this lecture and the next is:\n",
    "\n",
    "1) Learn about packages, the tidyverse\n",
    "2) Learn how to manipulate and clean data with tidyverse\n",
    "\n",
    "# Why is data manipulation important \n",
    "\n",
    "Presumably, we are all planning to do Environmental Data Science\n",
    "\n",
    "- We will have a hypothesis of how the world works\n",
    "- We will want to construct a model that approximates that \n",
    "- We will need data from the real world to build that model that approximates the world\n",
    "- The data we have may not be set up to be plugged into the model we'd like to run\n",
    "- However, it could be *manipulated* so that we can use the data we have with the model we want\n",
    "\n",
    "My personal example: American Time Use Survey and Travel Cost Model, Cell Phone Data and green space\n",
    "\n",
    "# What are packages and how can I get them?\n",
    "\n",
    "**What are they:**\n",
    "\n",
    "- A package contains a bunch of pre-built functions \n",
    "- Anyone can load and use them\n",
    "- Saves you a ton of time because someone already figured out how to do it\n",
    "\n",
    "**Tidyverse**\n",
    "\n",
    "- Collection of R packages \n",
    "- All are meant for data science\n",
    "- Have shared syntax\n",
    "- Makes it easier to import, tidy, transform, visualize, and model data in R\n",
    "- Shout out to Hadley Wickham and co \n",
    "\n",
    "**Installing a package vs. loading a package** \n",
    "\n",
    "- You only need to install a package on your local computer once (your lab has all the packages pre-installed)\n",
    "- You then \"load\" that package in a script when you want to use it using the `library()` command\n",
    "\n",
    "For reference, the code to install a package on your local computer is below. We do not need to run this code on each of our local machines. \n",
    "\n",
    "```r\n",
    "# installing packages that are a part of the tidyverse using r code\n",
    "install.packages(\"dplyr\")\n",
    "install.packages(\"tidyr\")\n",
    "install.packages(\"ggplot2\")\n",
    "```\n",
    "\n",
    "You can load packages after you've installed them with the library function"
   ]
  },
  {
   "cell_type": "code",
   "execution_count": null,
   "id": "c592e851",
   "metadata": {
    "vscode": {
     "languageId": "r"
    }
   },
   "outputs": [],
   "source": [
    "# load dplyr, the package we will focus on today\n",
    "library(dplyr)"
   ]
  },
  {
   "cell_type": "markdown",
   "id": "a89a3768",
   "metadata": {},
   "source": [
    "# Manipulating and cleaning with dplyr \n",
    "\n",
    "- Going to introduce the primary functions in the dplyr package\n",
    "    - `mutate()`\n",
    "    - `if_else()`\n",
    "    - `filter()`\n",
    "    - `select()`\n",
    "    - `group_by()`\n",
    "    - `summarise()`\n"
   ]
  },
  {
   "cell_type": "code",
   "execution_count": null,
   "id": "4b13dfa3",
   "metadata": {
    "vscode": {
     "languageId": "r"
    }
   },
   "outputs": [],
   "source": [
    "# Build our trusty dataset, but let's call this one myBase\n",
    "myBase <- data.frame(\n",
    "   name = c(\"Andie\", \"Bridger\", \"Scott\"),\n",
    "   gender = c(\"Female\", \"non-binary\", \"Male\"),\n",
    "   male = c(FALSE, FALSE, TRUE),\n",
    "   income_cat = c(\"middle\", \"poor\", \"rich\"),\n",
    "   park_dist = c(1, 0.5, 0.1)\n",
    ")\n",
    "myBase\n",
    "\n",
    "# begin inserting here!"
   ]
  },
  {
   "cell_type": "markdown",
   "id": "4c1d2ddb",
   "metadata": {},
   "source": [
    "# `mutate()`\n",
    "*insert here*"
   ]
  },
  {
   "cell_type": "markdown",
   "id": "7123aa9c",
   "metadata": {},
   "source": [
    "# `if_else()`\n",
    "\n",
    "Last lecture, we said that women and non-binary people had their distances from parks recorded wrong. Non-male people were a quarter mile closer to the park than originally recorded."
   ]
  },
  {
   "cell_type": "code",
   "execution_count": null,
   "id": "47f73b9d",
   "metadata": {
    "vscode": {
     "languageId": "r"
    }
   },
   "outputs": [],
   "source": [
    "# goes through each row and changes distance if someone is not male\n",
    "for (i in seq_along(myBase$male)) {\n",
    "    if (myBase$male[i] == FALSE) { # check if someone is \"not male\"\n",
    "        myBase$park_dist_correct[i] <- myBase$park_dist[i] - 0.25 # adjust\n",
    "    }else{\n",
    "        myBase$park_dist_correct[i] <- myBase$park_dist[i]\n",
    "    }\n",
    "}\n",
    "\n",
    "# begin inserting here"
   ]
  },
  {
   "cell_type": "markdown",
   "id": "b2902929",
   "metadata": {},
   "source": [
    "# `filter()`\n",
    "\n",
    "*insert here*"
   ]
  },
  {
   "cell_type": "markdown",
   "id": "269e993a",
   "metadata": {},
   "source": [
    "# `select()`\n",
    "*insert here*"
   ]
  },
  {
   "cell_type": "markdown",
   "id": "8fd7f33f",
   "metadata": {},
   "source": [
    "# `group_by()`\n",
    "\n",
    "*insert here*"
   ]
  },
  {
   "cell_type": "code",
   "execution_count": null,
   "id": "7a02691b",
   "metadata": {
    "vscode": {
     "languageId": "r"
    }
   },
   "outputs": [],
   "source": [
    "# create an environmental dataset (don't clear this!)\n",
    "df_env_long <- data.frame(\n",
    "    ecosystem = c(\"Forest\", \"Desert\", \"Wetland\", \"Grassland\", \"Urban\", \"Forest\", \"Desert\", \"Wetland\", \"Grassland\", \"Urban\"),\n",
    "    species_richness = c(120, 45, 80, 60, 30, 110, 50, 85, 65, 35),\n",
    "    pollution_level = c(\"Low\", \"High\", \"Medium\", \"Low\", \"High\", \"Low\", \"High\", \"Medium\", \"Low\", \"High\")\n",
    ")\n"
   ]
  },
  {
   "cell_type": "markdown",
   "id": "dc99f6a7",
   "metadata": {
    "vscode": {
     "languageId": "r"
    }
   },
   "source": [
    "# `summarise()` \n",
    "*insert here*"
   ]
  }
 ],
 "metadata": {
  "kernelspec": {
   "display_name": "R",
   "language": "R",
   "name": "ir"
  },
  "language_info": {
   "codemirror_mode": "r",
   "file_extension": ".r",
   "mimetype": "text/x-r-source",
   "name": "R",
   "pygments_lexer": "r",
   "version": "4.4.1"
  }
 },
 "nbformat": 4,
 "nbformat_minor": 5
}
