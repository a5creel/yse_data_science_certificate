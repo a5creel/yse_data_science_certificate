{
 "cells": [
  {
   "cell_type": "markdown",
   "metadata": {},
   "source": [
    "# Reading in a Dataset and Gathering Basic Information\n",
    " In this lecture, we will cover how to read in CSV data. CSVs store tabular data organized in rows and columns where, typically, each row is an observation and each column is a variable that you collected data on. The data frames that we've been building from scratch in lectures preceeding this one are in a tabular format.\n",
    " \n",
    " There are other common types of files:\n",
    " - Excel files (which are also tabular data)\n",
    " - Shapefiles (for geographic and spatial data)\n",
    " - Columnar files (similar to tabular data but more effiecent to store)\n",
    " \n",
    " These other files that can easily be worked with in R or Python. We will revist these file types later in this course. \n",
    " \n",
    " Today, after we read in our CSV, we will gather basic information about the dataset.  We will also discuss basic functions for inspecting dataset properties, dimensions, data types, and summary statistics. Additionally, we will introduce read-write functions, discuss the cost of holding data in RAM, checking resource allocation, and explore lazy load options. Finally, we will touch on the basics of data visualization.\n",
    " \n",
    "\n"
   ]
  },
  {
   "cell_type": "code",
   "execution_count": 1,
   "metadata": {
    "vscode": {
     "languageId": "r"
    }
   },
   "outputs": [],
   "source": [
    "# first, some quick housekeeping\n",
    "suppressPackageStartupMessages(library(dplyr))\n",
    "suppressPackageStartupMessages(library(readr))\n",
    "suppressPackageStartupMessages(library(vroom))\n",
    "suppressPackageStartupMessages(library(ggplot2))\n",
    "\n",
    "\n",
    "# install libraries if needed\n",
    "if (!require(dplyr)) install.packages(\"dplyr\")\n",
    "if (!require(readr)) install.packages(\"readr\")\n",
    "if (!require(vroom)) install.packages(\"vroom\")\n",
    "if (!require(ggplot2)) install.packages(\"ggplot2\")\n",
    "\n",
    "#load libraries that we will use today\n",
    "library(dplyr)\n",
    "library(readr)\n",
    "library(vroom)\n",
    "library(ggplot2)\n"
   ]
  },
  {
   "cell_type": "markdown",
   "metadata": {},
   "source": [
    "# Reading in CSV Data\n",
    "There are a million ways to read in CSVs. Let's talk about a few\n"
   ]
  },
  {
   "cell_type": "code",
   "execution_count": 2,
   "metadata": {
    "vscode": {
     "languageId": "r"
    }
   },
   "outputs": [],
   "source": [
    "# -------------------------------------------------------------------------\n",
    "# Base r\n",
    "# Pro: no need to load package\n",
    "# Con: less efficient, slower, and worse at getting variable types right\n",
    "# Use case: when you have a small and simple data set\n",
    "# -------------------------------------------------------------------------\n"
   ]
  },
  {
   "cell_type": "code",
   "execution_count": 3,
   "metadata": {
    "vscode": {
     "languageId": "r"
    }
   },
   "outputs": [],
   "source": [
    "# -------------------------------------------------------------------------\n",
    "# Tidyverse package: readr\n",
    "# Pro: faster, intuitive at predicting variables types\n",
    "# Con: Requires a package\n",
    "# Use case: almost all the time\n",
    "# let's call this one df because we will work with this object today\n",
    "# -------------------------------------------------------------------------\n"
   ]
  },
  {
   "cell_type": "code",
   "execution_count": 4,
   "metadata": {
    "vscode": {
     "languageId": "r"
    }
   },
   "outputs": [],
   "source": [
    "# -------------------------------------------------------------------------\n",
    "# Another package: vroom\n",
    "# Pro: excellent for big data\n",
    "# Con: a bit clunkier than readr\n",
    "# Use case: big data\n",
    "# -------------------------------------------------------------------------\n"
   ]
  },
  {
   "cell_type": "markdown",
   "metadata": {},
   "source": [
    "### In case of emergency \n",
    "If you were unable to read in the csv using the methods above, uncomment the following line so that you can continue following along. "
   ]
  },
  {
   "cell_type": "code",
   "execution_count": 5,
   "metadata": {
    "vscode": {
     "languageId": "r"
    }
   },
   "outputs": [],
   "source": [
    "df <- ggplot2::mpg"
   ]
  },
  {
   "cell_type": "markdown",
   "metadata": {},
   "source": [
    "# A note on big data \n",
    "Sometimes, datasets are too large to fit into the working memory of your computer. In such cases, loading the entire dataset at once can be impractical or impossible. This is where load dataset functions come in handy. These functions allow you to read in data in chunks or use lazy loading techniques, which means that data is only read into memory when it is actually needed. This approach helps in managing memory usage efficiently and enables you to work with large datasets without running into memory issues. \n",
    "\n",
    "This will be discussed in detail later in the class. But it's worth being aware that your computer has working memory constraints. There are packages out there specifically designed to get around this. For example, the arrow package in R allows you to work with large datasets efficiently by enabling you to `filter()` data and `select()` variables before loading it into memory. This can be particularly useful when working with large datasets that do not fit into memory. You can use the `open_dataset()` function from `arrow` to open a dataset and apply filters before reading it into memory. This function supports various file formats, including CSV, Parquet (columnar), and Feather.\n",
    "\n",
    "But, for now, just know these constraints and solutions exist!"
   ]
  },
  {
   "cell_type": "markdown",
   "metadata": {},
   "source": [
    "# Getting basic info about the data frame \n",
    "\n",
    "Here are some good ways to get basic information about a dataframe in R:\n",
    "\n",
    "- `head()`: Displays the first few rows of the dataframe.\n",
    "- `tail()`: Displays the last few rows of the dataframe.\n",
    "- `dim()`: Returns the dimensions of the dataframe (number of rows and columns).\n",
    "- `nrow()`: Returns the number of rows in the dataframe.\n",
    "- `ncol()`: Returns the number of columns in the dataframe.\n",
    "- `names()`: Returns the column names of the dataframe.\n",
    "- `str()`: Displays the structure of the dataframe, including data types and a preview of the data.\n",
    "- `summary()`: Provides summary statistics for each column in the dataframe.\n",
    "- `glimpse()`: Similar to `str()`, but provides a more readable output (requires the dplyr package).\n",
    "\n",
    "Lets run a few of these"
   ]
  },
  {
   "cell_type": "code",
   "execution_count": 6,
   "metadata": {
    "vscode": {
     "languageId": "r"
    }
   },
   "outputs": [],
   "source": [
    "# Display the first few rows of the dataframe\n",
    "\n",
    "# Get the dimensions of the dataframe\n",
    "\n",
    "# Get the column names of the dataframe\n"
   ]
  },
  {
   "cell_type": "markdown",
   "metadata": {},
   "source": [
    "## `glimpse()`"
   ]
  },
  {
   "cell_type": "markdown",
   "metadata": {},
   "source": [
    "Later on in this course, we will learn how to use Graphical User Interfaces (GUI) to write scripts rather than using Jupyter Notebooks. Examples are R Studio of VSCode. In GUIs when you've got an object like a dataframe loaded you can \"investigate it\" using the GUI. For now, the `glimpse()` funciton is a really powerful way to get an idea of what your dataframe \"looks like\". "
   ]
  },
  {
   "cell_type": "code",
   "execution_count": 7,
   "metadata": {
    "vscode": {
     "languageId": "r"
    }
   },
   "outputs": [],
   "source": [
    "# take a glimpse of the dataframe\n"
   ]
  },
  {
   "cell_type": "markdown",
   "metadata": {},
   "source": [
    "## `summary()`\n",
    "The `summary()` function is another powerful way to get a quick statistical summary of the dataset, including measures such as mean, median, minimum, maximum, and quartiles for each numerical column. It is useful for quickly understanding the distribution and central tendency of the data, identifying potential outliers, and gaining insights into the overall structure of the dataset."
   ]
  },
  {
   "cell_type": "code",
   "execution_count": 8,
   "metadata": {
    "vscode": {
     "languageId": "r"
    }
   },
   "outputs": [],
   "source": [
    "# summary of the dataframe"
   ]
  },
  {
   "cell_type": "markdown",
   "metadata": {},
   "source": [
    "# Basic data visualization \n",
    "Another important way to understand your data is to visualize it. Later in this course, we will spend loads of time talking about best practices for data viz. But, we're going to introduce a few core concepts now. \n",
    "\n",
    "### Revisiting a data cleaning\n",
    "\n",
    "Before we make out plots, let's do some data cleaning again. Remember that the variables you do or don't need should be informed by your research question or objective."
   ]
  },
  {
   "cell_type": "code",
   "execution_count": 9,
   "metadata": {
    "vscode": {
     "languageId": "r"
    }
   },
   "outputs": [],
   "source": [
    "# -------------------------------------------------------------------------\n",
    "# clean data:\n",
    "# -------------------------------------------------------------------------\n"
   ]
  },
  {
   "cell_type": "code",
   "execution_count": 10,
   "metadata": {
    "vscode": {
     "languageId": "r"
    }
   },
   "outputs": [],
   "source": [
    "# -------------------------------------------------------------------------\n",
    "# Histogram -- the distribution of a single numerical variable: geom_histogram()\n",
    "# -------------------------------------------------------------------------\n",
    "\n"
   ]
  },
  {
   "cell_type": "code",
   "execution_count": 11,
   "metadata": {
    "vscode": {
     "languageId": "r"
    }
   },
   "outputs": [],
   "source": [
    "# -------------------------------------------------------------------------\n",
    "# Box plot -- continuous variable for different categories: geom_boxplot()\n",
    "# cyl: number of cylinders\n",
    "# -------------------------------------------------------------------------\n"
   ]
  },
  {
   "cell_type": "code",
   "execution_count": 12,
   "metadata": {
    "vscode": {
     "languageId": "r"
    }
   },
   "outputs": [],
   "source": [
    "# -------------------------------------------------------------------------\n",
    "# Bar chart -- count of observations in different categories: geom_bar()\n",
    "# -------------------------------------------------------------------------\n"
   ]
  },
  {
   "cell_type": "code",
   "execution_count": 13,
   "metadata": {
    "vscode": {
     "languageId": "r"
    }
   },
   "outputs": [],
   "source": [
    "# -------------------------------------------------------------------------\n",
    "# Scatter plot -- two continuous variables: geom_point()\n",
    "# hwy: highway miles per gallon\n",
    "# displ: engine displacement which is approx. engine size\n",
    "# -------------------------------------------------------------------------\n"
   ]
  },
  {
   "cell_type": "code",
   "execution_count": 14,
   "metadata": {
    "vscode": {
     "languageId": "r"
    }
   },
   "outputs": [],
   "source": [
    "# Third color axis: groups that you want shown in different colors.\n"
   ]
  },
  {
   "cell_type": "code",
   "execution_count": 15,
   "metadata": {
    "vscode": {
     "languageId": "r"
    }
   },
   "outputs": [],
   "source": [
    "# -------------------------------------------------------------------------\n",
    "# Multiple plots -- same graph for different categories: facet_wrap()\n",
    "# - same information as the last chart with the color\n",
    "# -------------------------------------------------------------------------\n"
   ]
  }
 ],
 "metadata": {
  "kernelspec": {
   "display_name": "R",
   "language": "R",
   "name": "ir"
  },
  "language_info": {
   "codemirror_mode": "r",
   "file_extension": ".r",
   "mimetype": "text/x-r-source",
   "name": "R",
   "pygments_lexer": "r",
   "version": "4.4.1"
  }
 },
 "nbformat": 4,
 "nbformat_minor": 2
}
