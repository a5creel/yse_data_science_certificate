{
 "cells": [
  {
   "cell_type": "markdown",
   "metadata": {},
   "source": [
    "# Reading in a Dataset and Gathering Basic Information\n",
    "In this lecture, we will cover how to read in CSV data. CSVs store tabular data organized in rows and columns where, typically, each row is an observation and each column is a variable that you collected data on. The data frames that we've been building from scratch in lectures preceding this one are in a tabular format.\n",
    "\n",
    "There are other common types of files:\n",
    "- Excel files (which are also tabular data)\n",
    "- Shapefiles (for geographic and spatial data)\n",
    "- Columnar files (similar to tabular data but more efficient to store)\n",
    "\n",
    "These other files can easily be worked with in R or Python. We will revisit these file types later in this course.\n",
    "\n",
    "Today, after we read in our CSV, we will gather basic information about the dataset. We will also discuss basic functions for inspecting dataset properties, dimensions, data types, and summary statistics. Additionally, we will introduce read-write functions, discuss the cost of holding data in RAM, checking resource allocation, and explore lazy load options. \n"
   ]
  },
  {
   "cell_type": "code",
   "execution_count": 1,
   "metadata": {
    "vscode": {
     "languageId": "r"
    }
   },
   "outputs": [],
   "source": [
    "# first, some quick housekeeping\n",
    "suppressPackageStartupMessages(library(dplyr))\n",
    "suppressPackageStartupMessages(library(readr))\n",
    "suppressPackageStartupMessages(library(vroom))\n",
    "suppressPackageStartupMessages(library(ggplot2))\n",
    "\n",
    "\n",
    "# install libraries if needed\n",
    "if (!require(dplyr)) install.packages(\"dplyr\")\n",
    "if (!require(readr)) install.packages(\"readr\")\n",
    "if (!require(vroom)) install.packages(\"vroom\")\n",
    "if (!require(ggplot2)) install.packages(\"ggplot2\")\n",
    "\n",
    "#load libraries that we will use today\n",
    "library(dplyr)\n",
    "library(readr)\n",
    "library(vroom)\n",
    "library(ggplot2)\n"
   ]
  },
  {
   "cell_type": "markdown",
   "metadata": {},
   "source": [
    "# Reading in CSV Data\n",
    "There are a million ways to read in CSVs. Let's talk about a few\n",
    "\n",
    "*insert here*"
   ]
  },
  {
   "cell_type": "code",
   "execution_count": null,
   "metadata": {
    "vscode": {
     "languageId": "r"
    }
   },
   "outputs": [],
   "source": [
    "# in case of emergency with loading csv, uncomment the following line and run it\n",
    "# df <- ggplot2::mpg"
   ]
  },
  {
   "cell_type": "markdown",
   "metadata": {},
   "source": [
    "# Getting basic info about the data frame \n",
    "\n",
    "Here are some good ways to get basic information about a dataframe in R:\n",
    "\n",
    "- `head()`: Displays the first few rows of the dataframe.\n",
    "- `tail()`: Displays the last few rows of the dataframe.\n",
    "- `dim()`: Returns the dimensions of the dataframe (number of rows and columns).\n",
    "- `nrow()`: Returns the number of rows in the dataframe.\n",
    "- `ncol()`: Returns the number of columns in the dataframe.\n",
    "- `names()`: Returns the column names of the dataframe.\n",
    "- `str()`: Displays the structure of the dataframe, including data types and a preview of the data.\n",
    "- `summary()`: Provides summary statistics for each column in the dataframe.\n",
    "- `glimpse()`: Similar to `str()`, but provides a more readable output (requires the dplyr package).\n",
    "\n",
    "Lets run a few of these\n",
    "\n",
    "*insert here*"
   ]
  }
 ],
 "metadata": {
  "kernelspec": {
   "display_name": "R",
   "language": "R",
   "name": "ir"
  },
  "language_info": {
   "codemirror_mode": "r",
   "file_extension": ".r",
   "mimetype": "text/x-r-source",
   "name": "R",
   "pygments_lexer": "r",
   "version": "4.4.1"
  }
 },
 "nbformat": 4,
 "nbformat_minor": 2
}
