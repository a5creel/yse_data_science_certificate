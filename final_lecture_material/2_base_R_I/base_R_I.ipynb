{
 "cells": [
  {
   "cell_type": "markdown",
   "id": "c41deddd",
   "metadata": {},
   "source": [
    "# Base R Part 1\n",
    "This is a Jupyter Notebook. Essentially, this is a file where you can both write text (like this) and code (as you will see below). The goal of this lecture is to get you comfortable with basic commands in the R programming language, which we will call R for short.\n"
   ]
  },
  {
   "cell_type": "markdown",
   "id": "09e98073",
   "metadata": {},
   "source": [
    "# Comments and Basic Data Types\n",
    "In this first section, we will discuss writing comments and learn about basic data types (numeric, logical, character, boolean).\n"
   ]
  },
  {
   "cell_type": "code",
   "execution_count": 1,
   "id": "7644f454",
   "metadata": {
    "vscode": {
     "languageId": "r"
    }
   },
   "outputs": [],
   "source": [
    "# This is a comment, you can use '#' to write notes to yourself in your code\n",
    "# - Comments can make or break good coders\n",
    "# - Good comments also create coders who can collaborate with others\n",
    "# - If you ever think you're writing \"too\" many comments, you are not\n",
    "# - The things you think are obvious in your code won't be to others\n",
    "# - (nor yourself in a year when you get back to a project)"
   ]
  },
  {
   "cell_type": "code",
   "execution_count": 2,
   "id": "22ad6332",
   "metadata": {
    "vscode": {
     "languageId": "r"
    }
   },
   "outputs": [
    {
     "name": "stdout",
     "output_type": "stream",
     "text": [
      "[1] \"Hello, World!\"\n"
     ]
    }
   ],
   "source": [
    "# Comments are written in the same spot as code\n",
    "# But they are ignored by the computer\n",
    "\n",
    "# Let's run some code\n",
    "print(\"Hello, World!\")\n"
   ]
  },
  {
   "cell_type": "markdown",
   "id": "0f6e26b0",
   "metadata": {},
   "source": [
    "Congrats! You just ran your first line of code and joined the thousands of people whose first line of code was \"Hello, World!\" as well. Welcome to the tradition. \n",
    "\n",
    "Let's now run our first operation. "
   ]
  },
  {
   "cell_type": "code",
   "execution_count": 3,
   "id": "bb0ed3e2",
   "metadata": {
    "vscode": {
     "languageId": "r"
    }
   },
   "outputs": [
    {
     "data": {
      "text/html": [
       "5"
      ],
      "text/latex": [
       "5"
      ],
      "text/markdown": [
       "5"
      ],
      "text/plain": [
       "[1] 5"
      ]
     },
     "metadata": {},
     "output_type": "display_data"
    }
   ],
   "source": [
    "2 + 3"
   ]
  },
  {
   "cell_type": "markdown",
   "id": "39ab9732",
   "metadata": {},
   "source": [
    "We can see below our code block that the code block \"returned\" 5. This means that the computer \"executed\" the line of code `2 + 3`. \n",
    "\n",
    "Now, let's create a variable and store a value in it. Creating variables is a core piece of programming. "
   ]
  },
  {
   "cell_type": "code",
   "execution_count": 4,
   "id": "05d64105",
   "metadata": {
    "vscode": {
     "languageId": "r"
    }
   },
   "outputs": [
    {
     "data": {
      "text/html": [
       "5"
      ],
      "text/latex": [
       "5"
      ],
      "text/markdown": [
       "5"
      ],
      "text/plain": [
       "[1] 5"
      ]
     },
     "metadata": {},
     "output_type": "display_data"
    }
   ],
   "source": [
    "# in R, we assign a value to a variable with the following arrow symbol: <-\n",
    "a <- 2\n",
    "b <- 3\n",
    "\n",
    "a + b\n"
   ]
  },
  {
   "cell_type": "code",
   "execution_count": 5,
   "id": "c727e7cd",
   "metadata": {
    "vscode": {
     "languageId": "r"
    }
   },
   "outputs": [
    {
     "data": {
      "text/html": [
       "9"
      ],
      "text/latex": [
       "9"
      ],
      "text/markdown": [
       "9"
      ],
      "text/plain": [
       "[1] 9"
      ]
     },
     "metadata": {},
     "output_type": "display_data"
    }
   ],
   "source": [
    "# The nice thing about a variable is that we can change the value assigned\n",
    "\n",
    "# Let's change the value of our variable a\n",
    "a <- 6\n",
    "\n",
    "a + b"
   ]
  },
  {
   "cell_type": "markdown",
   "id": "223202de",
   "metadata": {},
   "source": [
    "Let's now discuss some basic data types. "
   ]
  },
  {
   "cell_type": "code",
   "execution_count": 6,
   "id": "5b97b8fe",
   "metadata": {
    "vscode": {
     "languageId": "r"
    }
   },
   "outputs": [
    {
     "data": {
      "text/html": [
       "1"
      ],
      "text/latex": [
       "1"
      ],
      "text/markdown": [
       "1"
      ],
      "text/plain": [
       "[1] 1"
      ]
     },
     "metadata": {},
     "output_type": "display_data"
    },
    {
     "data": {
      "text/html": [
       "2.4"
      ],
      "text/latex": [
       "2.4"
      ],
      "text/markdown": [
       "2.4"
      ],
      "text/plain": [
       "[1] 2.4"
      ]
     },
     "metadata": {},
     "output_type": "display_data"
    }
   ],
   "source": [
    "# Numeric -- integer: no decimal points\n",
    "myInt <- 1\n",
    "myInt\n",
    "\n",
    "# Numeric -- double/float: decimal points\n",
    "myNum <- 2.4\n",
    "myNum"
   ]
  },
  {
   "cell_type": "code",
   "execution_count": 7,
   "id": "2f53f00a",
   "metadata": {
    "vscode": {
     "languageId": "r"
    }
   },
   "outputs": [
    {
     "data": {
      "text/html": [
       "'a'"
      ],
      "text/latex": [
       "'a'"
      ],
      "text/markdown": [
       "'a'"
      ],
      "text/plain": [
       "[1] \"a\""
      ]
     },
     "metadata": {},
     "output_type": "display_data"
    },
    {
     "data": {
      "text/html": [
       "'b'"
      ],
      "text/latex": [
       "'b'"
      ],
      "text/markdown": [
       "'b'"
      ],
      "text/plain": [
       "[1] \"b\""
      ]
     },
     "metadata": {},
     "output_type": "display_data"
    }
   ],
   "source": [
    "# character (string)\n",
    "myChar_a <- \"a\"\n",
    "myChar_a\n",
    "\n",
    "myChar_b <- 'b'\n",
    "myChar_b"
   ]
  },
  {
   "cell_type": "code",
   "execution_count": 8,
   "id": "9e5f855d",
   "metadata": {
    "vscode": {
     "languageId": "r"
    }
   },
   "outputs": [
    {
     "data": {
      "text/html": [
       "'1'"
      ],
      "text/latex": [
       "'1'"
      ],
      "text/markdown": [
       "'1'"
      ],
      "text/plain": [
       "[1] \"1\""
      ]
     },
     "metadata": {},
     "output_type": "display_data"
    }
   ],
   "source": [
    "# You can have a variable that stores a character value,\n",
    "# but the character value is a number\n",
    "\n",
    "trick_q <- \"1\"\n",
    "trick_q"
   ]
  },
  {
   "cell_type": "markdown",
   "id": "6b8864c6",
   "metadata": {},
   "source": [
    "Notice that the `'1'` has quotation marks around it, as the `'a'` and `'b'` did. This indicates to us that it is a character data type. When you look at the output of `myInt`, it also returns `1` but without the quotation marks because `myInt` is a numeric variable and `trick_q` is a character (or string) variable.\n"
   ]
  },
  {
   "cell_type": "code",
   "execution_count": 9,
   "id": "aaa4e939",
   "metadata": {
    "vscode": {
     "languageId": "r"
    }
   },
   "outputs": [
    {
     "data": {
      "text/html": [
       "TRUE"
      ],
      "text/latex": [
       "TRUE"
      ],
      "text/markdown": [
       "TRUE"
      ],
      "text/plain": [
       "[1] TRUE"
      ]
     },
     "metadata": {},
     "output_type": "display_data"
    },
    {
     "data": {
      "text/html": [
       "FALSE"
      ],
      "text/latex": [
       "FALSE"
      ],
      "text/markdown": [
       "FALSE"
      ],
      "text/plain": [
       "[1] FALSE"
      ]
     },
     "metadata": {},
     "output_type": "display_data"
    }
   ],
   "source": [
    "# logical (Boolean/Indicator variable): a true/false statement. \n",
    "# Use () to evaluate if something is true or false\n",
    "myBool_1 <- (3 < 4)\n",
    "myBool_1\n",
    "\n",
    "myBool_2 <- (3 > 4)\n",
    "myBool_2"
   ]
  },
  {
   "cell_type": "markdown",
   "id": "c3781db2",
   "metadata": {},
   "source": [
    "## Ways to store data types \n"
   ]
  },
  {
   "cell_type": "code",
   "execution_count": 10,
   "id": "f85d8757",
   "metadata": {
    "vscode": {
     "languageId": "r"
    }
   },
   "outputs": [
    {
     "data": {
      "text/html": [
       "<style>\n",
       ".list-inline {list-style: none; margin:0; padding: 0}\n",
       ".list-inline>li {display: inline-block}\n",
       ".list-inline>li:not(:last-child)::after {content: \"\\00b7\"; padding: 0 .5ex}\n",
       "</style>\n",
       "<ol class=list-inline><li>1</li><li>2</li><li>3</li><li>4</li><li>5</li></ol>\n"
      ],
      "text/latex": [
       "\\begin{enumerate*}\n",
       "\\item 1\n",
       "\\item 2\n",
       "\\item 3\n",
       "\\item 4\n",
       "\\item 5\n",
       "\\end{enumerate*}\n"
      ],
      "text/markdown": [
       "1. 1\n",
       "2. 2\n",
       "3. 3\n",
       "4. 4\n",
       "5. 5\n",
       "\n",
       "\n"
      ],
      "text/plain": [
       "[1] 1 2 3 4 5"
      ]
     },
     "metadata": {},
     "output_type": "display_data"
    },
    {
     "data": {
      "text/html": [
       "<style>\n",
       ".list-inline {list-style: none; margin:0; padding: 0}\n",
       ".list-inline>li {display: inline-block}\n",
       ".list-inline>li:not(:last-child)::after {content: \"\\00b7\"; padding: 0 .5ex}\n",
       "</style>\n",
       "<ol class=list-inline><li>'a'</li><li>'b'</li><li>'c'</li></ol>\n"
      ],
      "text/latex": [
       "\\begin{enumerate*}\n",
       "\\item 'a'\n",
       "\\item 'b'\n",
       "\\item 'c'\n",
       "\\end{enumerate*}\n"
      ],
      "text/markdown": [
       "1. 'a'\n",
       "2. 'b'\n",
       "3. 'c'\n",
       "\n",
       "\n"
      ],
      "text/plain": [
       "[1] \"a\" \"b\" \"c\""
      ]
     },
     "metadata": {},
     "output_type": "display_data"
    },
    {
     "data": {
      "text/html": [
       "<style>\n",
       ".list-inline {list-style: none; margin:0; padding: 0}\n",
       ".list-inline>li {display: inline-block}\n",
       ".list-inline>li:not(:last-child)::after {content: \"\\00b7\"; padding: 0 .5ex}\n",
       "</style>\n",
       "<ol class=list-inline><li>'1'</li><li>'b'</li><li>'c'</li></ol>\n"
      ],
      "text/latex": [
       "\\begin{enumerate*}\n",
       "\\item '1'\n",
       "\\item 'b'\n",
       "\\item 'c'\n",
       "\\end{enumerate*}\n"
      ],
      "text/markdown": [
       "1. '1'\n",
       "2. 'b'\n",
       "3. 'c'\n",
       "\n",
       "\n"
      ],
      "text/plain": [
       "[1] \"1\" \"b\" \"c\""
      ]
     },
     "metadata": {},
     "output_type": "display_data"
    }
   ],
   "source": [
    "# Vector: can only be a vector of one data type (numeric, logical, string)\n",
    "\n",
    "# numeric vector\n",
    "myVec_n <- c(1, 2, 3, 4, 5)\n",
    "myVec_n\n",
    "\n",
    "# string vector\n",
    "myVec_s <- c(myChar_a, \"b\", \"c\")\n",
    "myVec_s\n",
    "\n",
    "# tricky! But a string  \n",
    "myVec_string <- c(1, \"b\", \"c\")\n",
    "myVec_string # notice the 1 has been made a character because of the \""
   ]
  },
  {
   "cell_type": "markdown",
   "id": "ea0670dd",
   "metadata": {},
   "source": [
    "Vectors are a useful way to store multiple observations. However, they only have a single column of information. In EDS, we are interested in relating different variables to one another (*i.e.,* How does temperature affect a lion's hunting success rate?)\n",
    "\n",
    "To relate multiple variables together, we need to make collections of data. The most basic way to do this is a **matrix**. "
   ]
  },
  {
   "cell_type": "code",
   "execution_count": 11,
   "id": "f58486da",
   "metadata": {
    "vscode": {
     "languageId": "r"
    }
   },
   "outputs": [
    {
     "data": {
      "text/html": [
       "<style>\n",
       ".list-inline {list-style: none; margin:0; padding: 0}\n",
       ".list-inline>li {display: inline-block}\n",
       ".list-inline>li:not(:last-child)::after {content: \"\\00b7\"; padding: 0 .5ex}\n",
       "</style>\n",
       "<ol class=list-inline><li>1</li><li>2</li><li>3</li><li>4</li><li>5</li></ol>\n"
      ],
      "text/latex": [
       "\\begin{enumerate*}\n",
       "\\item 1\n",
       "\\item 2\n",
       "\\item 3\n",
       "\\item 4\n",
       "\\item 5\n",
       "\\end{enumerate*}\n"
      ],
      "text/markdown": [
       "1. 1\n",
       "2. 2\n",
       "3. 3\n",
       "4. 4\n",
       "5. 5\n",
       "\n",
       "\n"
      ],
      "text/plain": [
       "[1] 1 2 3 4 5"
      ]
     },
     "metadata": {},
     "output_type": "display_data"
    },
    {
     "data": {
      "text/html": [
       "<table class=\"dataframe\">\n",
       "<caption>A matrix: 2 x 5 of type dbl</caption>\n",
       "<tbody>\n",
       "\t<tr><td>1</td><td>3</td><td>5</td><td>7</td><td> 9</td></tr>\n",
       "\t<tr><td>2</td><td>4</td><td>6</td><td>8</td><td>10</td></tr>\n",
       "</tbody>\n",
       "</table>\n"
      ],
      "text/latex": [
       "A matrix: 2 x 5 of type dbl\n",
       "\\begin{tabular}{lllll}\n",
       "\t 1 & 3 & 5 & 7 &  9\\\\\n",
       "\t 2 & 4 & 6 & 8 & 10\\\\\n",
       "\\end{tabular}\n"
      ],
      "text/markdown": [
       "\n",
       "A matrix: 2 x 5 of type dbl\n",
       "\n",
       "| 1 | 3 | 5 | 7 |  9 |\n",
       "| 2 | 4 | 6 | 8 | 10 |\n",
       "\n"
      ],
      "text/plain": [
       "     [,1] [,2] [,3] [,4] [,5]\n",
       "[1,] 1    3    5    7     9  \n",
       "[2,] 2    4    6    8    10  "
      ]
     },
     "metadata": {},
     "output_type": "display_data"
    }
   ],
   "source": [
    "# We already have a vector of numeric data\n",
    "myVec_n\n",
    "\n",
    "# Matrix: should only be a matrix of one data type\n",
    "myMat_n <- matrix(c(myVec_n, # first elements will come from our pre-existing vector\n",
    "                6, 7, 8, 9, 10),\n",
    "              nrow = 2,\n",
    "              ncol = 5)\n",
    "\n",
    "myMat_n"
   ]
  },
  {
   "cell_type": "markdown",
   "id": "0755d1a4",
   "metadata": {},
   "source": [
    "We can also collect objects in a \"list\". Lists are very powerful, but more advanced. For now, just know that they also exist. "
   ]
  },
  {
   "cell_type": "code",
   "execution_count": 12,
   "id": "a22a3412",
   "metadata": {
    "vscode": {
     "languageId": "r"
    }
   },
   "outputs": [
    {
     "data": {
      "text/html": [
       "2"
      ],
      "text/latex": [
       "2"
      ],
      "text/markdown": [
       "2"
      ],
      "text/plain": [
       "[1] 2"
      ]
     },
     "metadata": {},
     "output_type": "display_data"
    },
    {
     "data": {
      "text/html": [
       "'c'"
      ],
      "text/latex": [
       "'c'"
      ],
      "text/markdown": [
       "'c'"
      ],
      "text/plain": [
       "[1] \"c\""
      ]
     },
     "metadata": {},
     "output_type": "display_data"
    },
    {
     "data": {
      "text/html": [
       "<table class=\"dataframe\">\n",
       "<caption>A matrix: 2 x 5 of type dbl</caption>\n",
       "<tbody>\n",
       "\t<tr><td>1</td><td>3</td><td>5</td><td>7</td><td> 9</td></tr>\n",
       "\t<tr><td>2</td><td>4</td><td>6</td><td>8</td><td>10</td></tr>\n",
       "</tbody>\n",
       "</table>\n"
      ],
      "text/latex": [
       "A matrix: 2 x 5 of type dbl\n",
       "\\begin{tabular}{lllll}\n",
       "\t 1 & 3 & 5 & 7 &  9\\\\\n",
       "\t 2 & 4 & 6 & 8 & 10\\\\\n",
       "\\end{tabular}\n"
      ],
      "text/markdown": [
       "\n",
       "A matrix: 2 x 5 of type dbl\n",
       "\n",
       "| 1 | 3 | 5 | 7 |  9 |\n",
       "| 2 | 4 | 6 | 8 | 10 |\n",
       "\n"
      ],
      "text/plain": [
       "     [,1] [,2] [,3] [,4] [,5]\n",
       "[1,] 1    3    5    7     9  \n",
       "[2,] 2    4    6    8    10  "
      ]
     },
     "metadata": {},
     "output_type": "display_data"
    }
   ],
   "source": [
    "# Lists: Very powerful, but somewhat confusing. For now, just know they exist\n",
    "myList <- list(2, \"c\", myMat_n)\n",
    "myList[[1]] # returns numeric \n",
    "myList[[2]] # returns string\n",
    "myList[[3]] # returns matrix"
   ]
  },
  {
   "cell_type": "markdown",
   "id": "673b7715",
   "metadata": {},
   "source": [
    "## Data Frames\n",
    "\n",
    "- Like matrices\n",
    "- Can have different data types in each column\n",
    "- Reference specific columns using the \"$\" operator, followed by the name of the column\n",
    "- For the most part, you’ll be loading new data by reading a CSV \n",
    "- You might have to create one at some point\n",
    "- By looking at how they’re created we can get a better sense of what goes into them\n",
    "\n",
    "Let's convert our matrix into a data frame. \n"
   ]
  },
  {
   "cell_type": "code",
   "execution_count": 13,
   "id": "13b56bf7",
   "metadata": {
    "vscode": {
     "languageId": "r"
    }
   },
   "outputs": [
    {
     "data": {
      "text/html": [
       "<style>\n",
       ".list-inline {list-style: none; margin:0; padding: 0}\n",
       ".list-inline>li {display: inline-block}\n",
       ".list-inline>li:not(:last-child)::after {content: \"\\00b7\"; padding: 0 .5ex}\n",
       "</style>\n",
       "<ol class=list-inline><li>'V1'</li><li>'V2'</li><li>'V3'</li><li>'V4'</li><li>'V5'</li></ol>\n"
      ],
      "text/latex": [
       "\\begin{enumerate*}\n",
       "\\item 'V1'\n",
       "\\item 'V2'\n",
       "\\item 'V3'\n",
       "\\item 'V4'\n",
       "\\item 'V5'\n",
       "\\end{enumerate*}\n"
      ],
      "text/markdown": [
       "1. 'V1'\n",
       "2. 'V2'\n",
       "3. 'V3'\n",
       "4. 'V4'\n",
       "5. 'V5'\n",
       "\n",
       "\n"
      ],
      "text/plain": [
       "[1] \"V1\" \"V2\" \"V3\" \"V4\" \"V5\""
      ]
     },
     "metadata": {},
     "output_type": "display_data"
    }
   ],
   "source": [
    "# Data frame: can have multiple data types\n",
    "myDF <- as.data.frame(myMat_n)\n",
    "colnames(myDF) # print the column names"
   ]
  },
  {
   "cell_type": "markdown",
   "id": "4f053f6e",
   "metadata": {},
   "source": [
    "These column names don't mean anything to me. Let's assign some column names. Each column is a variable that you may have collected data. "
   ]
  },
  {
   "cell_type": "code",
   "execution_count": 14,
   "id": "4338cfe5",
   "metadata": {
    "vscode": {
     "languageId": "r"
    }
   },
   "outputs": [
    {
     "data": {
      "text/html": [
       "<style>\n",
       ".list-inline {list-style: none; margin:0; padding: 0}\n",
       ".list-inline>li {display: inline-block}\n",
       ".list-inline>li:not(:last-child)::after {content: \"\\00b7\"; padding: 0 .5ex}\n",
       "</style>\n",
       "<ol class=list-inline><li>'num_hunts'</li><li>'temp'</li><li>'num_adults'</li><li>'num_cubs'</li><li>'distance_from_road'</li></ol>\n"
      ],
      "text/latex": [
       "\\begin{enumerate*}\n",
       "\\item 'num\\_hunts'\n",
       "\\item 'temp'\n",
       "\\item 'num\\_adults'\n",
       "\\item 'num\\_cubs'\n",
       "\\item 'distance\\_from\\_road'\n",
       "\\end{enumerate*}\n"
      ],
      "text/markdown": [
       "1. 'num_hunts'\n",
       "2. 'temp'\n",
       "3. 'num_adults'\n",
       "4. 'num_cubs'\n",
       "5. 'distance_from_road'\n",
       "\n",
       "\n"
      ],
      "text/plain": [
       "[1] \"num_hunts\"          \"temp\"               \"num_adults\"        \n",
       "[4] \"num_cubs\"           \"distance_from_road\""
      ]
     },
     "metadata": {},
     "output_type": "display_data"
    }
   ],
   "source": [
    "colnames(myDF) <- c(\"num_hunts\", \"temp\", \"num_adults\", \"num_cubs\", \"distance_from_road\")\n",
    "colnames(myDF)\n"
   ]
  },
  {
   "cell_type": "markdown",
   "id": "a6f6c2a8",
   "metadata": {},
   "source": [
    "We can now look at a single column using the '$' operator. "
   ]
  },
  {
   "cell_type": "code",
   "execution_count": 15,
   "id": "b2f379ff",
   "metadata": {
    "vscode": {
     "languageId": "r"
    }
   },
   "outputs": [
    {
     "data": {
      "text/html": [
       "<style>\n",
       ".list-inline {list-style: none; margin:0; padding: 0}\n",
       ".list-inline>li {display: inline-block}\n",
       ".list-inline>li:not(:last-child)::after {content: \"\\00b7\"; padding: 0 .5ex}\n",
       "</style>\n",
       "<ol class=list-inline><li>5</li><li>6</li></ol>\n"
      ],
      "text/latex": [
       "\\begin{enumerate*}\n",
       "\\item 5\n",
       "\\item 6\n",
       "\\end{enumerate*}\n"
      ],
      "text/markdown": [
       "1. 5\n",
       "2. 6\n",
       "\n",
       "\n"
      ],
      "text/plain": [
       "[1] 5 6"
      ]
     },
     "metadata": {},
     "output_type": "display_data"
    }
   ],
   "source": [
    "# Investigate one column\n",
    "myDF$num_adults"
   ]
  },
  {
   "cell_type": "markdown",
   "id": "f21acd50",
   "metadata": {},
   "source": [
    "Let's create a new column. "
   ]
  },
  {
   "cell_type": "code",
   "execution_count": 16,
   "id": "e4cef2f1",
   "metadata": {
    "vscode": {
     "languageId": "r"
    }
   },
   "outputs": [
    {
     "data": {
      "text/html": [
       "<table class=\"dataframe\">\n",
       "<caption>A data.frame: 2 x 6</caption>\n",
       "<thead>\n",
       "\t<tr><th scope=col>num_hunts</th><th scope=col>temp</th><th scope=col>num_adults</th><th scope=col>num_cubs</th><th scope=col>distance_from_road</th><th scope=col>total_lions</th></tr>\n",
       "\t<tr><th scope=col>&lt;dbl&gt;</th><th scope=col>&lt;dbl&gt;</th><th scope=col>&lt;dbl&gt;</th><th scope=col>&lt;dbl&gt;</th><th scope=col>&lt;dbl&gt;</th><th scope=col>&lt;dbl&gt;</th></tr>\n",
       "</thead>\n",
       "<tbody>\n",
       "\t<tr><td>1</td><td>3</td><td>5</td><td>7</td><td> 9</td><td>12</td></tr>\n",
       "\t<tr><td>2</td><td>4</td><td>6</td><td>8</td><td>10</td><td>14</td></tr>\n",
       "</tbody>\n",
       "</table>\n"
      ],
      "text/latex": [
       "A data.frame: 2 x 6\n",
       "\\begin{tabular}{llllll}\n",
       " num\\_hunts & temp & num\\_adults & num\\_cubs & distance\\_from\\_road & total\\_lions\\\\\n",
       " <dbl> & <dbl> & <dbl> & <dbl> & <dbl> & <dbl>\\\\\n",
       "\\hline\n",
       "\t 1 & 3 & 5 & 7 &  9 & 12\\\\\n",
       "\t 2 & 4 & 6 & 8 & 10 & 14\\\\\n",
       "\\end{tabular}\n"
      ],
      "text/markdown": [
       "\n",
       "A data.frame: 2 x 6\n",
       "\n",
       "| num_hunts &lt;dbl&gt; | temp &lt;dbl&gt; | num_adults &lt;dbl&gt; | num_cubs &lt;dbl&gt; | distance_from_road &lt;dbl&gt; | total_lions &lt;dbl&gt; |\n",
       "|---|---|---|---|---|---|\n",
       "| 1 | 3 | 5 | 7 |  9 | 12 |\n",
       "| 2 | 4 | 6 | 8 | 10 | 14 |\n",
       "\n"
      ],
      "text/plain": [
       "  num_hunts temp num_adults num_cubs distance_from_road total_lions\n",
       "1 1         3    5          7         9                 12         \n",
       "2 2         4    6          8        10                 14         "
      ]
     },
     "metadata": {},
     "output_type": "display_data"
    }
   ],
   "source": [
    "# Create a new column\n",
    "myDF$total_lions <- myDF$num_adults + myDF$num_cubs\n",
    "myDF"
   ]
  },
  {
   "cell_type": "markdown",
   "id": "1e0d0bb3",
   "metadata": {},
   "source": [
    "Let's build a dataframe with multiple datatypes. (Our lion dataframe is only numeric columns)."
   ]
  },
  {
   "cell_type": "code",
   "execution_count": 17,
   "id": "bff83cfe",
   "metadata": {
    "vscode": {
     "languageId": "r"
    }
   },
   "outputs": [
    {
     "data": {
      "text/html": [
       "<table class=\"dataframe\">\n",
       "<caption>A data.frame: 3 x 5</caption>\n",
       "<thead>\n",
       "\t<tr><th scope=col>name</th><th scope=col>gender</th><th scope=col>male</th><th scope=col>income_cat</th><th scope=col>park_dist_mi</th></tr>\n",
       "\t<tr><th scope=col>&lt;chr&gt;</th><th scope=col>&lt;chr&gt;</th><th scope=col>&lt;lgl&gt;</th><th scope=col>&lt;chr&gt;</th><th scope=col>&lt;dbl&gt;</th></tr>\n",
       "</thead>\n",
       "<tbody>\n",
       "\t<tr><td>Andie</td><td>Female    </td><td>FALSE</td><td>middle</td><td>1.0</td></tr>\n",
       "\t<tr><td>Sam  </td><td>non-binary</td><td>FALSE</td><td>poor  </td><td>0.5</td></tr>\n",
       "\t<tr><td>Bill </td><td>Male      </td><td> TRUE</td><td>rich  </td><td>0.1</td></tr>\n",
       "</tbody>\n",
       "</table>\n"
      ],
      "text/latex": [
       "A data.frame: 3 x 5\n",
       "\\begin{tabular}{lllll}\n",
       " name & gender & male & income\\_cat & park\\_dist\\_mi\\\\\n",
       " <chr> & <chr> & <lgl> & <chr> & <dbl>\\\\\n",
       "\\hline\n",
       "\t Andie & Female     & FALSE & middle & 1.0\\\\\n",
       "\t Sam   & non-binary & FALSE & poor   & 0.5\\\\\n",
       "\t Bill  & Male       &  TRUE & rich   & 0.1\\\\\n",
       "\\end{tabular}\n"
      ],
      "text/markdown": [
       "\n",
       "A data.frame: 3 x 5\n",
       "\n",
       "| name &lt;chr&gt; | gender &lt;chr&gt; | male &lt;lgl&gt; | income_cat &lt;chr&gt; | park_dist_mi &lt;dbl&gt; |\n",
       "|---|---|---|---|---|\n",
       "| Andie | Female     | FALSE | middle | 1.0 |\n",
       "| Sam   | non-binary | FALSE | poor   | 0.5 |\n",
       "| Bill  | Male       |  TRUE | rich   | 0.1 |\n",
       "\n"
      ],
      "text/plain": [
       "  name  gender     male  income_cat park_dist_mi\n",
       "1 Andie Female     FALSE middle     1.0         \n",
       "2 Sam   non-binary FALSE poor       0.5         \n",
       "3 Bill  Male        TRUE rich       0.1         "
      ]
     },
     "metadata": {},
     "output_type": "display_data"
    }
   ],
   "source": [
    "# Create the data frame\n",
    "myPpl <- data.frame(\n",
    "   name = c(\"Andie\", \"Sam\", \"Bill\"),\n",
    "   gender = c(\"Female\", \"non-binary\", \"Male\"),\n",
    "   male = c(FALSE, FALSE, TRUE),\n",
    "   income_cat = c(\"middle\", \"poor\", \"rich\"),\n",
    "   park_dist_mi = c(1, 0.5, 0.1)\n",
    ")\n",
    "myPpl\n"
   ]
  },
  {
   "cell_type": "markdown",
   "id": "e64e1d88",
   "metadata": {},
   "source": [
    "Now that we have our dataframe built, we can reference columns in the data frame.\n",
    "\n",
    "First, there are multiple ways to reference a column. The first is to reference by the column name."
   ]
  },
  {
   "cell_type": "code",
   "execution_count": 18,
   "id": "52115347",
   "metadata": {
    "vscode": {
     "languageId": "r"
    }
   },
   "outputs": [
    {
     "data": {
      "text/html": [
       "<style>\n",
       ".list-inline {list-style: none; margin:0; padding: 0}\n",
       ".list-inline>li {display: inline-block}\n",
       ".list-inline>li:not(:last-child)::after {content: \"\\00b7\"; padding: 0 .5ex}\n",
       "</style>\n",
       "<ol class=list-inline><li>'Andie'</li><li>'Sam'</li><li>'Bill'</li></ol>\n"
      ],
      "text/latex": [
       "\\begin{enumerate*}\n",
       "\\item 'Andie'\n",
       "\\item 'Sam'\n",
       "\\item 'Bill'\n",
       "\\end{enumerate*}\n"
      ],
      "text/markdown": [
       "1. 'Andie'\n",
       "2. 'Sam'\n",
       "3. 'Bill'\n",
       "\n",
       "\n"
      ],
      "text/plain": [
       "[1] \"Andie\" \"Sam\"   \"Bill\" "
      ]
     },
     "metadata": {},
     "output_type": "display_data"
    }
   ],
   "source": [
    "# Try referencing one column\n",
    "myPpl$name # version 1"
   ]
  },
  {
   "cell_type": "markdown",
   "id": "641ebc58",
   "metadata": {},
   "source": [
    "The second is the column number in the data frame using square bracket notation `[row, column]`"
   ]
  },
  {
   "cell_type": "code",
   "execution_count": 19,
   "id": "e4f7e2ce",
   "metadata": {
    "vscode": {
     "languageId": "r"
    }
   },
   "outputs": [
    {
     "data": {
      "text/html": [
       "<style>\n",
       ".list-inline {list-style: none; margin:0; padding: 0}\n",
       ".list-inline>li {display: inline-block}\n",
       ".list-inline>li:not(:last-child)::after {content: \"\\00b7\"; padding: 0 .5ex}\n",
       "</style>\n",
       "<ol class=list-inline><li>'Andie'</li><li>'Sam'</li><li>'Bill'</li></ol>\n"
      ],
      "text/latex": [
       "\\begin{enumerate*}\n",
       "\\item 'Andie'\n",
       "\\item 'Sam'\n",
       "\\item 'Bill'\n",
       "\\end{enumerate*}\n"
      ],
      "text/markdown": [
       "1. 'Andie'\n",
       "2. 'Sam'\n",
       "3. 'Bill'\n",
       "\n",
       "\n"
      ],
      "text/plain": [
       "[1] \"Andie\" \"Sam\"   \"Bill\" "
      ]
     },
     "metadata": {},
     "output_type": "display_data"
    }
   ],
   "source": [
    "myPpl[, 1] # version 2\n"
   ]
  },
  {
   "cell_type": "markdown",
   "id": "8c0cc52b",
   "metadata": {},
   "source": [
    "We can also reference a single row, instead of a column. "
   ]
  },
  {
   "cell_type": "code",
   "execution_count": 20,
   "id": "09853d13",
   "metadata": {
    "vscode": {
     "languageId": "r"
    }
   },
   "outputs": [
    {
     "data": {
      "text/html": [
       "<table class=\"dataframe\">\n",
       "<caption>A data.frame: 1 x 5</caption>\n",
       "<thead>\n",
       "\t<tr><th></th><th scope=col>name</th><th scope=col>gender</th><th scope=col>male</th><th scope=col>income_cat</th><th scope=col>park_dist_mi</th></tr>\n",
       "\t<tr><th></th><th scope=col>&lt;chr&gt;</th><th scope=col>&lt;chr&gt;</th><th scope=col>&lt;lgl&gt;</th><th scope=col>&lt;chr&gt;</th><th scope=col>&lt;dbl&gt;</th></tr>\n",
       "</thead>\n",
       "<tbody>\n",
       "\t<tr><th scope=row>1</th><td>Andie</td><td>Female</td><td>FALSE</td><td>middle</td><td>1</td></tr>\n",
       "</tbody>\n",
       "</table>\n"
      ],
      "text/latex": [
       "A data.frame: 1 x 5\n",
       "\\begin{tabular}{r|lllll}\n",
       "  & name & gender & male & income\\_cat & park\\_dist\\_mi\\\\\n",
       "  & <chr> & <chr> & <lgl> & <chr> & <dbl>\\\\\n",
       "\\hline\n",
       "\t1 & Andie & Female & FALSE & middle & 1\\\\\n",
       "\\end{tabular}\n"
      ],
      "text/markdown": [
       "\n",
       "A data.frame: 1 x 5\n",
       "\n",
       "| <!--/--> | name &lt;chr&gt; | gender &lt;chr&gt; | male &lt;lgl&gt; | income_cat &lt;chr&gt; | park_dist_mi &lt;dbl&gt; |\n",
       "|---|---|---|---|---|---|\n",
       "| 1 | Andie | Female | FALSE | middle | 1 |\n",
       "\n"
      ],
      "text/plain": [
       "  name  gender male  income_cat park_dist_mi\n",
       "1 Andie Female FALSE middle     1           "
      ]
     },
     "metadata": {},
     "output_type": "display_data"
    }
   ],
   "source": [
    "# Try referencing one row\n",
    "myPpl[1, ]"
   ]
  },
  {
   "cell_type": "markdown",
   "id": "7d15782b",
   "metadata": {},
   "source": [
    "Finally, let's try to reference a single cell. Like referencing columns, there are two ways to do this. "
   ]
  },
  {
   "cell_type": "code",
   "execution_count": 21,
   "id": "eb007aa0",
   "metadata": {
    "vscode": {
     "languageId": "r"
    }
   },
   "outputs": [
    {
     "data": {
      "text/html": [
       "'Sam'"
      ],
      "text/latex": [
       "'Sam'"
      ],
      "text/markdown": [
       "'Sam'"
      ],
      "text/plain": [
       "[1] \"Sam\""
      ]
     },
     "metadata": {},
     "output_type": "display_data"
    }
   ],
   "source": [
    "# Try referencing one cell\n",
    "myPpl$name[2] # version 1: combination of $ and []"
   ]
  },
  {
   "cell_type": "code",
   "execution_count": 22,
   "id": "94b122a9",
   "metadata": {
    "vscode": {
     "languageId": "r"
    }
   },
   "outputs": [
    {
     "data": {
      "text/html": [
       "'Sam'"
      ],
      "text/latex": [
       "'Sam'"
      ],
      "text/markdown": [
       "'Sam'"
      ],
      "text/plain": [
       "[1] \"Sam\""
      ]
     },
     "metadata": {},
     "output_type": "display_data"
    }
   ],
   "source": [
    "myPpl[2, 1] # version 2"
   ]
  },
  {
   "cell_type": "markdown",
   "id": "3c92e558",
   "metadata": {},
   "source": [
    "# A word of caution \n",
    "\n",
    "- Make sure you don't overwrite your variables by accident. \n"
   ]
  },
  {
   "cell_type": "code",
   "execution_count": 23,
   "id": "a51cd9b1",
   "metadata": {
    "vscode": {
     "languageId": "r"
    }
   },
   "outputs": [
    {
     "data": {
      "text/html": [
       "6"
      ],
      "text/latex": [
       "6"
      ],
      "text/markdown": [
       "6"
      ],
      "text/plain": [
       "[1] 6"
      ]
     },
     "metadata": {},
     "output_type": "display_data"
    },
    {
     "data": {
      "text/html": [
       "6"
      ],
      "text/latex": [
       "6"
      ],
      "text/markdown": [
       "6"
      ],
      "text/plain": [
       "[1] 6"
      ]
     },
     "metadata": {},
     "output_type": "display_data"
    }
   ],
   "source": [
    "# Assigning new value to same variable (something to do carefully)\n",
    "a <- 5\n",
    "a <- a + 1 # If you run this line more than once, you will NOT get six\n",
    "a\n",
    "\n",
    "# Assigning new value to new variable\n",
    "a <- 5\n",
    "a_new <- a + 1 # If you run this line more than once, you WILL get six\n",
    "a_new\n"
   ]
  }
 ],
 "metadata": {
  "kernelspec": {
   "display_name": "R",
   "language": "R",
   "name": "ir"
  },
  "language_info": {
   "codemirror_mode": "r",
   "file_extension": ".r",
   "mimetype": "text/x-r-source",
   "name": "R",
   "pygments_lexer": "r",
   "version": "4.4.1"
  }
 },
 "nbformat": 4,
 "nbformat_minor": 5
}
