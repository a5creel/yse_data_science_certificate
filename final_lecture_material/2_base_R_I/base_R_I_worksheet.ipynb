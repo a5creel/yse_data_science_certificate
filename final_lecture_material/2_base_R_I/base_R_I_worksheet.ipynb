{
 "cells": [
  {
   "cell_type": "markdown",
   "id": "c41deddd",
   "metadata": {},
   "source": [
    "# Base R Part 1\n",
    "\n",
    "This is a Jupyter Notebook. It allows you to write both text (like this) and code (as shown below). The goal of this lecture is to familiarize you with basic commands in the R programming language.\n",
    "\n",
    "Use this Jupyter Notebook to take notes during the lecture. Fill it out with text, code, and comments while watching the video lecture to gain hands-on experience running your first code.\n",
    "\n",
    "Insert your own text and code blocks in this notebook while following the video lecture. This will help you learn by doing and serve as notes for future reference."
   ]
  },
  {
   "cell_type": "code",
   "execution_count": null,
   "id": "e60aeda5",
   "metadata": {
    "vscode": {
     "languageId": "r"
    }
   },
   "outputs": [],
   "source": [
    "# This is a comment in a code block"
   ]
  },
  {
   "cell_type": "markdown",
   "id": "80b074cd",
   "metadata": {},
   "source": [
    "This is markdown text. You will use both markdown and code blocks during this lecture. Markdown blocks are useful for taking notes."
   ]
  }
 ],
 "metadata": {
  "kernelspec": {
   "display_name": "R",
   "language": "R",
   "name": "ir"
  },
  "language_info": {
   "codemirror_mode": "r",
   "file_extension": ".r",
   "mimetype": "text/x-r-source",
   "name": "R",
   "pygments_lexer": "r",
   "version": "4.4.1"
  }
 },
 "nbformat": 4,
 "nbformat_minor": 5
}
