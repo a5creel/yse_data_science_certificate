{
 "cells": [
  {
   "cell_type": "markdown",
   "metadata": {},
   "source": [
    "# Data Manipulation and Visualization with Python\n",
    "\n",
    "Use this worksheet during the video lecture. For the sake of time, much of the dataframe construction is left. However, a lot of this notebooks still requires you to fill it in while watching the lecture video! \n",
    "\n",
    "In this notebook, we will cover data manipulation and visualization using Python. We will use the pandas library for data manipulation and the matplotlib and seaborn libraries for data visualization.\n"
   ]
  },
  {
   "cell_type": "code",
   "execution_count": 1,
   "metadata": {},
   "outputs": [],
   "source": [
    "# Import necessary libraries\n",
    "import pandas as pd\n",
    "import numpy as np\n",
    "import matplotlib.pyplot as plt\n",
    "import seaborn as sns\n",
    "\n",
    "# Set seaborn style for plots\n",
    "sns.set(style=\"whitegrid\")"
   ]
  },
  {
   "cell_type": "markdown",
   "metadata": {},
   "source": [
    "# Reading in a Dataset and Gathering Basic Information\n",
    "\n",
    "Let's start by reading in a CSV file and gathering basic information about the dataset."
   ]
  },
  {
   "cell_type": "code",
   "execution_count": null,
   "metadata": {},
   "outputs": [],
   "source": [
    "# insert here "
   ]
  },
  {
   "cell_type": "markdown",
   "metadata": {},
   "source": [
    "## Basic Information about the DataFrame\n",
    "\n",
    "Here are some good ways to get basic information about a dataframe in Python:\n",
    "\n",
    "- `head()`: Displays the first few rows of the dataframe.\n",
    "- `tail()`: Displays the last few rows of the dataframe.\n",
    "- `shape`: Returns the dimensions of the dataframe (number of rows and columns).\n",
    "- `columns`: Returns the column names of the dataframe.\n",
    "- `info()`: Displays the structure of the dataframe, including data types and a preview of the data.\n",
    "- `describe()`: Provides summary statistics for each column in the dataframe."
   ]
  },
  {
   "cell_type": "code",
   "execution_count": null,
   "metadata": {},
   "outputs": [],
   "source": [
    "# insert here "
   ]
  },
  {
   "cell_type": "markdown",
   "metadata": {},
   "source": [
    "# Data Manipulation with Pandas\n",
    "\n",
    "We will now cover some basic data manipulation techniques using the pandas library."
   ]
  },
  {
   "cell_type": "code",
   "execution_count": null,
   "metadata": {},
   "outputs": [],
   "source": [
    "# Create a sample \"dictionary\" object\n",
    "data = {\n",
    "    'name': ['Andie', 'Bridger', 'Scott'],\n",
    "    'gender': ['Female', 'non-binary', 'Male'],\n",
    "    'male': [False, False, True],\n",
    "    'income_cat': ['middle', 'poor', 'rich'],\n",
    "    'park_dist': [1.0, 0.5, 0.1]\n",
    "}\n",
    "\n",
    "data\n"
   ]
  },
  {
   "cell_type": "code",
   "execution_count": null,
   "metadata": {},
   "outputs": [],
   "source": [
    "# turn the dictionary into a pandas dataframe (insert here)"
   ]
  },
  {
   "cell_type": "markdown",
   "metadata": {},
   "source": [
    "## `assign()`\n",
    "\n",
    "The `assign()` method can be used to add new columns or modify existing ones."
   ]
  },
  {
   "cell_type": "code",
   "execution_count": null,
   "metadata": {},
   "outputs": [],
   "source": [
    "# insert here"
   ]
  },
  {
   "cell_type": "markdown",
   "metadata": {},
   "source": [
    "## `np.where()`\n",
    "\n",
    "The `np.where()` function can be used to conditionally modify values in a dataframe."
   ]
  },
  {
   "cell_type": "code",
   "execution_count": null,
   "metadata": {},
   "outputs": [],
   "source": [
    "# insert here"
   ]
  },
  {
   "cell_type": "markdown",
   "metadata": {},
   "source": [
    "## filter with conditional statements\n",
    "\n",
    "Filtering rows in a dataframe can be done using boolean indexing."
   ]
  },
  {
   "cell_type": "code",
   "execution_count": null,
   "metadata": {},
   "outputs": [],
   "source": [
    "# Filter rows where pollution_level is 'Low'\n",
    "df_env_data = pd.DataFrame({\n",
    "    'ecosystem': ['Forest', 'Desert', 'Wetland', 'Grassland', 'Urban'],\n",
    "    'species_richness': [120, 45, 80, 60, 30],\n",
    "    'pollution_level': ['Low', 'High', 'Medium', 'Low', 'High']\n",
    "})\n",
    "\n",
    "# insert here"
   ]
  },
  {
   "cell_type": "markdown",
   "metadata": {},
   "source": [
    "## `dropna()`\n",
    "\n",
    "Dropping rows with missing values can be done using the `dropna()` method."
   ]
  },
  {
   "cell_type": "code",
   "execution_count": null,
   "metadata": {},
   "outputs": [],
   "source": [
    "# Drop rows with missing values in the 'ecosystem' column\n",
    "df_env_data_na = pd.DataFrame({\n",
    "    'ecosystem': ['Forest', 'Desert', 'Wetland', np.nan, 'Urban'],\n",
    "    'species_richness': [120, 45, 80, 60, 30],\n",
    "    'pollution_level': ['Low', 'High', 'Medium', 'Low', 'High']\n",
    "})\n",
    "\n",
    "# insert here"
   ]
  },
  {
   "cell_type": "markdown",
   "metadata": {},
   "source": [
    "## select with []\n",
    "\n",
    "Selecting specific columns can be done using square bracket notation"
   ]
  },
  {
   "cell_type": "code",
   "execution_count": null,
   "metadata": {},
   "outputs": [],
   "source": [
    "# insert here"
   ]
  },
  {
   "cell_type": "markdown",
   "metadata": {},
   "source": [
    "## `groupby()`\n",
    "\n",
    "Grouping data and calculating aggregate statistics can be done using the `groupby()` method."
   ]
  },
  {
   "cell_type": "code",
   "execution_count": null,
   "metadata": {},
   "outputs": [],
   "source": [
    "# Group by 'ecosystem' and calculate the mean species richness\n",
    "df_env_long = pd.DataFrame({\n",
    "    'ecosystem': ['Forest', 'Desert', 'Wetland', 'Grassland', 'Urban', 'Forest', 'Desert', 'Wetland', 'Grassland', 'Urban'],\n",
    "    'species_richness': [120, 45, 80, 60, 30, 110, 50, 85, 65, 35],\n",
    "    'pollution_level': ['Low', 'High', 'Medium', 'Low', 'High', 'Low', 'High', 'Medium', 'Low', 'High']\n",
    "})\n",
    "\n",
    "# insert here"
   ]
  },
  {
   "cell_type": "markdown",
   "metadata": {},
   "source": [
    "## `agg()`\n",
    "\n",
    "The `agg()` method can be used to apply multiple aggregation functions to grouped data."
   ]
  },
  {
   "cell_type": "code",
   "execution_count": null,
   "metadata": {},
   "outputs": [],
   "source": [
    "# insert here"
   ]
  },
  {
   "cell_type": "markdown",
   "metadata": {},
   "source": [
    "# Basic Data Visualization\n",
    "\n",
    "Unlike R where using the ggplot2 package has become the dominant way to make plots, Python has many way to visualize data. Below, we go through one example. We will end the lecture here today, but the code it provided below so that you have an example. You should explore it on your own! "
   ]
  },
  {
   "cell_type": "code",
   "execution_count": null,
   "metadata": {},
   "outputs": [],
   "source": [
    "# Histogram\n",
    "plt.figure(figsize=(10, 6))\n",
    "sns.histplot(df['hwy'], bins=10, kde=False, color='black')\n",
    "plt.title('Distribution of Highway Miles per Gallon')\n",
    "plt.xlabel('Highway Miles per Gallon')\n",
    "plt.ylabel('Count')\n",
    "plt.show()"
   ]
  },
  {
   "cell_type": "code",
   "execution_count": null,
   "metadata": {},
   "outputs": [],
   "source": [
    "# Box plot\n",
    "plt.figure(figsize=(10, 6))\n",
    "sns.boxplot(x='cyl', y='hwy', data=df)\n",
    "plt.title('Highway MPG Distribution by Cylinder Count')\n",
    "plt.xlabel('Number of Cylinders')\n",
    "plt.ylabel('Highway Miles per Gallon')\n",
    "plt.show()"
   ]
  },
  {
   "cell_type": "code",
   "execution_count": null,
   "metadata": {},
   "outputs": [],
   "source": [
    "# Bar chart\n",
    "plt.figure(figsize=(10, 6))\n",
    "sns.countplot(x='manufacturer', data=df, color='black')\n",
    "plt.title('Number of Observations by Manufacturer')\n",
    "plt.xlabel('Manufacturer')\n",
    "plt.ylabel('Count')\n",
    "plt.xticks(rotation=90)\n",
    "plt.show()"
   ]
  },
  {
   "cell_type": "code",
   "execution_count": null,
   "metadata": {},
   "outputs": [],
   "source": [
    "# Scatter plot\n",
    "plt.figure(figsize=(10, 6))\n",
    "sns.scatterplot(x='displ', y='hwy', data=df)\n",
    "plt.title('Engine Displacement vs Highway MPG')\n",
    "plt.xlabel('Engine Displacement (litres)')\n",
    "plt.ylabel('Highway Miles per Gallon')\n",
    "plt.show()"
   ]
  },
  {
   "cell_type": "code",
   "execution_count": null,
   "metadata": {},
   "outputs": [],
   "source": [
    "# Scatter plot with color grouping\n",
    "plt.figure(figsize=(10, 6))\n",
    "sns.scatterplot(x='displ', y='hwy', hue='manufacturer', data=df)\n",
    "plt.title('Engine Displacement vs Highway MPG by Company')\n",
    "plt.xlabel('Engine Displacement (litres)')\n",
    "plt.ylabel('Highway Miles per Gallon')\n",
    "plt.legend(title='Company')\n",
    "plt.show()"
   ]
  },
  {
   "cell_type": "code",
   "execution_count": null,
   "metadata": {},
   "outputs": [],
   "source": [
    "# Facet plot\n",
    "g = sns.FacetGrid(df, col='manufacturer', col_wrap=4, height=4)\n",
    "g.map(sns.scatterplot, 'displ', 'hwy')\n",
    "g.set_axis_labels('Engine Displacement (litres)', 'Highway Miles per Gallon')\n",
    "g.fig.suptitle('Engine Displacement vs Highway MPG by Manufacturer', y=1.03)\n",
    "plt.show()"
   ]
  }
 ],
 "metadata": {
  "kernelspec": {
   "display_name": "Python (myenv)",
   "language": "python",
   "name": "myenv"
  },
  "language_info": {
   "codemirror_mode": {
    "name": "ipython",
    "version": 3
   },
   "file_extension": ".py",
   "mimetype": "text/x-python",
   "name": "python",
   "nbconvert_exporter": "python",
   "pygments_lexer": "ipython3",
   "version": "3.11.5"
  }
 },
 "nbformat": 4,
 "nbformat_minor": 2
}
