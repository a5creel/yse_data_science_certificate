{
 "cells": [
  {
   "cell_type": "markdown",
   "id": "c41deddd",
   "metadata": {},
   "source": [
    "# Data Manipulation with Tidyverse, Part I\n",
    "\n",
    "In this lecture and the next, we're going to go through a lot of different concepts. Remember, you can use the Complete Notebook as a reference fo all that we will cover in this lecture. \n",
    "\n",
    "The goal of this lecture and the next is:\n",
    "\n",
    "1) Learn about packages, the tidyverse\n",
    "2) Learn how to manipulate and clean data with tidyverse\n",
    "\n",
    "# Why is data manipulation important \n",
    "\n",
    "Presumably, we are all planning to do Environmental Data Science\n",
    "\n",
    "- We will have a hypothesis of how the world works\n",
    "- We will want to construct a model that approximates that \n",
    "- We will need data from real world to build that model that approximates the world\n",
    "- The data we have may not be set up to be plugged into the model we'd like to run\n",
    "- However, it could be *manipulated* so that we can use the data we have with the model we want\n",
    "\n",
    "My personal example: American Time Use Survey and Travel Cost Model, Cell Photo Data and green space\n",
    "\n",
    "# What are packages and how can I get them?\n",
    "\n",
    "**What are they:**\n",
    "\n",
    "- A package contains a bunch of pre-built functions \n",
    "- Anyone can load and use them\n",
    "- Saves you a ton of time because someone already figured out how to do it\n",
    "\n",
    "**Tidyverse**\n",
    "\n",
    "- Collection of R packages \n",
    "- All are meant for data science\n",
    "- Have shared syntax\n",
    "- Makes it easier to import, tidy, transform, visualize, and model data in R\n",
    "- Shout out to Hadley Wickham and co \n",
    "\n",
    "**Installing a package vs. loading a pacakge** \n",
    "\n",
    "- You only need to install a package on your local computer once (your lab has all the packages pre-installed)\n",
    "- You then \"load\" that package in a script when you want to use it using the `library(0)` command\n",
    "\n",
    "For reference, the code to install a package on you local computer is below. We do not need to run this code on each of our local machines. \n",
    "\n",
    "```r\n",
    "# installing packages that are a part of the tidyverse using r code\n",
    "install.packages(\"dplyr\")\n",
    "install.packages(\"tidyr\")\n",
    "install.packages(\"ggplot2\")\n",
    "```\n",
    "\n",
    "You can load packages after you've installed them with the library function"
   ]
  },
  {
   "cell_type": "code",
   "execution_count": 1,
   "id": "c592e851",
   "metadata": {
    "vscode": {
     "languageId": "r"
    }
   },
   "outputs": [],
   "source": [
    "# load dplyr, the package we will focus on today\n"
   ]
  },
  {
   "cell_type": "markdown",
   "id": "a89a3768",
   "metadata": {},
   "source": [
    "# Manipulating and cleaning with dplyr \n",
    "\n",
    "- dplyr is my most used package for data cleaning and manipulation \n",
    "- Going to introduce the primary functions in the dplyr package\n",
    "    - `mutate()`\n",
    "    - `if_else()`\n",
    "    - `filter()`\n",
    "    - `select()`\n",
    "    - `group_by()`\n",
    "    - `summarise()`\n",
    "- There are a million ways to implement these functions \n",
    "- Important for your solution strategy to know that these are the functions you can build around \n",
    "- I would say 90% of my data cleaning is different combinations of these functions\n",
    "- Why use dplyr instead of base R?\n",
    "    - It's faster and more memory efficient (good for large data sets)\n",
    "    - It's easier to read\n",
    "- Let's go through some examples of what we did in the Base R Lectures , but redo with dplyr code\n",
    "\n",
    "# `mutate()`\n",
    "Last lecture, everyone moved 1 mile futher from the park (bummer). We used a loop, like this"
   ]
  },
  {
   "cell_type": "code",
   "execution_count": 2,
   "id": "4b13dfa3",
   "metadata": {
    "vscode": {
     "languageId": "r"
    }
   },
   "outputs": [],
   "source": [
    "# Build our trusty dataset, but let's call this one myBase\n",
    "\n",
    "\n",
    "# create a second dataset that is identical to the first\n",
    "\n",
    "# check to make sure they're the same\n"
   ]
  },
  {
   "cell_type": "code",
   "execution_count": 3,
   "id": "306c3f2b",
   "metadata": {
    "vscode": {
     "languageId": "r"
    }
   },
   "outputs": [],
   "source": [
    "# Base R\n",
    "\n"
   ]
  },
  {
   "cell_type": "markdown",
   "id": "028904b1",
   "metadata": {},
   "source": [
    "Let's perform the same command with the `mutate()` function from the `dplyr` package."
   ]
  },
  {
   "cell_type": "code",
   "execution_count": 4,
   "id": "f5382fa4",
   "metadata": {
    "vscode": {
     "languageId": "r"
    }
   },
   "outputs": [],
   "source": [
    "# add mile to park dist using dplyr\n",
    "\n",
    "\n",
    "# use a boolean operator to show the two dfs are the same \n"
   ]
  },
  {
   "cell_type": "markdown",
   "id": "c36b4c1a",
   "metadata": {},
   "source": [
    "**New things introduced** \n",
    "\n",
    "- Pipes %>%: pipes take input (our dataframe) and passes it onto the next function. You can chain pipes together.\n",
    "- `mutate()` mutate is a function from the dplyr package \n",
    "- A data frame is piped to the function `mutate()` and then the function executes some small operation you gave it (park_dist +1) and returns the new value"
   ]
  },
  {
   "cell_type": "code",
   "execution_count": 5,
   "id": "122bc31f",
   "metadata": {
    "vscode": {
     "languageId": "r"
    }
   },
   "outputs": [],
   "source": [
    "# create a new column with mutate (rather than just changing original)\n"
   ]
  },
  {
   "cell_type": "markdown",
   "id": "fbe75375",
   "metadata": {},
   "source": [
    "**New things introduced** \n",
    "\n",
    "- `mutate()` can also construct a new a new column"
   ]
  },
  {
   "cell_type": "markdown",
   "id": "7123aa9c",
   "metadata": {},
   "source": [
    "# `if_else()`\n",
    "\n",
    "Last lecture, we said that women and non-binary people had their distances from parks recorded wrong. Non-male people were a quarter mile closer to the park than orginally recorded."
   ]
  },
  {
   "cell_type": "code",
   "execution_count": 6,
   "id": "47f73b9d",
   "metadata": {
    "vscode": {
     "languageId": "r"
    }
   },
   "outputs": [],
   "source": [
    "# goes through each row and changes distance if someone is not male\n"
   ]
  },
  {
   "cell_type": "markdown",
   "id": "ae9618cf",
   "metadata": {},
   "source": [
    "`dplyr` has an `if_else()` function "
   ]
  },
  {
   "cell_type": "code",
   "execution_count": 7,
   "id": "9cde4ae1",
   "metadata": {
    "vscode": {
     "languageId": "r"
    }
   },
   "outputs": [],
   "source": [
    "# correct distance using if_else\n",
    "\n"
   ]
  },
  {
   "cell_type": "markdown",
   "id": "16747bbc",
   "metadata": {},
   "source": [
    "**New things introduced** \n",
    "\n",
    "- `if_else()` combined with `mutate()`\n",
    "    - the first part is what you're evaluating to check if it's true (`male == FALSE`)\n",
    "    - Next entry is what to return if true (`park_dist - 0.25`)\n",
    "    - Final part is what to return if false (`park_dist`)"
   ]
  },
  {
   "cell_type": "markdown",
   "id": "b2902929",
   "metadata": {},
   "source": [
    "# `filter()`\n",
    "\n",
    "We haven't seen something like a filter command yet. The filter command is used when you have a data set, and want subset to only some observations conditioned on something. \n",
    "\n",
    "## Example One: Filter for a characteristicc\n",
    "Let's say we have observations of different ecosystems"
   ]
  },
  {
   "cell_type": "code",
   "execution_count": 8,
   "id": "d926fe44",
   "metadata": {
    "vscode": {
     "languageId": "r"
    }
   },
   "outputs": [],
   "source": [
    "# ecosystem dataset\n",
    "df_env_data <- data.frame(\n",
    "    ecosystem = c(\"Forest\", \"Desert\", \"Wetland\", \"Grassland\", \"Urban\"),\n",
    "    species_richness = c(120, 45, 80, 60, 30),\n",
    "    pollution_level = c(\"Low\", \"High\", \"Medium\", \"Low\", \"High\")\n",
    ")\n",
    "\n",
    "# display \n",
    "\n",
    "\n",
    "# filter to include only locations with low pollution levels\n",
    "\n",
    "\n",
    "# display the filtered dataset\n"
   ]
  },
  {
   "cell_type": "markdown",
   "id": "048bad35",
   "metadata": {},
   "source": [
    "## Example two: drop NAs\n",
    "You will frequently have datasets that have missing data (*i.e.,* the cell has a `NA` value). Many functions and models won't work with NAs, so they have to be cleaned out of the data set.\n",
    "\n",
    "Let's imagine we're missing a location for one of our ecosystem observations"
   ]
  },
  {
   "cell_type": "code",
   "execution_count": 9,
   "id": "c6de0b07",
   "metadata": {
    "vscode": {
     "languageId": "r"
    }
   },
   "outputs": [],
   "source": [
    "# ecosystem dataset but with NAs\n",
    "df_env_data_na <- data.frame(\n",
    "    ecosystem = c(\"Forest\", \"Desert\", \"Wetland\", NA, \"Urban\"),\n",
    "    species_richness = c(120, 45, 80, 60, 30),\n",
    "    pollution_level = c(\"Low\", \"High\", \"Medium\", \"Low\", \"High\")\n",
    ")\n",
    "\n",
    "# display the dataset with NAs\n",
    "\n",
    "\n",
    "# drop rows with NAs in the 'location' column using filter\n",
    "\n",
    "\n",
    "# display the cleaned dataset\n"
   ]
  },
  {
   "cell_type": "markdown",
   "id": "269e993a",
   "metadata": {},
   "source": [
    "# `select()`\n",
    "\n",
    "You have a data set with more columns than you need. Sometimes you want to only work with some of the variables, and it is space efficient to get rid of the rest. \n",
    "\n",
    "For example, let's say you're only interested in the polution at diffent locations, not the species richness. "
   ]
  },
  {
   "cell_type": "code",
   "execution_count": 10,
   "id": "4b1fbbb1",
   "metadata": {
    "vscode": {
     "languageId": "r"
    }
   },
   "outputs": [],
   "source": [
    "# select only the ecosystem and pollution_level columns\n",
    "\n",
    "\n",
    "# display the selected columns\n"
   ]
  },
  {
   "cell_type": "markdown",
   "id": "8fd7f33f",
   "metadata": {},
   "source": [
    "# `group_by()`\n",
    "\n",
    "Group by is useful for when you want to aggregate information up to a higher level. So, if you need a varaibel that is the average species richness by ecosystem rather than the species richness at individual sites.\n",
    "\n",
    "Let's work with a longer version of our ecosystem dataset  "
   ]
  },
  {
   "cell_type": "code",
   "execution_count": 11,
   "id": "7a02691b",
   "metadata": {
    "vscode": {
     "languageId": "r"
    }
   },
   "outputs": [],
   "source": [
    "# create an environmental dataset \n",
    "df_env_long <- data.frame(\n",
    "    ecosystem = c(\"Forest\", \"Desert\", \"Wetland\", \"Grassland\", \"Urban\", \"Forest\", \"Desert\", \"Wetland\", \"Grassland\", \"Urban\"),\n",
    "    species_richness = c(120, 45, 80, 60, 30, 110, 50, 85, 65, 35),\n",
    "    pollution_level = c(\"Low\", \"High\", \"Medium\", \"Low\", \"High\", \"Low\", \"High\", \"Medium\", \"Low\", \"High\")\n",
    ")\n",
    "\n",
    "# display the dataset\n",
    "\n",
    "\n",
    "# group by ecosystem and calculate the mean species richness\n",
    "\n",
    "\n",
    "# display the updated dataset with mean species richness\n"
   ]
  },
  {
   "cell_type": "markdown",
   "id": "dc99f6a7",
   "metadata": {
    "vscode": {
     "languageId": "r"
    }
   },
   "source": [
    "# `summarise()` \n",
    "Finally, the `summarise()` function can help you create summary tables. These are useful for getting a quick snapshot of data. Using them is particularly important when you have a large enough datset that you're unable to look at the dataset and glean insight (which, for me, happens if the dataset is longer than 5 observations)."
   ]
  },
  {
   "cell_type": "code",
   "execution_count": 12,
   "id": "17efdb1b",
   "metadata": {
    "vscode": {
     "languageId": "r"
    }
   },
   "outputs": [],
   "source": [
    "# group by ecosystem and calculate the mean and total species richness\n",
    "\n",
    "\n",
    "# display the summary table\n"
   ]
  }
 ],
 "metadata": {
  "kernelspec": {
   "display_name": "R",
   "language": "R",
   "name": "ir"
  },
  "language_info": {
   "codemirror_mode": "r",
   "file_extension": ".r",
   "mimetype": "text/x-r-source",
   "name": "R",
   "pygments_lexer": "r",
   "version": "4.4.1"
  }
 },
 "nbformat": 4,
 "nbformat_minor": 5
}
