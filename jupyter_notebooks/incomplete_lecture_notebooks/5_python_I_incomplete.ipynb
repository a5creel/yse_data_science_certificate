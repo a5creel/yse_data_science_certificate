{
 "cells": [
  {
   "cell_type": "markdown",
   "id": "b898a7cf",
   "metadata": {},
   "source": [
    "# Coding is Just Coding \n",
    "\n",
    "Once you learn one coding language, you can read (and sometimes even write) in a lot of other coding languages. Today we're going to go through how to code what we did on the first day in Python (another popular coding language). The syntax is slightly different, but you can still read a lot of it. The point of this is to realize that if someone hands you a code script in a different language, you shouldn't freak out. \n",
    "\n",
    "Let's run our first line of code in Python."
   ]
  },
  {
   "cell_type": "code",
   "execution_count": null,
   "id": "f8c4671b",
   "metadata": {},
   "outputs": [],
   "source": []
  },
  {
   "cell_type": "markdown",
   "id": "9f22d39a",
   "metadata": {},
   "source": [
    "# Basic Data Types\n",
    "Let's revist our basic data types. "
   ]
  },
  {
   "cell_type": "code",
   "execution_count": null,
   "id": "ea948510",
   "metadata": {},
   "outputs": [],
   "source": [
    "# Run basic arithmatic \n"
   ]
  },
  {
   "cell_type": "code",
   "execution_count": null,
   "id": "dc55d8a5",
   "metadata": {},
   "outputs": [],
   "source": [
    "# variable assingment is done with an '=' sign, instead of the '<-' sign\n"
   ]
  },
  {
   "cell_type": "code",
   "execution_count": null,
   "id": "12d78df3",
   "metadata": {},
   "outputs": [],
   "source": [
    "# Let's change the value of a, demonstating that it's a variable\n"
   ]
  },
  {
   "cell_type": "markdown",
   "id": "131fab10",
   "metadata": {},
   "source": [
    "Now, let's revisit our basic data types."
   ]
  },
  {
   "cell_type": "code",
   "execution_count": null,
   "id": "d11a3a8b",
   "metadata": {},
   "outputs": [],
   "source": [
    "# Numeric -- integer: no decimal points\n",
    "\n",
    "\n",
    "# Numeric -- floating point: decimal points\n"
   ]
  },
  {
   "cell_type": "code",
   "execution_count": null,
   "id": "e4009725",
   "metadata": {},
   "outputs": [],
   "source": [
    "# character (string)\n",
    "\n",
    "\n"
   ]
  },
  {
   "cell_type": "code",
   "execution_count": null,
   "id": "d2b23bbf",
   "metadata": {},
   "outputs": [],
   "source": [
    "# logical (Boolean): a true/false statement. Use parentheses to evaluate if something is true or false\n"
   ]
  },
  {
   "cell_type": "code",
   "execution_count": null,
   "id": "59a58ce0",
   "metadata": {},
   "outputs": [],
   "source": [
    "# we can till have \"tricky\" variables like in R\n"
   ]
  },
  {
   "cell_type": "markdown",
   "id": "f8188b57",
   "metadata": {},
   "source": [
    "Now, with the print statement, we didn't see the '' symbol to remind us that `myChar_a` is a character data type. This is a feature of the `print()` and how it interacts with strings/character variables. \n",
    "\n",
    "With `trick_q` we did see the '' again because we  returned the variable at the end of the notebook cell (instead of using `print()`). Python's (and R's) ability to infer a variable's type without explicit type declarations is known as **dynamic typing**. \n",
    "\n",
    "In dynamically typed languages like Python and R, the type of a variable is determined at runtime, and you do not need to declare the type explicitly when you create the variable. This allows for more flexibility in coding, as the same variable can hold different types of data at different times during execution. However, you as the programmer need to be aware of what data type you intend your variable to be and make sure Python or R has inferred the data type correctly. "
   ]
  },
  {
   "cell_type": "markdown",
   "id": "bcab286a",
   "metadata": {},
   "source": [
    "# Ways to store datatypes  \n",
    "\n",
    "You will need the `numpy` package. NumPy is the main package for scientific computing in python. \n",
    "\n",
    "## Vectors and Matrices\n",
    "\n",
    "Notice that indexing in python starts at 0, rather than 1 (as it did in R). In python, we just use lists instead of vectors. "
   ]
  },
  {
   "cell_type": "code",
   "execution_count": null,
   "id": "15a806c4",
   "metadata": {},
   "outputs": [],
   "source": [
    "# import numpy as np\n",
    "\n",
    "# Lists can contain elements of different data types\n",
    "\n",
    "\n"
   ]
  },
  {
   "cell_type": "code",
   "execution_count": null,
   "id": "d7e0aa9d",
   "metadata": {},
   "outputs": [],
   "source": [
    "\n",
    "# NumPy array (similar to R matrix): should contain elements of the same data type\n",
    "# In this case, we're creating a 2x5 matrix\n",
    "# the . here works similar to %>% in dplyr \n"
   ]
  },
  {
   "cell_type": "markdown",
   "id": "e461cdc3",
   "metadata": {},
   "source": [
    "## Lists"
   ]
  },
  {
   "cell_type": "code",
   "execution_count": null,
   "id": "a6273eef",
   "metadata": {},
   "outputs": [],
   "source": [
    "# Lists: Can contain elements of different data types, including other lists or arrays\n",
    "\n",
    "# Accessing the first element of the list\n"
   ]
  },
  {
   "cell_type": "code",
   "execution_count": null,
   "id": "059fe833",
   "metadata": {},
   "outputs": [],
   "source": []
  },
  {
   "cell_type": "code",
   "execution_count": null,
   "id": "e9f6385e",
   "metadata": {},
   "outputs": [],
   "source": []
  },
  {
   "cell_type": "markdown",
   "id": "91226884",
   "metadata": {},
   "source": [
    "## Dataframes\n",
    "\n",
    "To work with data frames, we need to install and load the `pandas` package. "
   ]
  },
  {
   "cell_type": "code",
   "execution_count": null,
   "id": "63e0bdf9",
   "metadata": {},
   "outputs": [],
   "source": [
    "# import pandas as pd\n",
    "\n",
    "# Create a DataFrame from the NumPy array\n",
    "\n"
   ]
  },
  {
   "cell_type": "code",
   "execution_count": null,
   "id": "9fb8b7e2",
   "metadata": {},
   "outputs": [],
   "source": [
    "# Print column names (initially they are just integer indices)\n"
   ]
  },
  {
   "cell_type": "markdown",
   "id": "054e4e84",
   "metadata": {},
   "source": [
    "Unlike R, python automatically names unamed columns with integrers. But like R, these are not informative. "
   ]
  },
  {
   "cell_type": "code",
   "execution_count": null,
   "id": "033456c0",
   "metadata": {},
   "outputs": [],
   "source": [
    "# Rename the columns \n"
   ]
  },
  {
   "cell_type": "markdown",
   "id": "a422985d",
   "metadata": {},
   "source": [
    "There are two ways too look at columns in Python. `[]` notation and then `.` notation. The bracket notation is the same as R (except the index starts at 0 instead of 1). The period notation is similar to the $ notation. "
   ]
  },
  {
   "cell_type": "code",
   "execution_count": null,
   "id": "017f8aac",
   "metadata": {},
   "outputs": [],
   "source": [
    "# investigate one column with [] notation\n"
   ]
  },
  {
   "cell_type": "code",
   "execution_count": null,
   "id": "f918c577",
   "metadata": {},
   "outputs": [],
   "source": [
    "# investigate one column with . notation\n"
   ]
  },
  {
   "cell_type": "code",
   "execution_count": null,
   "id": "f0f61d41",
   "metadata": {},
   "outputs": [],
   "source": [
    "# Create a new column (you can only create a column with the [] notation)\n"
   ]
  },
  {
   "cell_type": "markdown",
   "id": "61988f7b",
   "metadata": {},
   "source": [
    "### Example \n",
    "Let's build a DataFrame with multiple data types "
   ]
  },
  {
   "cell_type": "code",
   "execution_count": null,
   "id": "582bc3a0",
   "metadata": {},
   "outputs": [],
   "source": [
    "# Create the DataFrame\n",
    "\n",
    "\n"
   ]
  },
  {
   "cell_type": "markdown",
   "id": "5fbb7b87",
   "metadata": {},
   "source": [
    "Now that we have a dataframe, let's reference column and rows and cells in our multiple ways. "
   ]
  },
  {
   "cell_type": "code",
   "execution_count": null,
   "id": "7991db66",
   "metadata": {},
   "outputs": [],
   "source": [
    "# Accessing a column using the . notation\n"
   ]
  },
  {
   "cell_type": "code",
   "execution_count": null,
   "id": "81a999c0",
   "metadata": {},
   "outputs": [],
   "source": [
    "# Accessing a column using the [] notation\n"
   ]
  },
  {
   "cell_type": "markdown",
   "id": "91b6085d",
   "metadata": {
    "vscode": {
     "languageId": "markdown"
    }
   },
   "source": [
    "### `.iloc[]` Pandas\n",
    "\n",
    "In pandas, `.iloc` and `.loc` are essential tools for data manipulation and retrieval within DataFrames. \n",
    "They allow you to access and modify data in a DataFrame in different ways.\n",
    "\n",
    "`.iloc[]` is primarily used for integer-location based indexing. It allows you to select rows and columns by their integer positions (i.e., their index numbers). This is useful when you know the exact positions of the rows and columns you want to access.\n",
    "\n",
    "`.loc[]`can be used with index based locating and names.\n"
   ]
  },
  {
   "cell_type": "code",
   "execution_count": null,
   "id": "af5bd87e",
   "metadata": {},
   "outputs": [],
   "source": [
    "# Access the first row using .iloc[]\n"
   ]
  },
  {
   "cell_type": "markdown",
   "id": "d7bebb69",
   "metadata": {},
   "source": [
    "We can also use `.iloc[]` to reference a single cell."
   ]
  },
  {
   "cell_type": "code",
   "execution_count": null,
   "id": "71b94e86",
   "metadata": {},
   "outputs": [],
   "source": [
    "# Access the first row of the 'name' column using .iloc[]\n",
    "\n",
    "# Access the first row of the 'name' column using .loc[]\n"
   ]
  },
  {
   "cell_type": "code",
   "execution_count": null,
   "id": "055b21ae",
   "metadata": {},
   "outputs": [],
   "source": [
    "# Access the second row of the 'name' column using .loc[]\n"
   ]
  },
  {
   "cell_type": "markdown",
   "id": "16097390",
   "metadata": {},
   "source": [
    "# Functions\n",
    "\n",
    "`def` stands for definition. The syntax for writing a function is different, and is a good example of how white space is important in python (notice that there are no parentheses).\n",
    "\n",
    "Let's revisit our function that models the relationship between the probability of\n",
    "someone visiting a national park and the temperature (F). You know that people don’t visit the\n",
    "park when it’s very cold, nor when it’s very hot. You model the relationship using the following\n",
    "quadratic equation\n",
    "$$ v = F/100 - (F/100)^2$$\n",
    "\n",
    "where v is visits and F is the temperature.\n",
    "\n",
    "We want to define a function that gets the temperature F and returns the predicted number of trips\n",
    "taken v."
   ]
  },
  {
   "cell_type": "code",
   "execution_count": null,
   "id": "98ede072",
   "metadata": {},
   "outputs": [],
   "source": [
    "# define get_visits function that takes F and returns the number of visits\n"
   ]
  },
  {
   "cell_type": "markdown",
   "id": "05bbf947",
   "metadata": {},
   "source": [
    "We will come back to this after loops! "
   ]
  },
  {
   "cell_type": "markdown",
   "id": "0598f86d",
   "metadata": {},
   "source": [
    "# Loops \n",
    "\n",
    "Loops are another example where you can read the code even if you don't know python. However, they have some differnt syntax with the range function, specifically that the last value is excluded. \n",
    "\n",
    "It's also important to remember when iteracting over a dataframe, the first row or column is indexed with a 0. \n"
   ]
  },
  {
   "cell_type": "code",
   "execution_count": null,
   "id": "95ac71e9",
   "metadata": {},
   "outputs": [],
   "source": [
    "# loop: range(start, stop) in Python is inclusive of start and exclusive of stop\n"
   ]
  },
  {
   "cell_type": "markdown",
   "id": "a3b3fda4",
   "metadata": {},
   "source": [
    "## Combining a loop with a function"
   ]
  },
  {
   "cell_type": "code",
   "execution_count": null,
   "id": "32ea3cf4",
   "metadata": {},
   "outputs": [],
   "source": [
    "# create the vector to iterate over: np.linspace(start, stop, num) creates a vector of 'num' elements from 'start' to 'stop'\n",
    "\n",
    "# loop"
   ]
  },
  {
   "cell_type": "markdown",
   "id": "32607f49",
   "metadata": {},
   "source": [
    "# If Else Statement\n",
    "\n",
    "Let's say we want to create a clasification to say if someone is close or far to a park. We can iterate over our dataframe and use an if-else statement.\n",
    "\n",
    "The major thing we need to be aware with in Python is use of the `.loc` funciton, which let's us reference cells with their column names and row index. "
   ]
  },
  {
   "cell_type": "code",
   "execution_count": null,
   "id": "c8b937c8",
   "metadata": {},
   "outputs": [],
   "source": [
    "# Create a new var for park distance using if \n"
   ]
  }
 ],
 "metadata": {
  "kernelspec": {
   "display_name": "Python (myenv)",
   "language": "python",
   "name": "myenv"
  },
  "language_info": {
   "codemirror_mode": {
    "name": "ipython",
    "version": 3
   },
   "file_extension": ".py",
   "mimetype": "text/x-python",
   "name": "python",
   "nbconvert_exporter": "python",
   "pygments_lexer": "ipython3",
   "version": "3.11.5"
  }
 },
 "nbformat": 4,
 "nbformat_minor": 5
}
