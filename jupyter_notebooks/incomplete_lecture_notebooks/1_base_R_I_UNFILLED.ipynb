{
 "cells": [
  {
   "cell_type": "markdown",
   "id": "c41deddd",
   "metadata": {},
   "source": [
    "# Base R Part 1\n",
    "This is a Jupyter Notebook. Essentially, this is a file where you can both write text (like this) and code (as you will see below). The goal of this lecture is to get you comfortable with basic commands in the R programming language, which we will call R for short.\n"
   ]
  },
  {
   "cell_type": "markdown",
   "id": "09e98073",
   "metadata": {},
   "source": [
    "# Comments and Basic Data Types\n",
    "In this first section, we will dicsuss writing comments and learn about basic data types (numeric, logical, character, boolean).\n"
   ]
  },
  {
   "cell_type": "code",
   "execution_count": 1,
   "id": "7644f454",
   "metadata": {
    "vscode": {
     "languageId": "r"
    }
   },
   "outputs": [],
   "source": [
    "# This is a comment, you can use '#' to write notes to yourself in your code\n",
    "# - Comments can make or break good coders\n",
    "# - Good comments also create coders who can collaborate with others\n",
    "# - If you ever think you're writing \"too\" many comments, you are not\n",
    "# - The things you think are obvious in your code won't be to others\n",
    "# - (nor yourself in a year when you get back to a project)"
   ]
  },
  {
   "cell_type": "code",
   "execution_count": null,
   "id": "22ad6332",
   "metadata": {
    "vscode": {
     "languageId": "r"
    }
   },
   "outputs": [],
   "source": [
    "# Comments are written in the same spot as code\n",
    "# But they are ignored by the computer\n",
    "\n",
    "# Let's run some code\n"
   ]
  },
  {
   "cell_type": "markdown",
   "id": "0f6e26b0",
   "metadata": {},
   "source": [
    "Congrats! You just ran your first line of code and joined the thousands of people whos first line of code was \"Hello, World!\" as well. Welcome to the tradition. \n",
    "\n",
    "Let's now run our first operation. "
   ]
  },
  {
   "cell_type": "code",
   "execution_count": null,
   "id": "bb0ed3e2",
   "metadata": {
    "vscode": {
     "languageId": "r"
    }
   },
   "outputs": [],
   "source": []
  },
  {
   "cell_type": "markdown",
   "id": "39ab9732",
   "metadata": {},
   "source": [
    "We can see below our code block that the code block \"returned\" 5. This means that the computer \"excuted\" the line of code `2 + 5`. \n",
    "\n",
    "Now, let's create a variable and store a value in it. Creating variables is a core piece of programming. "
   ]
  },
  {
   "cell_type": "code",
   "execution_count": null,
   "id": "05d64105",
   "metadata": {
    "vscode": {
     "languageId": "r"
    }
   },
   "outputs": [],
   "source": [
    "# in R, we assign a value to a variable with the following arrow sympol: <-\n",
    "\n"
   ]
  },
  {
   "cell_type": "code",
   "execution_count": null,
   "id": "c727e7cd",
   "metadata": {
    "vscode": {
     "languageId": "r"
    }
   },
   "outputs": [],
   "source": [
    "# The nice this about a variable is that we can change the value assigned\n",
    "\n",
    "# Let's change the value of our variable a\n"
   ]
  },
  {
   "cell_type": "markdown",
   "id": "223202de",
   "metadata": {},
   "source": [
    "Let's now discuss some basic data types. "
   ]
  },
  {
   "cell_type": "code",
   "execution_count": null,
   "id": "5b97b8fe",
   "metadata": {
    "vscode": {
     "languageId": "r"
    }
   },
   "outputs": [],
   "source": [
    "# Numeric -- integer: no decimal points\n",
    "\n",
    "\n",
    "# Numeric -- double/float: decimal points\n"
   ]
  },
  {
   "cell_type": "code",
   "execution_count": null,
   "id": "2f53f00a",
   "metadata": {
    "vscode": {
     "languageId": "r"
    }
   },
   "outputs": [],
   "source": [
    "# character (string)\n"
   ]
  },
  {
   "cell_type": "code",
   "execution_count": null,
   "id": "9e5f855d",
   "metadata": {
    "vscode": {
     "languageId": "r"
    }
   },
   "outputs": [],
   "source": [
    "# You can have a variable that stores a character value,\n",
    "# but the character value is a number\n",
    "\n"
   ]
  },
  {
   "cell_type": "markdown",
   "id": "6b8864c6",
   "metadata": {},
   "source": [
    "Notice that the `'1'` has quotation marks around it, as the `'a'` and `'b'` did. This indicates to us that it is a character data type. When you look at the output of `myInt`, it also returns `1` but without the tick marks because `myInt` is a numeric variable and `trick_q` is a character (or string) variable.\n"
   ]
  },
  {
   "cell_type": "code",
   "execution_count": null,
   "id": "aaa4e939",
   "metadata": {
    "vscode": {
     "languageId": "r"
    }
   },
   "outputs": [],
   "source": [
    "# logical (Boolean/Indicator variable): a true/false statement. \n",
    "# Use () to evaluate if something is true or false\n"
   ]
  },
  {
   "cell_type": "markdown",
   "id": "c3781db2",
   "metadata": {},
   "source": [
    "## Ways to store data types \n"
   ]
  },
  {
   "cell_type": "code",
   "execution_count": null,
   "id": "f85d8757",
   "metadata": {
    "vscode": {
     "languageId": "r"
    }
   },
   "outputs": [],
   "source": [
    "# Vector: can only be a vector of one data type (numeric, logical, string)\n",
    "\n",
    "# numeric vector\n",
    "\n",
    "\n",
    "# string vector\n",
    "\n",
    "\n",
    "# tricky! But a string  \n"
   ]
  },
  {
   "cell_type": "markdown",
   "id": "ea0670dd",
   "metadata": {},
   "source": [
    "Vectors are a useful way to store multiple observations. However, they only a single column of information. In EDS, we are interested in relating different variables to one another (*i.e.,* How does temperature affect lion's hunting success rate?)\n",
    "\n",
    "Two relate multiple variables together, we need make collections of data. The most basic way to do this is a **matrix**. "
   ]
  },
  {
   "cell_type": "code",
   "execution_count": null,
   "id": "f58486da",
   "metadata": {
    "vscode": {
     "languageId": "r"
    }
   },
   "outputs": [],
   "source": [
    "# We already have a vector of numberic data\n",
    "\n",
    "\n",
    "# Matrix: should only be a matrix of one data type\n"
   ]
  },
  {
   "cell_type": "markdown",
   "id": "0755d1a4",
   "metadata": {},
   "source": [
    "We can also collect objects in a \"list\". Lists are very powerful, but more advanced. For now, just know that they also exist. "
   ]
  },
  {
   "cell_type": "code",
   "execution_count": null,
   "id": "a22a3412",
   "metadata": {
    "vscode": {
     "languageId": "r"
    }
   },
   "outputs": [],
   "source": [
    "# Lists: Very powerful, but somewhat confusing. For now, just know they exist\n"
   ]
  },
  {
   "cell_type": "markdown",
   "id": "673b7715",
   "metadata": {},
   "source": [
    "## Data Frames\n",
    "\n",
    "- Like matrices\n",
    "- Can have different data types in each column\n",
    "- Reference specific columns using the \"$\" operator, followed by the name of the column\n",
    "- For the most part, you’ll be loading new data by reading a CSV \n",
    "- You might have to create one at some point\n",
    "- By looking at how they’re created we can get a better sense of what goes into them\n",
    "\n",
    "Let's convert our matrix into a data frame. \n"
   ]
  },
  {
   "cell_type": "code",
   "execution_count": null,
   "id": "13b56bf7",
   "metadata": {
    "vscode": {
     "languageId": "r"
    }
   },
   "outputs": [],
   "source": [
    "# Data frame: can have multiple data types\n"
   ]
  },
  {
   "cell_type": "markdown",
   "id": "4f053f6e",
   "metadata": {},
   "source": [
    "These column names done mean anything to me. Let's assign some column names. Each column is a variable that you may have collected data. "
   ]
  },
  {
   "cell_type": "code",
   "execution_count": null,
   "id": "4338cfe5",
   "metadata": {
    "vscode": {
     "languageId": "r"
    }
   },
   "outputs": [],
   "source": []
  },
  {
   "cell_type": "markdown",
   "id": "a6f6c2a8",
   "metadata": {},
   "source": [
    "We can now look at a single column using the '$' operator. "
   ]
  },
  {
   "cell_type": "code",
   "execution_count": null,
   "id": "b2f379ff",
   "metadata": {
    "vscode": {
     "languageId": "r"
    }
   },
   "outputs": [],
   "source": [
    "# Investigate one column\n"
   ]
  },
  {
   "cell_type": "markdown",
   "id": "f21acd50",
   "metadata": {},
   "source": [
    "Let's create a new column. "
   ]
  },
  {
   "cell_type": "code",
   "execution_count": null,
   "id": "e4cef2f1",
   "metadata": {
    "vscode": {
     "languageId": "r"
    }
   },
   "outputs": [],
   "source": [
    "# Create a new column\n"
   ]
  },
  {
   "cell_type": "markdown",
   "id": "1e0d0bb3",
   "metadata": {},
   "source": [
    "Let's build a dataframe with multiple datatypes. (Our lion dataframe is only numeric columns)."
   ]
  },
  {
   "cell_type": "code",
   "execution_count": null,
   "id": "bff83cfe",
   "metadata": {
    "vscode": {
     "languageId": "r"
    }
   },
   "outputs": [],
   "source": [
    "# Create the data frame\n",
    "\n"
   ]
  },
  {
   "cell_type": "markdown",
   "id": "e64e1d88",
   "metadata": {},
   "source": [
    "Now that we have our dataframe built, we can reference columns in the data frame.\n",
    "\n",
    "First, there are multiple ways to refernce a column. The first is to refernce by the column name."
   ]
  },
  {
   "cell_type": "code",
   "execution_count": null,
   "id": "52115347",
   "metadata": {
    "vscode": {
     "languageId": "r"
    }
   },
   "outputs": [],
   "source": [
    "# Try referencing one column\n"
   ]
  },
  {
   "cell_type": "markdown",
   "id": "641ebc58",
   "metadata": {},
   "source": [
    "The second is the column number in the data frame using square bracket notation `[row, column]`"
   ]
  },
  {
   "cell_type": "code",
   "execution_count": null,
   "id": "e4f7e2ce",
   "metadata": {
    "vscode": {
     "languageId": "r"
    }
   },
   "outputs": [],
   "source": []
  },
  {
   "cell_type": "markdown",
   "id": "8c0cc52b",
   "metadata": {},
   "source": [
    "We can also reference a single row, instead of a column. "
   ]
  },
  {
   "cell_type": "code",
   "execution_count": null,
   "id": "09853d13",
   "metadata": {
    "vscode": {
     "languageId": "r"
    }
   },
   "outputs": [],
   "source": [
    "# Try referencing one row\n"
   ]
  },
  {
   "cell_type": "markdown",
   "id": "7d15782b",
   "metadata": {},
   "source": [
    "Finally, let's try to reference a single cell. Like referencing columns, there are two ways to do this. "
   ]
  },
  {
   "cell_type": "code",
   "execution_count": null,
   "id": "eb007aa0",
   "metadata": {
    "vscode": {
     "languageId": "r"
    }
   },
   "outputs": [],
   "source": [
    "# Try referencing one cell\n"
   ]
  },
  {
   "cell_type": "code",
   "execution_count": null,
   "id": "94b122a9",
   "metadata": {
    "vscode": {
     "languageId": "r"
    }
   },
   "outputs": [],
   "source": []
  },
  {
   "cell_type": "markdown",
   "id": "3c92e558",
   "metadata": {},
   "source": [
    "# A word of caution \n",
    "\n",
    "- Make sure you don't overwrite your variables by accident. \n"
   ]
  },
  {
   "cell_type": "code",
   "execution_count": null,
   "id": "a51cd9b1",
   "metadata": {
    "vscode": {
     "languageId": "r"
    }
   },
   "outputs": [],
   "source": [
    "# Assigning new value to same variable (something to do carefully)\n",
    "\n",
    "# Assigning new value to new variable\n",
    "\n"
   ]
  }
 ],
 "metadata": {
  "kernelspec": {
   "display_name": "R",
   "language": "R",
   "name": "ir"
  },
  "language_info": {
   "codemirror_mode": "r",
   "file_extension": ".r",
   "mimetype": "text/x-r-source",
   "name": "R",
   "pygments_lexer": "r",
   "version": "4.4.1"
  }
 },
 "nbformat": 4,
 "nbformat_minor": 5
}
