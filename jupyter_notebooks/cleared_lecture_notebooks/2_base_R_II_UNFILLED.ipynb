{
 "cells": [
  {
   "cell_type": "markdown",
   "id": "c41deddd",
   "metadata": {},
   "source": [
    "# Base R Part 2\n",
    "In this lecture we will cover some essential concepts around functions and flow control (loops, apply functions, if-else statements). We will also explore the distinction between global and local variables. We will finish with a short introduction to simulation (i.e., iteratively changing cells by calling previous cell). At the very end, we will breifly discuss error handling (*i.e.*, try-catch).\n",
    "\n",
    "Let'd pick up where we left off in Base R Part 1, with our data frame."
   ]
  },
  {
   "cell_type": "code",
   "execution_count": 2,
   "id": "d7435d99",
   "metadata": {
    "vscode": {
     "languageId": "r"
    }
   },
   "outputs": [],
   "source": [
    "# Create the data frame\n",
    "\n"
   ]
  },
  {
   "cell_type": "markdown",
   "id": "4350071b",
   "metadata": {},
   "source": [
    "Remember how we can reference our columns, rows and cells \n",
    "\n",
    "- Column:\n",
    "    - Version One: `myPpl$var_name`\n",
    "    - Version One: `myPpl[, j]` where `j` is our column number \n",
    "- Row: `myPpl[i, ]` where `i` is our row number\n",
    "- Cell: `myPpl[i,j]`\n"
   ]
  },
  {
   "cell_type": "markdown",
   "id": "d53a6e5a",
   "metadata": {},
   "source": [
    "# Functions\n",
    "\n",
    "Functions: once you have initialized them, they take in an input, perform a set of operations on them, and\n",
    "then give you some return value.\n",
    "\n",
    "These are helpful when you have something that you do often\n",
    "\n",
    "- Recent example for me\n",
    "    - Wrote a function to take a date and return the season\n",
    "    - Wrote a function to get kelvin and return \n",
    "- Rule of thumb: if you’re copying and pasting code 3 times or more, make function\n",
    "- I say if you are going to copy past ever, because even if you think it’ll only be twice it’ll probably be more\n",
    "\n",
    "## Psuedo Code Example \n",
    "\n",
    "my function: y = x + 3; return y \n",
    "\n",
    "If you gave this function x=3, what would it return for y? \n",
    "\n",
    "## Let's write a function\n",
    "Let's say we want to write a function that models the relationship between the probability of someone visiting a national park and the temperature (F). You know that people don't visit the park when it's very cold, nor when it's very hot. You model the relationship using the following quadratic equation \n",
    "$$v = F/100 - (F/100)^2$$\n",
    "where $v$ is visits and $F$ is the temperature. \n",
    "\n",
    "We want to get the function the temperature $F$ and have it return the predicted number of trips taken $v$. "
   ]
  },
  {
   "cell_type": "code",
   "execution_count": 3,
   "id": "ba1115d6",
   "metadata": {
    "vscode": {
     "languageId": "r"
    }
   },
   "outputs": [],
   "source": [
    "# write function \n",
    "\n",
    "\n",
    "# test function\n",
    "\n"
   ]
  },
  {
   "cell_type": "markdown",
   "id": "3ec56151",
   "metadata": {},
   "source": [
    "So we can see that as the temperature increases from 0F to 50F, the probability of someone taking a trip increases up to 25\\%. However, after 50F, the probability of taking a trip begins to decrease. "
   ]
  },
  {
   "cell_type": "markdown",
   "id": "8295fbdb",
   "metadata": {},
   "source": [
    "# Global vs Local Variables\n",
    "\n",
    "In most programming languages (including R and Python), variables can have different scopes, meaning they can be either global or local. Understanding the distinction between global and local variables is crucial for writing functions and controlling the flow of your code.\n",
    "\n",
    "- **Global Variables**: These are variables that are defined in the main body of your script and can be accessed from anywhere in the script.\n",
    "- **Local Variables**: These are variables that are defined within a function and can only be accessed from within that function.\n",
    "\n",
    "Let's look at an example to illustrate this distinction."
   ]
  },
  {
   "cell_type": "code",
   "execution_count": 4,
   "id": "3d896bf7",
   "metadata": {
    "vscode": {
     "languageId": "r"
    }
   },
   "outputs": [],
   "source": [
    "# Global variable\n",
    "\n",
    "# Function to demonstrate local variable\n",
    "\n",
    "# Call the function\n",
    "\n",
    "# Try to print the local variable outside the function (this will cause an error)\n"
   ]
  },
  {
   "cell_type": "markdown",
   "id": "65a26725",
   "metadata": {},
   "source": [
    "# Error Handling\n",
    "Now that we have purposefully thrown an errow, we can discuss error handeling. \n",
    "\n",
    "Error handling is an important aspect of programming that allows you to manage and respond to errors in a controlled way. In R, you can use functions like `try()` and `tryCatch()` to handle errors. These are very useful to use in loops or apply functions, when your concerned some observations may cause an error but you'd like your code to attempt all iterations. \n",
    "\n",
    "- **try()**: This function allows you to run a piece of code and catch any errors that occur.\n",
    "    - It returns the result of the code if it runs successfully, or an error object if an error occurs.\n",
    "    - By returning an error object, your able to keep moving forward.\n",
    "- **tryCatch()**: This function provides more control over error handling by allowing you to specify different actions for different types of conditions (errors, warnings, messages).\n",
    "\n",
    "## How to handle errors for now (the less technical way)\n",
    "\n",
    "While we won't go into detailed examples here, it's important to be aware of these functions and how they can be used to make your code more robust and error-tolerant.\n",
    "\n",
    "As a beginner programmer, encountering errors is a common and essential part of the learning process. Here are some strategies to effectively address errors:\n",
    "\n",
    "1. **Read Error Messages Carefully**:\n",
    "    - Error messages often provide valuable information about what went wrong and where. Take the time to read and understand them.\n",
    "\n",
    "2. **Google the Error**:\n",
    "    - Copy and paste the error message into a search engine. Often, you will find forums, blog posts, or documentation that address similar issues.\n",
    "\n",
    "3. **Use Stack Overflow**:\n",
    "    - Stack Overflow is a popular platform where developers ask and answer programming questions. Search for your error or ask a new question if you can't find a solution. Be sure to provide a clear and concise description of your problem, including relevant code snippets.\n",
    "\n",
    "4. **Consult Documentation**:\n",
    "    - Official documentation for the programming language or library you are using can be very helpful. It often includes examples and explanations of common errors.\n",
    "\n",
    "5. **Cautiously Leverage AI Tools**:\n",
    "    - AI tools like ChatGPT can provide code suggestions and help identify potential issues in your code. These tools can be particularly useful for beginners who are still learning the syntax and best practices.\n",
    "    - However, be **very careful** to not use these resources as a crutch. If you depend on them too much, you will miss the opportunity to learn how to code for yourself!\n",
    "\n",
    "6. **Ask for Help**:\n",
    "    - Don't hesitate to ask for help from more experienced programmers, whether they are colleagues, mentors, or members of online communities. Providing a clear explanation of your problem and what you have tried so far will increase your chances of getting useful assistance and is a good exercise in identifying your problem.\n",
    "\n",
    "7. **Practice Debugging**:\n",
    "    - Debugging is a skill that improves with practice.\n",
    "    - It sometimes feels like suffering, but you will become a better programming by struggling through your own errors. \n",
    "\n",
    "\n"
   ]
  },
  {
   "cell_type": "markdown",
   "id": "1fd3f450",
   "metadata": {},
   "source": [
    "# Loops\n",
    "\n",
    "- for loops: iterates through a task for a set number of times\n",
    "- Consider these loops (psuedo code):\n",
    "    - For (i in 1 through 4) { print i }\n",
    "    - For (i in 1 through 4) { print i / 4}\n",
    "- Can be helpful when\n",
    "    - Iterating through a column of data and do something to each row\n",
    "    - Construct a new column and want to construct each row by scratch\n",
    "    - Simulation model"
   ]
  },
  {
   "cell_type": "code",
   "execution_count": 5,
   "id": "ba8d2800",
   "metadata": {
    "vscode": {
     "languageId": "r"
    }
   },
   "outputs": [],
   "source": [
    "# Complicated code that is simplified by the loop\n"
   ]
  },
  {
   "cell_type": "code",
   "execution_count": 6,
   "id": "da6cf699",
   "metadata": {
    "vscode": {
     "languageId": "r"
    }
   },
   "outputs": [],
   "source": [
    "# the following loop does the exact same thing\n"
   ]
  },
  {
   "cell_type": "code",
   "execution_count": 7,
   "id": "7720e7cf",
   "metadata": {
    "vscode": {
     "languageId": "r"
    }
   },
   "outputs": [],
   "source": [
    "# Operations or code run outside of a for loop can be run inside of a for loop\n"
   ]
  },
  {
   "cell_type": "markdown",
   "id": "706d35fd",
   "metadata": {},
   "source": [
    "## Let's combine a loop with our earlier function"
   ]
  },
  {
   "cell_type": "code",
   "execution_count": 8,
   "id": "d474cdac",
   "metadata": {
    "vscode": {
     "languageId": "r"
    }
   },
   "outputs": [],
   "source": [
    "# First, let's create a vector of the max_temps we want to get visits for\n",
    "\n",
    "\n",
    "# combining loop and our function\n"
   ]
  },
  {
   "cell_type": "markdown",
   "id": "f5e0b637",
   "metadata": {},
   "source": [
    "## Interating over a data frame\n",
    "Let's recall our data fram `myPpl`. We can use a for loop to iteratively change each cell in a column. \n",
    "\n",
    "Let's say all three of our people, Andie, Bridger and Scott, move one mile away from their nearest park (bummer). We could do this one line at at time, like this:"
   ]
  },
  {
   "cell_type": "code",
   "execution_count": 9,
   "id": "e26df1e7",
   "metadata": {
    "vscode": {
     "languageId": "r"
    }
   },
   "outputs": [],
   "source": [
    "# the [i] here is indicating which row we are editing\n",
    "\n",
    "# print df\n"
   ]
  },
  {
   "cell_type": "markdown",
   "id": "59bb76c5",
   "metadata": {},
   "source": [
    "This worked, but there is an easier way to do it with a loop. The loop will help minimize the chance of making an error and shorten the amount of code we need to write to acheive our goal."
   ]
  },
  {
   "cell_type": "code",
   "execution_count": 10,
   "id": "c9c452b5",
   "metadata": {
    "vscode": {
     "languageId": "r"
    }
   },
   "outputs": [],
   "source": [
    "# do the same thing with a loop instead of copy and pasting \n",
    "\n",
    "\n"
   ]
  },
  {
   "cell_type": "markdown",
   "id": "f39b1483",
   "metadata": {},
   "source": [
    "We can see that both versions (a versus b) worked the same. However, the for loop simplifies the approach. "
   ]
  },
  {
   "cell_type": "markdown",
   "id": "85d4fa6f",
   "metadata": {},
   "source": [
    "# Loops for Simulation "
   ]
  },
  {
   "cell_type": "code",
   "execution_count": 11,
   "id": "a0aa8eda",
   "metadata": {
    "vscode": {
     "languageId": "r"
    }
   },
   "outputs": [],
   "source": [
    "# Initialize parameters\n",
    "\n",
    "# Create a numeric vector for the 50 years we will simulate\n",
    "\n",
    "\n",
    "# Create a numeric vector for the 50 years of temperatures we will simulate\n",
    "\n",
    "# Simulate the temperature change over the n_year \n",
    "# notice this will start in year TWO\n",
    "\n",
    "# Create a data frame to store the results\n",
    "\n",
    "# Print the results\n"
   ]
  },
  {
   "cell_type": "code",
   "execution_count": 12,
   "id": "81ea05c6",
   "metadata": {
    "vscode": {
     "languageId": "r"
    }
   },
   "outputs": [],
   "source": [
    "# print tail "
   ]
  },
  {
   "cell_type": "code",
   "execution_count": 13,
   "id": "09b5c1de",
   "metadata": {
    "vscode": {
     "languageId": "r"
    }
   },
   "outputs": [],
   "source": [
    "# Plot the results\n"
   ]
  },
  {
   "cell_type": "markdown",
   "id": "095086ca",
   "metadata": {},
   "source": [
    "# Apply functions \n",
    "Apply functions in R are powerful tools for performing operations on data structures like vectors, lists, and data frames. They are often more efficient and concise than loops. Here is an example using the `apply()` function to calculate the mean of each column in a data frame.\n",
    "\n",
    "Say you are studying three national parks (Yellowstone, Glacier, and Yosemite). You have been collecting data at each, and you want to quickly find the average temperature at each site. \n",
    "\n",
    "Let's do this two ways. First, finding it for each row one line at a time. Second, using an apply function to iterate across the rows. \n"
   ]
  },
  {
   "cell_type": "code",
   "execution_count": 14,
   "id": "efc29a45",
   "metadata": {
    "vscode": {
     "languageId": "r"
    }
   },
   "outputs": [],
   "source": [
    "# Create a sample data frame\n"
   ]
  },
  {
   "cell_type": "code",
   "execution_count": 15,
   "id": "b3c73276",
   "metadata": {
    "vscode": {
     "languageId": "r"
    }
   },
   "outputs": [],
   "source": [
    "# Calculate the mean temperature for each park\n",
    "\n",
    "\n",
    "# Print the results\n"
   ]
  },
  {
   "cell_type": "markdown",
   "id": "b87eef21",
   "metadata": {},
   "source": [
    "Now let's use the `apply()` function to calculate the mean temperature for each park in a more efficient way.\n",
    "\n",
    "An apply funciton lets you quickly apply a function to either: \n",
    "\n",
    "1. every row in the dataframe \n",
    "2. every column in the dataframe \n",
    "\n",
    "In our case, we want the mean of every column. "
   ]
  },
  {
   "cell_type": "code",
   "execution_count": 16,
   "id": "5f4941af",
   "metadata": {
    "vscode": {
     "languageId": "r"
    }
   },
   "outputs": [],
   "source": [
    "# Calculate the mean temperature for each park using apply function\n",
    "\n",
    "# Print the results\n"
   ]
  },
  {
   "cell_type": "markdown",
   "id": "21eb423d",
   "metadata": {},
   "source": [
    "# If Else Statements \n",
    "\n",
    "- Sometimes you want to execute a task ONLY if a certain condition is met\n",
    "- Let's return to our myPpl dataset one last time (for today):\n",
    "    - Our RA did not record women and non-binary's *original* distances from parks correcly\n",
    "    - All women and non-binary people are actually 0.25 miles closer to parks than thought \n",
    "- What would the correct DF look like?\n",
    "    - If statements let you fix a mistake like this\n",
    "    - Also demonstrates why the Boolean (true/false or indicator) variable is so powerful"
   ]
  },
  {
   "cell_type": "code",
   "execution_count": 17,
   "id": "eaaf21d8",
   "metadata": {
    "vscode": {
     "languageId": "r"
    }
   },
   "outputs": [],
   "source": [
    "# goes through each row and changes distance if someone is not male\n"
   ]
  }
 ],
 "metadata": {
  "kernelspec": {
   "display_name": "R",
   "language": "R",
   "name": "ir"
  },
  "language_info": {
   "codemirror_mode": "r",
   "file_extension": ".r",
   "mimetype": "text/x-r-source",
   "name": "R",
   "pygments_lexer": "r",
   "version": "4.4.1"
  }
 },
 "nbformat": 4,
 "nbformat_minor": 5
}
