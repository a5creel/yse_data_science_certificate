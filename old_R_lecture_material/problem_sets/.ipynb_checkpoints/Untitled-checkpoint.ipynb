{
 "cells": [
  {
   "cell_type": "markdown",
   "id": "bf4b2b90",
   "metadata": {},
   "source": [
    "# Day 3 Mini Problem Set for Python\n",
    "\n",
    "## Introduction\n",
    "\n",
    "Try to solve each problem using day three's material and some minimal Googling. If you get stuck, please come to office hours which are 2-5pm in 301 prospect, room 101. \n",
    "\n",
    "\n",
    "This problem set should only take one hour. \n",
    "\n",
    "# Problem 1: Basic Operations\n",
    "\n",
    "Create two numeric variables with any values and perform basic arithmetic operations (addition, subtraction, multiplication, division) on them. Assign the result of a division to a new variable and print it.\n"
   ]
  },
  {
   "cell_type": "code",
   "execution_count": 1,
   "id": "c472d9c4",
   "metadata": {},
   "outputs": [
    {
     "name": "stdout",
     "output_type": "stream",
     "text": [
      "5\n",
      "-1\n",
      "6\n",
      "0.6666666666666666\n"
     ]
    }
   ],
   "source": [
    "a = 2\n",
    "b = 3\n",
    "\n",
    "print(a+b)\n",
    "print (a - b)\n",
    "print(a*b) \n",
    "\n",
    "c = a / b \n",
    "print(c)"
   ]
  },
  {
   "cell_type": "markdown",
   "id": "71af9ae1",
   "metadata": {},
   "source": [
    "# Problem 2: Working with Vectors \n",
    "Create a numeric vector with at least 5 elements. Compute the sum (`sum()`) and mean (`mean()`) of the vector. Use a logical comparison (true/false) within a for-loop to identify which elements of the vector are greater than the mean. You may need to use the `print()` command."
   ]
  },
  {
   "cell_type": "code",
   "execution_count": 5,
   "id": "f46dcc0f",
   "metadata": {},
   "outputs": [
    {
     "data": {
      "text/plain": [
       "[1, 2, 3, 4, 5]"
      ]
     },
     "execution_count": 5,
     "metadata": {},
     "output_type": "execute_result"
    }
   ],
   "source": [
    "c = [1,2,3,4,5]\n",
    "c"
   ]
  }
 ],
 "metadata": {
  "kernelspec": {
   "display_name": "Python 3 (ipykernel)",
   "language": "python",
   "name": "python3"
  },
  "language_info": {
   "codemirror_mode": {
    "name": "ipython",
    "version": 3
   },
   "file_extension": ".py",
   "mimetype": "text/x-python",
   "name": "python",
   "nbconvert_exporter": "python",
   "pygments_lexer": "ipython3",
   "version": "3.11.5"
  }
 },
 "nbformat": 4,
 "nbformat_minor": 5
}
